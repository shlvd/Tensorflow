{
  "nbformat": 4,
  "nbformat_minor": 0,
  "metadata": {
    "kernelspec": {
      "display_name": "Python 3",
      "language": "python",
      "name": "python3"
    },
    "language_info": {
      "codemirror_mode": {
        "name": "ipython",
        "version": 3
      },
      "file_extension": ".py",
      "mimetype": "text/x-python",
      "name": "python",
      "nbconvert_exporter": "python",
      "pygments_lexer": "ipython3",
      "version": "3.7.3"
    },
    "colab": {
      "name": "cnn_essential.ipynb",
      "version": "0.3.2",
      "provenance": [],
      "collapsed_sections": []
    }
  },
  "cells": [
    {
      "cell_type": "code",
      "metadata": {
        "id": "DoffE-SE2gkb",
        "colab_type": "code",
        "outputId": "c3a642d3-8788-43ac-9cd3-628c4b313d1e",
        "colab": {
          "base_uri": "https://localhost:8080/",
          "height": 51
        }
      },
      "source": [
        "import numpy as np\n",
        "\n",
        "\n",
        "def conv1d(x, w, p=0, s=1):\n",
        "    w_rot = np.array(w[::-1])\n",
        "    x_padded = np.array(x)\n",
        "    if p > 0:\n",
        "        zero_pad = np.zeros(shape=p)\n",
        "        x_padded = np.concatenate([zero_pad, x_padded, zero_pad])\n",
        "    res = []\n",
        "    for i in range(0, int(len(x)/s),s):\n",
        "        res.append(np.sum(x_padded[i:i+w_rot.shape[0]] * w_rot))\n",
        "    return np.array(res)\n",
        "\n",
        "## Testing:\n",
        "x = [1, 3, 2, 4, 5, 6, 1, 3]\n",
        "w = [1, 0, 3, 1, 2]\n",
        "print('Conv1d Implementation: ', \n",
        "      conv1d(x, w, p=2, s=1))\n",
        "print('Numpy Results:         ', \n",
        "      np.convolve(x, w, mode='same'))"
      ],
      "execution_count": 1,
      "outputs": [
        {
          "output_type": "stream",
          "text": [
            "Conv1d Implementation:  [ 5. 14. 16. 26. 24. 34. 19. 22.]\n",
            "Numpy Results:          [ 5 14 16 26 24 34 19 22]\n"
          ],
          "name": "stdout"
        }
      ]
    },
    {
      "cell_type": "code",
      "metadata": {
        "id": "BGKsu3VZ2gkh",
        "colab_type": "code",
        "outputId": "8ef00465-b557-43ec-d0ff-164e88a92cce",
        "colab": {
          "base_uri": "https://localhost:8080/",
          "height": 187
        }
      },
      "source": [
        "import numpy as np\n",
        "import scipy.signal\n",
        "\n",
        "\n",
        "def conv2d(X, W, p=(0,0), s=(1,1)):\n",
        "    W_rot = np.array(W)[::-1,::-1]\n",
        "    X_orig = np.array(X)\n",
        "    n1 = X_orig.shape[0] + 2*p[0]\n",
        "    n2 = X_orig.shape[1] + 2*p[1]\n",
        "    X_padded = np.zeros(shape=(n1,n2))\n",
        "    X_padded[p[0]:p[0] + X_orig.shape[0], \n",
        "             p[1]:p[1] + X_orig.shape[1]] = X_orig\n",
        "\n",
        "    res = []\n",
        "    for i in range(0, int((X_padded.shape[0] - \n",
        "                           W_rot.shape[0])/s[0])+1, s[0]):\n",
        "        res.append([])\n",
        "        for j in range(0, int((X_padded.shape[1] - \n",
        "                               W_rot.shape[1])/s[1])+1, s[1]):\n",
        "            X_sub = X_padded[i:i+W_rot.shape[0], j:j+W_rot.shape[1]]\n",
        "            res[-1].append(np.sum(X_sub * W_rot))\n",
        "    return(np.array(res))\n",
        "    \n",
        "X = [[1, 3, 2, 4], [5, 6, 1, 3], [1 , 2,0, 2], [3, 4, 3, 2]]\n",
        "W = [[1, 0, 3], [1, 2, 1], [0, 1, 1]]\n",
        "print('Conv2d Implementation: \\n', \n",
        "      conv2d(X, W, p=(1,1), s=(1,1)))\n",
        "\n",
        "print('Scipy Results:         \\n', \n",
        "      scipy.signal.convolve2d(X, W, mode='same'))"
      ],
      "execution_count": 2,
      "outputs": [
        {
          "output_type": "stream",
          "text": [
            "Conv2d Implementation: \n",
            " [[11. 25. 32. 13.]\n",
            " [19. 25. 24. 13.]\n",
            " [13. 28. 25. 17.]\n",
            " [11. 17. 14.  9.]]\n",
            "Scipy Results:         \n",
            " [[11 25 32 13]\n",
            " [19 25 24 13]\n",
            " [13 28 25 17]\n",
            " [11 17 14  9]]\n"
          ],
          "name": "stdout"
        }
      ]
    },
    {
      "cell_type": "code",
      "metadata": {
        "id": "bhJais_X2jFI",
        "colab_type": "code",
        "colab": {}
      },
      "source": [
        "def batch_generator(X, y, batch_size=64, \n",
        "                    shuffle=False, random_seed=None):\n",
        "    \n",
        "    idx = np.arange(y.shape[0])\n",
        "    \n",
        "    if shuffle:\n",
        "        rng = np.random.RandomState(random_seed)\n",
        "        rng.shuffle(idx)\n",
        "        X = X[idx]\n",
        "        y = y[idx]\n",
        "    \n",
        "    for i in range(0, X.shape[0], batch_size):\n",
        "        yield (X[i:i+batch_size, :], y[i:i+batch_size])"
      ],
      "execution_count": 0,
      "outputs": []
    },
    {
      "cell_type": "code",
      "metadata": {
        "id": "oOXgymZ2dzSt",
        "colab_type": "code",
        "colab": {
          "base_uri": "https://localhost:8080/",
          "height": 547
        },
        "outputId": "aed3308a-5484-4355-9db8-20992a4f23e8"
      },
      "source": [
        "from tensorflow.examples.tutorials.mnist import input_data\n",
        "mnist = input_data.read_data_sets('C:/Users/Svitlana', one_hot=True)"
      ],
      "execution_count": 5,
      "outputs": [
        {
          "output_type": "stream",
          "text": [
            "WARNING: Logging before flag parsing goes to stderr.\n",
            "W0816 08:07:05.899579 139696058660736 deprecation.py:323] From <ipython-input-5-9a82ca98995c>:2: read_data_sets (from tensorflow.contrib.learn.python.learn.datasets.mnist) is deprecated and will be removed in a future version.\n",
            "Instructions for updating:\n",
            "Please use alternatives such as official/mnist/dataset.py from tensorflow/models.\n",
            "W0816 08:07:05.901076 139696058660736 deprecation.py:323] From /usr/local/lib/python3.6/dist-packages/tensorflow/contrib/learn/python/learn/datasets/mnist.py:260: maybe_download (from tensorflow.contrib.learn.python.learn.datasets.base) is deprecated and will be removed in a future version.\n",
            "Instructions for updating:\n",
            "Please write your own downloading logic.\n",
            "W0816 08:07:05.910077 139696058660736 deprecation.py:323] From /usr/local/lib/python3.6/dist-packages/tensorflow/contrib/learn/python/learn/datasets/base.py:252: _internal_retry.<locals>.wrap.<locals>.wrapped_fn (from tensorflow.contrib.learn.python.learn.datasets.base) is deprecated and will be removed in a future version.\n",
            "Instructions for updating:\n",
            "Please use urllib or similar directly.\n",
            "W0816 08:07:06.000074 139696058660736 deprecation.py:323] From /usr/local/lib/python3.6/dist-packages/tensorflow/contrib/learn/python/learn/datasets/mnist.py:262: extract_images (from tensorflow.contrib.learn.python.learn.datasets.mnist) is deprecated and will be removed in a future version.\n",
            "Instructions for updating:\n",
            "Please use tf.data to implement this functionality.\n"
          ],
          "name": "stderr"
        },
        {
          "output_type": "stream",
          "text": [
            "Successfully downloaded train-images-idx3-ubyte.gz 9912422 bytes.\n",
            "Extracting C:/Users/Svitlana/train-images-idx3-ubyte.gz\n"
          ],
          "name": "stdout"
        },
        {
          "output_type": "stream",
          "text": [
            "W0816 08:07:06.323481 139696058660736 deprecation.py:323] From /usr/local/lib/python3.6/dist-packages/tensorflow/contrib/learn/python/learn/datasets/mnist.py:267: extract_labels (from tensorflow.contrib.learn.python.learn.datasets.mnist) is deprecated and will be removed in a future version.\n",
            "Instructions for updating:\n",
            "Please use tf.data to implement this functionality.\n",
            "W0816 08:07:06.326692 139696058660736 deprecation.py:323] From /usr/local/lib/python3.6/dist-packages/tensorflow/contrib/learn/python/learn/datasets/mnist.py:110: dense_to_one_hot (from tensorflow.contrib.learn.python.learn.datasets.mnist) is deprecated and will be removed in a future version.\n",
            "Instructions for updating:\n",
            "Please use tf.one_hot on tensors.\n",
            "W0816 08:07:06.420812 139696058660736 deprecation.py:323] From /usr/local/lib/python3.6/dist-packages/tensorflow/contrib/learn/python/learn/datasets/mnist.py:290: DataSet.__init__ (from tensorflow.contrib.learn.python.learn.datasets.mnist) is deprecated and will be removed in a future version.\n",
            "Instructions for updating:\n",
            "Please use alternatives such as official/mnist/dataset.py from tensorflow/models.\n"
          ],
          "name": "stderr"
        },
        {
          "output_type": "stream",
          "text": [
            "Successfully downloaded train-labels-idx1-ubyte.gz 28881 bytes.\n",
            "Extracting C:/Users/Svitlana/train-labels-idx1-ubyte.gz\n",
            "Successfully downloaded t10k-images-idx3-ubyte.gz 1648877 bytes.\n",
            "Extracting C:/Users/Svitlana/t10k-images-idx3-ubyte.gz\n",
            "Successfully downloaded t10k-labels-idx1-ubyte.gz 4542 bytes.\n",
            "Extracting C:/Users/Svitlana/t10k-labels-idx1-ubyte.gz\n"
          ],
          "name": "stdout"
        }
      ]
    },
    {
      "cell_type": "code",
      "metadata": {
        "id": "MjKw80tJd5-S",
        "colab_type": "code",
        "colab": {}
      },
      "source": [
        "import numpy as np\n",
        "X_train = mnist.train.images\n",
        "X_test = mnist.test.images\n",
        "y_train = np.argmax(mnist.train.labels, axis=1)\n",
        "y_test = np.argmax(mnist.test.labels, axis=1)"
      ],
      "execution_count": 0,
      "outputs": []
    },
    {
      "cell_type": "code",
      "metadata": {
        "id": "mlvnOGPt289H",
        "colab_type": "code",
        "colab": {}
      },
      "source": [
        "mean_vals = np.mean(X_train, axis=0)\n",
        "std_val = np.std(X_train)\n",
        "\n",
        "X_train_centered = (X_train - mean_vals)/std_val\n",
        "#X_valid_centered = (X_valid - mean_vals)/std_val\n",
        "X_test_centered = (X_test - mean_vals)/std_val\n",
        "\n",
        "#del X_data, y_data, X_train, X_valid, X_test"
      ],
      "execution_count": 0,
      "outputs": []
    },
    {
      "cell_type": "code",
      "metadata": {
        "id": "J3TIGVb63DnQ",
        "colab_type": "code",
        "colab": {
          "base_uri": "https://localhost:8080/",
          "height": 173
        },
        "outputId": "7205ad2b-38ad-4f0d-9365-ec294fc54503"
      },
      "source": [
        "import tensorflow as tf\n",
        "import numpy as np\n",
        "\n",
        "\n",
        "## wrapper functions \n",
        "\n",
        "def conv_layer(input_tensor, name,\n",
        "               kernel_size, n_output_channels, \n",
        "               padding_mode='SAME', strides=(1, 1, 1, 1)):\n",
        "    with tf.variable_scope(name):\n",
        "        ## get n_input_channels:\n",
        "        ##   input tensor shape: \n",
        "        ##   [batch x width x height x channels_in]\n",
        "        input_shape = input_tensor.get_shape().as_list()\n",
        "        n_input_channels = input_shape[-1] \n",
        "\n",
        "        weights_shape = (list(kernel_size) + \n",
        "                         [n_input_channels, n_output_channels])\n",
        "\n",
        "        weights = tf.get_variable(name='_weights',\n",
        "                                  shape=weights_shape)\n",
        "        print(weights)\n",
        "        biases = tf.get_variable(name='_biases',\n",
        "                                 initializer=tf.zeros(\n",
        "                                     shape=[n_output_channels]))\n",
        "        print(biases)\n",
        "        conv = tf.nn.conv2d(input=input_tensor, \n",
        "                            filter=weights,\n",
        "                            strides=strides, \n",
        "                            padding=padding_mode)\n",
        "        print(conv)\n",
        "        conv = tf.nn.bias_add(conv, biases, \n",
        "                              name='net_pre-activation')\n",
        "        print(conv)\n",
        "        conv = tf.nn.relu(conv, name='activation')\n",
        "        print(conv)\n",
        "        \n",
        "        return conv\n",
        "    \n",
        "\n",
        "## testing\n",
        "g = tf.Graph()\n",
        "with g.as_default():\n",
        "    x = tf.placeholder(tf.float32, shape=[None, 28, 28, 1])\n",
        "    conv_layer(x, name='convtest', kernel_size=(3, 3), n_output_channels=32)\n",
        "    \n",
        "del g, x"
      ],
      "execution_count": 8,
      "outputs": [
        {
          "output_type": "stream",
          "text": [
            "W0816 08:08:25.225985 139696058660736 deprecation.py:506] From /usr/local/lib/python3.6/dist-packages/tensorflow/python/ops/init_ops.py:1251: calling VarianceScaling.__init__ (from tensorflow.python.ops.init_ops) with dtype is deprecated and will be removed in a future version.\n",
            "Instructions for updating:\n",
            "Call initializer instance with the dtype argument instead of passing it to the constructor\n"
          ],
          "name": "stderr"
        },
        {
          "output_type": "stream",
          "text": [
            "<tf.Variable 'convtest/_weights:0' shape=(3, 3, 1, 32) dtype=float32_ref>\n",
            "<tf.Variable 'convtest/_biases:0' shape=(32,) dtype=float32_ref>\n",
            "Tensor(\"convtest/Conv2D:0\", shape=(?, 28, 28, 32), dtype=float32)\n",
            "Tensor(\"convtest/net_pre-activation:0\", shape=(?, 28, 28, 32), dtype=float32)\n",
            "Tensor(\"convtest/activation:0\", shape=(?, 28, 28, 32), dtype=float32)\n"
          ],
          "name": "stdout"
        }
      ]
    },
    {
      "cell_type": "code",
      "metadata": {
        "id": "Ixixwcp1i-X0",
        "colab_type": "code",
        "colab": {
          "base_uri": "https://localhost:8080/",
          "height": 34
        },
        "outputId": "2ac4fd3f-b54f-4858-89b3-f2667399d3a1"
      },
      "source": [
        "tf.__version__"
      ],
      "execution_count": 13,
      "outputs": [
        {
          "output_type": "execute_result",
          "data": {
            "text/plain": [
              "'1.14.0'"
            ]
          },
          "metadata": {
            "tags": []
          },
          "execution_count": 13
        }
      ]
    },
    {
      "cell_type": "code",
      "metadata": {
        "id": "yT2YWr9M3Ixo",
        "colab_type": "code",
        "colab": {
          "base_uri": "https://localhost:8080/",
          "height": 102
        },
        "outputId": "738067d4-b4bb-4f0f-e02c-20bfc47a81cd"
      },
      "source": [
        "def fc_layer(input_tensor, name, \n",
        "             n_output_units, activation_fn=None):\n",
        "    with tf.variable_scope(name):\n",
        "        input_shape = input_tensor.get_shape().as_list()[1:]\n",
        "        n_input_units = np.prod(input_shape)\n",
        "        if len(input_shape) > 1:\n",
        "            input_tensor = tf.reshape(input_tensor, \n",
        "                                      shape=(-1, n_input_units))\n",
        "\n",
        "        weights_shape = [n_input_units, n_output_units]\n",
        "\n",
        "        weights = tf.get_variable(name='_weights',\n",
        "                                  shape=weights_shape)\n",
        "        print(weights)\n",
        "        biases = tf.get_variable(name='_biases',\n",
        "                                 initializer=tf.zeros(\n",
        "                                     shape=[n_output_units]))\n",
        "        print(biases)\n",
        "        layer = tf.matmul(input_tensor, weights)\n",
        "        print(layer)\n",
        "        layer = tf.nn.bias_add(layer, biases,\n",
        "                              name='net_pre-activation')\n",
        "        print(layer)\n",
        "        if activation_fn is None:\n",
        "            return layer\n",
        "        \n",
        "        layer = activation_fn(layer, name='activation')\n",
        "        print(layer)\n",
        "        return layer\n",
        "\n",
        "    \n",
        "## testing:\n",
        "g = tf.Graph()\n",
        "with g.as_default():\n",
        "    x = tf.placeholder(tf.float32, \n",
        "                       shape=[None, 28, 28, 1])\n",
        "    fc_layer(x, name='fctest', n_output_units=32, \n",
        "             activation_fn=tf.nn.relu)\n",
        "    \n",
        "del g, x"
      ],
      "execution_count": 9,
      "outputs": [
        {
          "output_type": "stream",
          "text": [
            "<tf.Variable 'fctest/_weights:0' shape=(784, 32) dtype=float32_ref>\n",
            "<tf.Variable 'fctest/_biases:0' shape=(32,) dtype=float32_ref>\n",
            "Tensor(\"fctest/MatMul:0\", shape=(?, 32), dtype=float32)\n",
            "Tensor(\"fctest/net_pre-activation:0\", shape=(?, 32), dtype=float32)\n",
            "Tensor(\"fctest/activation:0\", shape=(?, 32), dtype=float32)\n"
          ],
          "name": "stdout"
        }
      ]
    },
    {
      "cell_type": "code",
      "metadata": {
        "id": "aKuXxB-f3L_p",
        "colab_type": "code",
        "colab": {}
      },
      "source": [
        "def build_cnn(learning_rate=1e-4):\n",
        "    ## Placeholders for X and y:\n",
        "    tf_x = tf.placeholder(tf.float32, shape=[None, 784],\n",
        "                          name='tf_x')\n",
        "    tf_y = tf.placeholder(tf.int32, shape=[None],\n",
        "                          name='tf_y')\n",
        "\n",
        "    # reshape x to a 4D tensor: \n",
        "    # [batchsize, width, height, 1]\n",
        "    tf_x_image = tf.reshape(tf_x, shape=[-1, 28, 28, 1],\n",
        "                            name='tf_x_reshaped')\n",
        "    ## One-hot encoding:\n",
        "    tf_y_onehot = tf.one_hot(indices=tf_y, depth=10,\n",
        "                             dtype=tf.float32,\n",
        "                             name='tf_y_onehot')\n",
        "\n",
        "    ## 1st layer: Conv_1\n",
        "    print('\\nBuilding 1st layer: ')\n",
        "    h1 = conv_layer(tf_x_image, name='conv_1',\n",
        "                    kernel_size=(5, 5), \n",
        "                    padding_mode='VALID',\n",
        "                    n_output_channels=32)\n",
        "    ## MaxPooling\n",
        "    h1_pool = tf.nn.max_pool(h1, \n",
        "                             ksize=[1, 2, 2, 1],\n",
        "                             strides=[1, 2, 2, 1], \n",
        "                             padding='SAME')\n",
        "    ## 2n layer: Conv_2\n",
        "    print('\\nBuilding 2nd layer: ')\n",
        "    h2 = conv_layer(h1_pool, name='conv_2', \n",
        "                    kernel_size=(5,5), \n",
        "                    padding_mode='VALID',\n",
        "                    n_output_channels=64)\n",
        "    ## MaxPooling \n",
        "    h2_pool = tf.nn.max_pool(h2, \n",
        "                             ksize=[1, 2, 2, 1],\n",
        "                             strides=[1, 2, 2, 1], \n",
        "                             padding='SAME')\n",
        "\n",
        "    ## 3rd layer: Fully Connected\n",
        "    print('\\nBuilding 3rd layer:')\n",
        "    h3 = fc_layer(h2_pool, name='fc_3',\n",
        "                  n_output_units=1024, \n",
        "                  activation_fn=tf.nn.relu)\n",
        "\n",
        "    ## Dropout\n",
        "    keep_prob = tf.placeholder(tf.float32, name='fc_keep_prob')\n",
        "    h3_drop = tf.nn.dropout(h3, keep_prob=keep_prob, \n",
        "                            name='dropout_layer')\n",
        "\n",
        "    ## 4th layer: Fully Connected (linear activation)\n",
        "    print('\\nBuilding 4th layer:')\n",
        "    h4 = fc_layer(h3_drop, name='fc_4',\n",
        "                  n_output_units=10, \n",
        "                  activation_fn=None)\n",
        "\n",
        "    ## Prediction\n",
        "    predictions = {\n",
        "        'probabilities' : tf.nn.softmax(h4, name='probabilities'),\n",
        "        'labels' : tf.cast(tf.argmax(h4, axis=1), tf.int32,\n",
        "                           name='labels')\n",
        "    }\n",
        "    \n",
        "    ## Visualize the graph with TensorBoard:\n",
        "\n",
        "    ## Loss Function and Optimization\n",
        "    cross_entropy_loss = tf.reduce_mean(\n",
        "        tf.nn.softmax_cross_entropy_with_logits(\n",
        "            logits=h4, labels=tf_y_onehot),\n",
        "        name='cross_entropy_loss')\n",
        "\n",
        "    ## Optimizer:\n",
        "    optimizer = tf.train.AdamOptimizer(learning_rate)\n",
        "    optimizer = optimizer.minimize(cross_entropy_loss,\n",
        "                                   name='train_op')\n",
        "\n",
        "    ## Computing the prediction accuracy\n",
        "    correct_predictions = tf.equal(\n",
        "        predictions['labels'], \n",
        "        tf_y, name='correct_preds')\n",
        "\n",
        "    accuracy = tf.reduce_mean(\n",
        "        tf.cast(correct_predictions, tf.float32),\n",
        "        name='accuracy')\n",
        "\n",
        "    \n",
        "def save(saver, sess, epoch, path='./model/'):\n",
        "    if not os.path.isdir(path):\n",
        "        os.makedirs(path)\n",
        "    print('Saving model in %s' % path)\n",
        "    saver.save(sess, os.path.join(path,'cnn-model.ckpt'),\n",
        "               global_step=epoch)\n",
        "\n",
        "    \n",
        "def load(saver, sess, path, epoch):\n",
        "    print('Loading model from %s' % path)\n",
        "    saver.restore(sess, os.path.join(\n",
        "            path, 'cnn-model.ckpt-%d' % epoch))\n",
        "\n",
        "    \n",
        "def train(sess, training_set, validation_set=None,\n",
        "          initialize=True, epochs=20, shuffle=True,\n",
        "          dropout=0.5, random_seed=None):\n",
        "\n",
        "    X_data = np.array(training_set[0])\n",
        "    y_data = np.array(training_set[1])\n",
        "    training_loss = []\n",
        "\n",
        "    ## initialize variables\n",
        "    if initialize:\n",
        "        sess.run(tf.global_variables_initializer())\n",
        "\n",
        "    np.random.seed(random_seed) # for shuflling in batch_generator\n",
        "    for epoch in range(1, epochs+1):\n",
        "        batch_gen = batch_generator(\n",
        "                        X_data, y_data, \n",
        "                        shuffle=shuffle)\n",
        "        avg_loss = 0.0\n",
        "        for i,(batch_x,batch_y) in enumerate(batch_gen):\n",
        "            feed = {'tf_x:0': batch_x, \n",
        "                    'tf_y:0': batch_y, \n",
        "                    'fc_keep_prob:0': dropout}\n",
        "            loss, _ = sess.run(\n",
        "                    ['cross_entropy_loss:0', 'train_op'],\n",
        "                    feed_dict=feed)\n",
        "            avg_loss += loss\n",
        "\n",
        "        training_loss.append(avg_loss / (i+1))\n",
        "        print('Epoch %02d Training Avg. Loss: %7.3f' % (\n",
        "            epoch, avg_loss), end=' ')\n",
        "        if validation_set is not None:\n",
        "            feed = {'tf_x:0': validation_set[0],\n",
        "                    'tf_y:0': validation_set[1],\n",
        "                    'fc_keep_prob:0':1.0}\n",
        "            valid_acc = sess.run('accuracy:0', feed_dict=feed)\n",
        "            print(' Validation Acc: %7.3f' % valid_acc)\n",
        "        else:\n",
        "            print()\n",
        "\n",
        "            \n",
        "def predict(sess, X_test, return_proba=False):\n",
        "    feed = {'tf_x:0': X_test, \n",
        "            'fc_keep_prob:0': 1.0}\n",
        "    if return_proba:\n",
        "        return sess.run('probabilities:0', feed_dict=feed)\n",
        "    else:\n",
        "        return sess.run('labels:0', feed_dict=feed)"
      ],
      "execution_count": 0,
      "outputs": []
    },
    {
      "cell_type": "code",
      "metadata": {
        "id": "UUsN4dHh3RiR",
        "colab_type": "code",
        "colab": {
          "base_uri": "https://localhost:8080/",
          "height": 683
        },
        "outputId": "ea7d0ecd-d179-4a03-b263-4682cdb75189"
      },
      "source": [
        "import tensorflow as tf\n",
        "import numpy as np\n",
        "\n",
        "## Define random seed\n",
        "random_seed = 123\n",
        "\n",
        "np.random.seed(random_seed)\n",
        "\n",
        "\n",
        "## create a graph\n",
        "g = tf.Graph()\n",
        "with g.as_default():\n",
        "    tf.set_random_seed(random_seed)\n",
        "    ## build the graph\n",
        "    build_cnn()\n",
        "\n",
        "    ## saver:\n",
        "    saver = tf.train.Saver()"
      ],
      "execution_count": 11,
      "outputs": [
        {
          "output_type": "stream",
          "text": [
            "W0816 08:10:27.041041 139696058660736 deprecation.py:506] From <ipython-input-10-fc0aa0bc5529>:49: calling dropout (from tensorflow.python.ops.nn_ops) with keep_prob is deprecated and will be removed in a future version.\n",
            "Instructions for updating:\n",
            "Please use `rate` instead of `keep_prob`. Rate should be set to `rate = 1 - keep_prob`.\n",
            "W0816 08:10:27.076725 139696058660736 deprecation.py:323] From <ipython-input-10-fc0aa0bc5529>:69: softmax_cross_entropy_with_logits (from tensorflow.python.ops.nn_ops) is deprecated and will be removed in a future version.\n",
            "Instructions for updating:\n",
            "\n",
            "Future major versions of TensorFlow will allow gradients to flow\n",
            "into the labels input on backprop by default.\n",
            "\n",
            "See `tf.nn.softmax_cross_entropy_with_logits_v2`.\n",
            "\n"
          ],
          "name": "stderr"
        },
        {
          "output_type": "stream",
          "text": [
            "\n",
            "Building 1st layer: \n",
            "<tf.Variable 'conv_1/_weights:0' shape=(5, 5, 1, 32) dtype=float32_ref>\n",
            "<tf.Variable 'conv_1/_biases:0' shape=(32,) dtype=float32_ref>\n",
            "Tensor(\"conv_1/Conv2D:0\", shape=(?, 24, 24, 32), dtype=float32)\n",
            "Tensor(\"conv_1/net_pre-activation:0\", shape=(?, 24, 24, 32), dtype=float32)\n",
            "Tensor(\"conv_1/activation:0\", shape=(?, 24, 24, 32), dtype=float32)\n",
            "\n",
            "Building 2nd layer: \n",
            "<tf.Variable 'conv_2/_weights:0' shape=(5, 5, 32, 64) dtype=float32_ref>\n",
            "<tf.Variable 'conv_2/_biases:0' shape=(64,) dtype=float32_ref>\n",
            "Tensor(\"conv_2/Conv2D:0\", shape=(?, 8, 8, 64), dtype=float32)\n",
            "Tensor(\"conv_2/net_pre-activation:0\", shape=(?, 8, 8, 64), dtype=float32)\n",
            "Tensor(\"conv_2/activation:0\", shape=(?, 8, 8, 64), dtype=float32)\n",
            "\n",
            "Building 3rd layer:\n",
            "<tf.Variable 'fc_3/_weights:0' shape=(1024, 1024) dtype=float32_ref>\n",
            "<tf.Variable 'fc_3/_biases:0' shape=(1024,) dtype=float32_ref>\n",
            "Tensor(\"fc_3/MatMul:0\", shape=(?, 1024), dtype=float32)\n",
            "Tensor(\"fc_3/net_pre-activation:0\", shape=(?, 1024), dtype=float32)\n",
            "Tensor(\"fc_3/activation:0\", shape=(?, 1024), dtype=float32)\n",
            "\n",
            "Building 4th layer:\n",
            "<tf.Variable 'fc_4/_weights:0' shape=(1024, 10) dtype=float32_ref>\n",
            "<tf.Variable 'fc_4/_biases:0' shape=(10,) dtype=float32_ref>\n",
            "Tensor(\"fc_4/MatMul:0\", shape=(?, 10), dtype=float32)\n",
            "Tensor(\"fc_4/net_pre-activation:0\", shape=(?, 10), dtype=float32)\n"
          ],
          "name": "stdout"
        }
      ]
    },
    {
      "cell_type": "code",
      "metadata": {
        "id": "1YmBBUvPevxo",
        "colab_type": "code",
        "colab": {
          "base_uri": "https://localhost:8080/",
          "height": 374
        },
        "outputId": "7aa2120f-079a-4319-b6ec-d1a2b4698f17"
      },
      "source": [
        "## create a TF session \n",
        "## and train the CNN model\n",
        "import os\n",
        "with tf.Session(graph=g) as sess:\n",
        "    train(sess, \n",
        "          training_set=(X_train_centered, y_train), \n",
        "          validation_set=None, \n",
        "          initialize=True,\n",
        "          random_seed=123)\n",
        "    save(saver, sess, epoch=20)"
      ],
      "execution_count": 14,
      "outputs": [
        {
          "output_type": "stream",
          "text": [
            "Epoch 01 Training Avg. Loss: 282.068 \n",
            "Epoch 02 Training Avg. Loss:  78.202 \n",
            "Epoch 03 Training Avg. Loss:  52.571 \n",
            "Epoch 04 Training Avg. Loss:  41.812 \n",
            "Epoch 05 Training Avg. Loss:  33.676 \n",
            "Epoch 06 Training Avg. Loss:  28.449 \n",
            "Epoch 07 Training Avg. Loss:  23.417 \n",
            "Epoch 08 Training Avg. Loss:  20.881 \n",
            "Epoch 09 Training Avg. Loss:  18.246 \n",
            "Epoch 10 Training Avg. Loss:  15.585 \n",
            "Epoch 11 Training Avg. Loss:  13.814 \n",
            "Epoch 12 Training Avg. Loss:  11.500 \n",
            "Epoch 13 Training Avg. Loss:  10.755 \n",
            "Epoch 14 Training Avg. Loss:  10.257 \n",
            "Epoch 15 Training Avg. Loss:   8.769 \n",
            "Epoch 16 Training Avg. Loss:   8.247 \n",
            "Epoch 17 Training Avg. Loss:   6.513 \n",
            "Epoch 18 Training Avg. Loss:   6.137 \n",
            "Epoch 19 Training Avg. Loss:   6.312 \n",
            "Epoch 20 Training Avg. Loss:   5.172 \n",
            "Saving model in ./model/\n"
          ],
          "name": "stdout"
        }
      ]
    },
    {
      "cell_type": "code",
      "metadata": {
        "id": "jWtTDy6bgOa1",
        "colab_type": "code",
        "colab": {
          "base_uri": "https://localhost:8080/",
          "height": 581
        },
        "outputId": "33f0b911-4611-41d0-891f-3a6980fd1e14"
      },
      "source": [
        "### Calculate prediction accuracy\n",
        "### on test set\n",
        "### restoring the saved model\n",
        "\n",
        "del g\n",
        "\n",
        "## create a new graph \n",
        "## and build the model\n",
        "g2 = tf.Graph()\n",
        "with g2.as_default():\n",
        "    tf.set_random_seed(random_seed)\n",
        "    ## build the graph\n",
        "    build_cnn()\n",
        "\n",
        "    ## saver:\n",
        "    saver = tf.train.Saver()\n",
        "\n",
        "## create a new session \n",
        "## and restore the model\n",
        "with tf.Session(graph=g2) as sess:\n",
        "    load(saver, sess, \n",
        "         epoch=20, path='./model/')\n",
        "    \n",
        "    preds = predict(sess, X_test_centered, \n",
        "                    return_proba=False)\n",
        "\n",
        "    print('Test Accuracy: %.3f%%' % (100*\n",
        "                np.sum(preds == y_test)/len(y_test)))"
      ],
      "execution_count": 15,
      "outputs": [
        {
          "output_type": "stream",
          "text": [
            "\n",
            "Building 1st layer: \n",
            "<tf.Variable 'conv_1/_weights:0' shape=(5, 5, 1, 32) dtype=float32_ref>\n",
            "<tf.Variable 'conv_1/_biases:0' shape=(32,) dtype=float32_ref>\n",
            "Tensor(\"conv_1/Conv2D:0\", shape=(?, 24, 24, 32), dtype=float32)\n",
            "Tensor(\"conv_1/net_pre-activation:0\", shape=(?, 24, 24, 32), dtype=float32)\n",
            "Tensor(\"conv_1/activation:0\", shape=(?, 24, 24, 32), dtype=float32)\n",
            "\n",
            "Building 2nd layer: \n",
            "<tf.Variable 'conv_2/_weights:0' shape=(5, 5, 32, 64) dtype=float32_ref>\n",
            "<tf.Variable 'conv_2/_biases:0' shape=(64,) dtype=float32_ref>\n",
            "Tensor(\"conv_2/Conv2D:0\", shape=(?, 8, 8, 64), dtype=float32)\n",
            "Tensor(\"conv_2/net_pre-activation:0\", shape=(?, 8, 8, 64), dtype=float32)\n",
            "Tensor(\"conv_2/activation:0\", shape=(?, 8, 8, 64), dtype=float32)\n",
            "\n",
            "Building 3rd layer:\n",
            "<tf.Variable 'fc_3/_weights:0' shape=(1024, 1024) dtype=float32_ref>\n",
            "<tf.Variable 'fc_3/_biases:0' shape=(1024,) dtype=float32_ref>\n",
            "Tensor(\"fc_3/MatMul:0\", shape=(?, 1024), dtype=float32)\n",
            "Tensor(\"fc_3/net_pre-activation:0\", shape=(?, 1024), dtype=float32)\n",
            "Tensor(\"fc_3/activation:0\", shape=(?, 1024), dtype=float32)\n",
            "\n",
            "Building 4th layer:\n",
            "<tf.Variable 'fc_4/_weights:0' shape=(1024, 10) dtype=float32_ref>\n",
            "<tf.Variable 'fc_4/_biases:0' shape=(10,) dtype=float32_ref>\n",
            "Tensor(\"fc_4/MatMul:0\", shape=(?, 10), dtype=float32)\n",
            "Tensor(\"fc_4/net_pre-activation:0\", shape=(?, 10), dtype=float32)\n"
          ],
          "name": "stdout"
        },
        {
          "output_type": "stream",
          "text": [
            "W0816 09:06:15.860257 139696058660736 deprecation.py:323] From /usr/local/lib/python3.6/dist-packages/tensorflow/python/training/saver.py:1276: checkpoint_exists (from tensorflow.python.training.checkpoint_management) is deprecated and will be removed in a future version.\n",
            "Instructions for updating:\n",
            "Use standard file APIs to check for files with this prefix.\n"
          ],
          "name": "stderr"
        },
        {
          "output_type": "stream",
          "text": [
            "Loading model from ./model/\n",
            "Test Accuracy: 99.340%\n"
          ],
          "name": "stdout"
        }
      ]
    },
    {
      "cell_type": "code",
      "metadata": {
        "id": "6cbY0Iz9gPbC",
        "colab_type": "code",
        "colab": {
          "base_uri": "https://localhost:8080/",
          "height": 221
        },
        "outputId": "659e8033-16b9-4baa-d962-a623096cbcf8"
      },
      "source": [
        "## run the prediction on \n",
        "##  some test samples\n",
        "\n",
        "np.set_printoptions(precision=2, suppress=True)\n",
        "\n",
        "with tf.Session(graph=g2) as sess:\n",
        "    load(saver, sess, \n",
        "         epoch=20, path='./model/')\n",
        "        \n",
        "    print(predict(sess, X_test_centered[:10], \n",
        "              return_proba=False))\n",
        "    \n",
        "    print(predict(sess, X_test_centered[:10], \n",
        "                  return_proba=True))"
      ],
      "execution_count": 16,
      "outputs": [
        {
          "output_type": "stream",
          "text": [
            "Loading model from ./model/\n",
            "[7 2 1 0 4 1 4 9 5 9]\n",
            "[[0. 0. 0. 0. 0. 0. 0. 1. 0. 0.]\n",
            " [0. 0. 1. 0. 0. 0. 0. 0. 0. 0.]\n",
            " [0. 1. 0. 0. 0. 0. 0. 0. 0. 0.]\n",
            " [1. 0. 0. 0. 0. 0. 0. 0. 0. 0.]\n",
            " [0. 0. 0. 0. 1. 0. 0. 0. 0. 0.]\n",
            " [0. 1. 0. 0. 0. 0. 0. 0. 0. 0.]\n",
            " [0. 0. 0. 0. 1. 0. 0. 0. 0. 0.]\n",
            " [0. 0. 0. 0. 0. 0. 0. 0. 0. 1.]\n",
            " [0. 0. 0. 0. 0. 1. 0. 0. 0. 0.]\n",
            " [0. 0. 0. 0. 0. 0. 0. 0. 0. 1.]]\n"
          ],
          "name": "stdout"
        }
      ]
    },
    {
      "cell_type": "code",
      "metadata": {
        "id": "F07TYzI9gSnO",
        "colab_type": "code",
        "colab": {
          "base_uri": "https://localhost:8080/",
          "height": 408
        },
        "outputId": "5e7228cc-4e70-4daf-fe89-c40f8d1a3eb5"
      },
      "source": [
        "## continue training for 20 more epochs\n",
        "## without re-initializing :: initialize=False\n",
        "## create a new session \n",
        "## and restore the model\n",
        "with tf.Session(graph=g2) as sess:\n",
        "    load(saver, sess, \n",
        "         epoch=20, path='./model/')\n",
        "    \n",
        "    train(sess,\n",
        "          training_set=(X_train_centered, y_train), \n",
        "          validation_set=None,\n",
        "          initialize=False,\n",
        "          epochs=20,\n",
        "          random_seed=123)\n",
        "        \n",
        "    save(saver, sess, epoch=40, path='./model/')\n",
        "    \n",
        "    preds = predict(sess, X_test_centered, \n",
        "                    return_proba=False)\n",
        "    \n",
        "    print('Test Accuracy: %.3f%%' % (100*\n",
        "                np.sum(preds == y_test)/len(y_test)))"
      ],
      "execution_count": 18,
      "outputs": [
        {
          "output_type": "stream",
          "text": [
            "Loading model from ./model/\n",
            "Epoch 01 Training Avg. Loss:   4.867 \n",
            "Epoch 02 Training Avg. Loss:   4.498 \n",
            "Epoch 03 Training Avg. Loss:   4.286 \n",
            "Epoch 04 Training Avg. Loss:   3.633 \n",
            "Epoch 05 Training Avg. Loss:   3.523 \n",
            "Epoch 06 Training Avg. Loss:   3.380 \n",
            "Epoch 07 Training Avg. Loss:   2.651 \n",
            "Epoch 08 Training Avg. Loss:   3.190 \n",
            "Epoch 09 Training Avg. Loss:   2.463 \n",
            "Epoch 10 Training Avg. Loss:   2.523 \n",
            "Epoch 11 Training Avg. Loss:   2.187 \n",
            "Epoch 12 Training Avg. Loss:   2.470 \n",
            "Epoch 13 Training Avg. Loss:   3.008 \n",
            "Epoch 14 Training Avg. Loss:   1.926 \n",
            "Epoch 15 Training Avg. Loss:   2.125 \n",
            "Epoch 16 Training Avg. Loss:   2.208 \n",
            "Epoch 17 Training Avg. Loss:   2.064 \n",
            "Epoch 18 Training Avg. Loss:   1.676 \n",
            "Epoch 19 Training Avg. Loss:   1.879 \n",
            "Epoch 20 Training Avg. Loss:   1.568 \n",
            "Saving model in ./model/\n",
            "Test Accuracy: 99.390%\n"
          ],
          "name": "stdout"
        }
      ]
    },
    {
      "cell_type": "code",
      "metadata": {
        "id": "v5rtG_yfgXF5",
        "colab_type": "code",
        "colab": {
          "base_uri": "https://localhost:8080/",
          "height": 476
        },
        "outputId": "35db7858-dc0f-4679-8ec8-7d361c997f55"
      },
      "source": [
        "## build the model\n",
        "def build_cnn():\n",
        "    ## Placeholders for X and y:\n",
        "    tf_x = tf.placeholder(tf.float32, shape=[None, 784],\n",
        "                          name='tf_x')\n",
        "    tf_y = tf.placeholder(tf.int32, shape=[None],\n",
        "                          name='tf_y')\n",
        "\n",
        "    # reshape x to a 4D tensor: \n",
        "    # [batchsize, width, height, 1]\n",
        "    tf_x_image = tf.reshape(tf_x, shape=[-1, 28, 28, 1],\n",
        "                            name='tf_x_reshaped')\n",
        "    ## One-hot encoding:\n",
        "    tf_y_onehot = tf.one_hot(indices=tf_y, depth=10,\n",
        "                             dtype=tf.float32,\n",
        "                             name='tf_y_onehot')\n",
        "\n",
        "    ## 1st layer: Conv_1\n",
        "    print('\\nBuilding 1st layer: ')\n",
        "    h1 = conv_layer(tf_x_image, name='conv_1',\n",
        "                    kernel_size=(5, 5), \n",
        "                    padding_mode='VALID',\n",
        "                    n_output_channels=32)\n",
        "    ## MaxPooling\n",
        "    h1_pool = tf.nn.max_pool(h1, \n",
        "                             ksize=[1, 2, 2, 1],\n",
        "                             strides=[1, 2, 2, 1], \n",
        "                             padding='SAME')\n",
        "    ## 2n layer: Conv_2\n",
        "    print('\\nBuilding 2nd layer: ')\n",
        "    h2 = conv_layer(h1_pool, name='conv_2', \n",
        "                    kernel_size=(5, 5), \n",
        "                    padding_mode='VALID',\n",
        "                    n_output_channels=64)\n",
        "    ## MaxPooling \n",
        "    h2_pool = tf.nn.max_pool(h2, \n",
        "                             ksize=[1, 2, 2, 1],\n",
        "                             strides=[1, 2, 2, 1], \n",
        "                             padding='SAME')\n",
        "\n",
        "    ## 3rd layer: Fully Connected\n",
        "    print('\\nBuilding 3rd layer:')\n",
        "    h3 = fc_layer(h2_pool, name='fc_3',\n",
        "                  n_output_units=1024, \n",
        "                  activation_fn=tf.nn.relu)\n",
        "\n",
        "    ## Dropout\n",
        "    keep_prob = tf.placeholder(tf.float32, name='fc_keep_prob')\n",
        "    h3_drop = tf.nn.dropout(h3, keep_prob=keep_prob, \n",
        "                            name='dropout_layer')\n",
        "\n",
        "    ## 4th layer: Fully Connected (linear activation)\n",
        "    print('\\nBuilding 4th layer:')\n",
        "    h4 = fc_layer(h3_drop, name='fc_4',\n",
        "                  n_output_units=10, \n",
        "                  activation_fn=None)\n",
        "\n",
        "    ## Prediction\n",
        "    predictions = {\n",
        "        'probabilities': tf.nn.softmax(h4, name='probabilities'),\n",
        "        'labels': tf.cast(tf.argmax(h4, axis=1), tf.int32,\n",
        "                           name='labels')\n",
        "    }\n",
        "\n",
        "## create a graph\n",
        "g = tf.Graph()\n",
        "with g.as_default():\n",
        "    tf.set_random_seed(random_seed)\n",
        "    ## build the graph\n",
        "    build_cnn()\n",
        "    \n",
        "\n",
        "with tf.Session(graph=g) as sess:\n",
        "    file_writer = tf.summary.FileWriter(logdir='./tensorboard/', graph=g)"
      ],
      "execution_count": 19,
      "outputs": [
        {
          "output_type": "stream",
          "text": [
            "\n",
            "Building 1st layer: \n",
            "<tf.Variable 'conv_1/_weights:0' shape=(5, 5, 1, 32) dtype=float32_ref>\n",
            "<tf.Variable 'conv_1/_biases:0' shape=(32,) dtype=float32_ref>\n",
            "Tensor(\"conv_1/Conv2D:0\", shape=(?, 24, 24, 32), dtype=float32)\n",
            "Tensor(\"conv_1/net_pre-activation:0\", shape=(?, 24, 24, 32), dtype=float32)\n",
            "Tensor(\"conv_1/activation:0\", shape=(?, 24, 24, 32), dtype=float32)\n",
            "\n",
            "Building 2nd layer: \n",
            "<tf.Variable 'conv_2/_weights:0' shape=(5, 5, 32, 64) dtype=float32_ref>\n",
            "<tf.Variable 'conv_2/_biases:0' shape=(64,) dtype=float32_ref>\n",
            "Tensor(\"conv_2/Conv2D:0\", shape=(?, 8, 8, 64), dtype=float32)\n",
            "Tensor(\"conv_2/net_pre-activation:0\", shape=(?, 8, 8, 64), dtype=float32)\n",
            "Tensor(\"conv_2/activation:0\", shape=(?, 8, 8, 64), dtype=float32)\n",
            "\n",
            "Building 3rd layer:\n",
            "<tf.Variable 'fc_3/_weights:0' shape=(1024, 1024) dtype=float32_ref>\n",
            "<tf.Variable 'fc_3/_biases:0' shape=(1024,) dtype=float32_ref>\n",
            "Tensor(\"fc_3/MatMul:0\", shape=(?, 1024), dtype=float32)\n",
            "Tensor(\"fc_3/net_pre-activation:0\", shape=(?, 1024), dtype=float32)\n",
            "Tensor(\"fc_3/activation:0\", shape=(?, 1024), dtype=float32)\n",
            "\n",
            "Building 4th layer:\n",
            "<tf.Variable 'fc_4/_weights:0' shape=(1024, 10) dtype=float32_ref>\n",
            "<tf.Variable 'fc_4/_biases:0' shape=(10,) dtype=float32_ref>\n",
            "Tensor(\"fc_4/MatMul:0\", shape=(?, 10), dtype=float32)\n",
            "Tensor(\"fc_4/net_pre-activation:0\", shape=(?, 10), dtype=float32)\n"
          ],
          "name": "stdout"
        }
      ]
    },
    {
      "cell_type": "code",
      "metadata": {
        "id": "AzfPnugCga5v",
        "colab_type": "code",
        "colab": {}
      },
      "source": [
        "import tensorflow as tf\n",
        "import numpy as np\n",
        "\n",
        "\n",
        "class ConvNN(object):\n",
        "    def __init__(self, batchsize=64,\n",
        "                 epochs=20, learning_rate=1e-4, \n",
        "                 dropout_rate=0.5,\n",
        "                 shuffle=True, random_seed=None):\n",
        "        np.random.seed(random_seed)\n",
        "        self.batchsize = batchsize\n",
        "        self.epochs = epochs\n",
        "        self.learning_rate = learning_rate\n",
        "        self.dropout_rate = dropout_rate\n",
        "        self.shuffle = shuffle\n",
        "                \n",
        "        g = tf.Graph()\n",
        "        with g.as_default():\n",
        "            ## set random-seed:\n",
        "            tf.set_random_seed(random_seed)\n",
        "            \n",
        "            ## build the network:\n",
        "            self.build()\n",
        "\n",
        "            ## initializer\n",
        "            self.init_op = \\\n",
        "                tf.global_variables_initializer()\n",
        "\n",
        "            ## saver\n",
        "            self.saver = tf.train.Saver()\n",
        "            \n",
        "        ## create a session\n",
        "        self.sess = tf.Session(graph=g)\n",
        "                \n",
        "    def build(self):\n",
        "        \n",
        "        ## Placeholders for X and y:\n",
        "        tf_x = tf.placeholder(tf.float32, \n",
        "                              shape=[None, 784],\n",
        "                              name='tf_x')\n",
        "        tf_y = tf.placeholder(tf.int32, \n",
        "                              shape=[None],\n",
        "                              name='tf_y')\n",
        "        is_train = tf.placeholder(tf.bool, \n",
        "                              shape=(),\n",
        "                              name='is_train')\n",
        "\n",
        "        ## reshape x to a 4D tensor: \n",
        "        ##  [batchsize, width, height, 1]\n",
        "        tf_x_image = tf.reshape(tf_x, shape=[-1, 28, 28, 1],\n",
        "                              name='input_x_2dimages')\n",
        "        ## One-hot encoding:\n",
        "        tf_y_onehot = tf.one_hot(indices=tf_y, depth=10,\n",
        "                              dtype=tf.float32,\n",
        "                              name='input_y_onehot')\n",
        "\n",
        "        ## 1st layer: Conv_1\n",
        "        h1 = tf.layers.conv2d(tf_x_image, \n",
        "                              kernel_size=(5, 5), \n",
        "                              filters=32, \n",
        "                              activation=tf.nn.relu)\n",
        "        ## MaxPooling\n",
        "        h1_pool = tf.layers.max_pooling2d(h1, \n",
        "                              pool_size=(2, 2), \n",
        "                              strides=(2, 2))\n",
        "        ## 2n layer: Conv_2\n",
        "        h2 = tf.layers.conv2d(h1_pool, kernel_size=(5,5), \n",
        "                              filters=64, \n",
        "                              activation=tf.nn.relu)\n",
        "        ## MaxPooling \n",
        "        h2_pool = tf.layers.max_pooling2d(h2, \n",
        "                              pool_size=(2, 2), \n",
        "                              strides=(2, 2))\n",
        "\n",
        "        ## 3rd layer: Fully Connected\n",
        "        input_shape = h2_pool.get_shape().as_list()\n",
        "        n_input_units = np.prod(input_shape[1:])\n",
        "        h2_pool_flat = tf.reshape(h2_pool, \n",
        "                              shape=[-1, n_input_units])\n",
        "        h3 = tf.layers.dense(h2_pool_flat, 1024, \n",
        "                              activation=tf.nn.relu)\n",
        "\n",
        "        ## Dropout\n",
        "        h3_drop = tf.layers.dropout(h3, \n",
        "                              rate=self.dropout_rate,\n",
        "                              training=is_train)\n",
        "        \n",
        "        ## 4th layer: Fully Connected (linear activation)\n",
        "        h4 = tf.layers.dense(h3_drop, 10, \n",
        "                              activation=None)\n",
        "\n",
        "        ## Prediction\n",
        "        predictions = {\n",
        "            'probabilities': tf.nn.softmax(h4, \n",
        "                              name='probabilities'),\n",
        "            'labels': tf.cast(tf.argmax(h4, axis=1), \n",
        "                              tf.int32, name='labels')}\n",
        "        \n",
        "        ## Loss Function and Optimization\n",
        "        cross_entropy_loss = tf.reduce_mean(\n",
        "            tf.nn.softmax_cross_entropy_with_logits(\n",
        "                logits=h4, labels=tf_y_onehot),\n",
        "            name='cross_entropy_loss')\n",
        "        \n",
        "        ## Optimizer\n",
        "        optimizer = tf.train.AdamOptimizer(self.learning_rate)\n",
        "        optimizer = optimizer.minimize(cross_entropy_loss,\n",
        "                                       name='train_op')\n",
        "\n",
        "        ## Finding accuracy\n",
        "        correct_predictions = tf.equal(\n",
        "            predictions['labels'], \n",
        "            tf_y, name='correct_preds')\n",
        "        \n",
        "        accuracy = tf.reduce_mean(\n",
        "            tf.cast(correct_predictions, tf.float32),\n",
        "            name='accuracy')\n",
        "\n",
        "    def save(self, epoch, path='./tflayers-model/'):\n",
        "        if not os.path.isdir(path):\n",
        "            os.makedirs(path)\n",
        "        print('Saving model in %s' % path)\n",
        "        self.saver.save(self.sess, \n",
        "                        os.path.join(path, 'model.ckpt'),\n",
        "                        global_step=epoch)\n",
        "        \n",
        "    def load(self, epoch, path):\n",
        "        print('Loading model from %s' % path)\n",
        "        self.saver.restore(self.sess, \n",
        "             os.path.join(path, 'model.ckpt-%d' % epoch))\n",
        "        \n",
        "    def train(self, training_set, \n",
        "              validation_set=None,\n",
        "              initialize=True):\n",
        "        ## initialize variables\n",
        "        if initialize:\n",
        "            self.sess.run(self.init_op)\n",
        "\n",
        "        self.train_cost_ = []\n",
        "        X_data = np.array(training_set[0])\n",
        "        y_data = np.array(training_set[1])\n",
        "\n",
        "        for epoch in range(1, self.epochs + 1):\n",
        "            batch_gen = \\\n",
        "                batch_generator(X_data, y_data, \n",
        "                                 shuffle=self.shuffle)\n",
        "            avg_loss = 0.0\n",
        "            for i, (batch_x,batch_y) in \\\n",
        "                enumerate(batch_gen):\n",
        "                feed = {'tf_x:0': batch_x, \n",
        "                        'tf_y:0': batch_y,\n",
        "                        'is_train:0': True} ## for dropout\n",
        "                loss, _ = self.sess.run(\n",
        "                        ['cross_entropy_loss:0', 'train_op'], \n",
        "                        feed_dict=feed)\n",
        "                avg_loss += loss\n",
        "                \n",
        "            print('Epoch %02d: Training Avg. Loss: '\n",
        "                  '%7.3f' % (epoch, avg_loss), end=' ')\n",
        "            if validation_set is not None:\n",
        "                feed = {'tf_x:0': batch_x, \n",
        "                        'tf_y:0': batch_y,\n",
        "                        'is_train:0': False} ## for dropout\n",
        "                valid_acc = self.sess.run('accuracy:0',\n",
        "                                          feed_dict=feed)\n",
        "                print('Validation Acc: %7.3f' % valid_acc)\n",
        "            else:\n",
        "                print()\n",
        "                    \n",
        "    def predict(self, X_test, return_proba = False):\n",
        "        feed = {'tf_x:0': X_test,\n",
        "                'is_train:0': False} ## for dropout\n",
        "        if return_proba:\n",
        "            return self.sess.run('probabilities:0',\n",
        "                                 feed_dict=feed)\n",
        "        else:\n",
        "            return self.sess.run('labels:0',\n",
        "                                 feed_dict=feed)"
      ],
      "execution_count": 0,
      "outputs": []
    },
    {
      "cell_type": "code",
      "metadata": {
        "id": "WDDnpNcYghgU",
        "colab_type": "code",
        "colab": {
          "base_uri": "https://localhost:8080/",
          "height": 241
        },
        "outputId": "4e22fd42-81aa-4aeb-bddb-d3c3514a4de0"
      },
      "source": [
        "cnn = ConvNN(random_seed=123)"
      ],
      "execution_count": 21,
      "outputs": [
        {
          "output_type": "stream",
          "text": [
            "W0816 09:34:25.692097 139696058660736 deprecation.py:323] From <ipython-input-20-f372260e6b29>:60: conv2d (from tensorflow.python.layers.convolutional) is deprecated and will be removed in a future version.\n",
            "Instructions for updating:\n",
            "Use `tf.keras.layers.Conv2D` instead.\n",
            "W0816 09:34:25.942644 139696058660736 deprecation.py:323] From <ipython-input-20-f372260e6b29>:64: max_pooling2d (from tensorflow.python.layers.pooling) is deprecated and will be removed in a future version.\n",
            "Instructions for updating:\n",
            "Use keras.layers.MaxPooling2D instead.\n",
            "W0816 09:34:26.106238 139696058660736 deprecation.py:323] From <ipython-input-20-f372260e6b29>:80: dense (from tensorflow.python.layers.core) is deprecated and will be removed in a future version.\n",
            "Instructions for updating:\n",
            "Use keras.layers.dense instead.\n",
            "W0816 09:34:26.426640 139696058660736 deprecation.py:323] From <ipython-input-20-f372260e6b29>:85: dropout (from tensorflow.python.layers.core) is deprecated and will be removed in a future version.\n",
            "Instructions for updating:\n",
            "Use keras.layers.dropout instead.\n"
          ],
          "name": "stderr"
        }
      ]
    },
    {
      "cell_type": "code",
      "metadata": {
        "id": "-L0Tqq4uglEJ",
        "colab_type": "code",
        "colab": {
          "base_uri": "https://localhost:8080/",
          "height": 374
        },
        "outputId": "64818ff3-00d0-49e8-8129-8059d5cb8655"
      },
      "source": [
        "cnn.train(training_set=(X_train_centered, y_train), \n",
        "          validation_set=None)\n",
        "\n",
        "cnn.save(epoch=20)"
      ],
      "execution_count": 23,
      "outputs": [
        {
          "output_type": "stream",
          "text": [
            "Epoch 01: Training Avg. Loss: 280.998 \n",
            "Epoch 02: Training Avg. Loss:  77.216 \n",
            "Epoch 03: Training Avg. Loss:  52.194 \n",
            "Epoch 04: Training Avg. Loss:  40.748 \n",
            "Epoch 05: Training Avg. Loss:  32.787 \n",
            "Epoch 06: Training Avg. Loss:  29.238 \n",
            "Epoch 07: Training Avg. Loss:  23.511 \n",
            "Epoch 08: Training Avg. Loss:  20.914 \n",
            "Epoch 09: Training Avg. Loss:  17.862 \n",
            "Epoch 10: Training Avg. Loss:  15.399 \n",
            "Epoch 11: Training Avg. Loss:  13.143 \n",
            "Epoch 12: Training Avg. Loss:  11.549 \n",
            "Epoch 13: Training Avg. Loss:  10.836 \n",
            "Epoch 14: Training Avg. Loss:  10.027 \n",
            "Epoch 15: Training Avg. Loss:   8.254 \n",
            "Epoch 16: Training Avg. Loss:   8.183 \n",
            "Epoch 17: Training Avg. Loss:   7.124 \n",
            "Epoch 18: Training Avg. Loss:   6.175 \n",
            "Epoch 19: Training Avg. Loss:   5.546 \n",
            "Epoch 20: Training Avg. Loss:   4.999 \n",
            "Saving model in ./tflayers-model/\n"
          ],
          "name": "stdout"
        }
      ]
    },
    {
      "cell_type": "code",
      "metadata": {
        "id": "ZKD8Cn6Dgnw8",
        "colab_type": "code",
        "colab": {
          "base_uri": "https://localhost:8080/",
          "height": 51
        },
        "outputId": "c68b042b-7c9d-4b64-c3c5-b3b6b060c3e6"
      },
      "source": [
        "del cnn\n",
        "\n",
        "cnn2 = ConvNN(random_seed=123)\n",
        "\n",
        "cnn2.load(epoch=20, path='./tflayers-model/')\n",
        "\n",
        "print(cnn2.predict(X_test_centered[:10,:]))"
      ],
      "execution_count": 24,
      "outputs": [
        {
          "output_type": "stream",
          "text": [
            "Loading model from ./tflayers-model/\n",
            "[7 2 1 0 4 1 4 9 5 9]\n"
          ],
          "name": "stdout"
        }
      ]
    },
    {
      "cell_type": "code",
      "metadata": {
        "id": "Qlglfg-8gqp9",
        "colab_type": "code",
        "colab": {
          "base_uri": "https://localhost:8080/",
          "height": 34
        },
        "outputId": "04c34c71-ccbb-4acd-a230-d6a2f1fb0778"
      },
      "source": [
        "preds = cnn2.predict(X_test_centered)\n",
        "\n",
        "print('Test Accuracy: %.2f%%' % (100*\n",
        "      np.sum(y_test == preds)/len(y_test)))"
      ],
      "execution_count": 25,
      "outputs": [
        {
          "output_type": "stream",
          "text": [
            "Test Accuracy: 99.32%\n"
          ],
          "name": "stdout"
        }
      ]
    },
    {
      "cell_type": "code",
      "metadata": {
        "id": "weKvOLKGgtmO",
        "colab_type": "code",
        "colab": {}
      },
      "source": [
        ""
      ],
      "execution_count": 0,
      "outputs": []
    }
  ]
}