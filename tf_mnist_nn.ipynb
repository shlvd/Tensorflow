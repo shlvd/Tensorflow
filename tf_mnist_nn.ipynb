{
  "nbformat": 4,
  "nbformat_minor": 0,
  "metadata": {
    "colab": {
      "name": "tf_mnist_nn.ipynb",
      "version": "0.3.2",
      "provenance": [],
      "collapsed_sections": []
    },
    "kernelspec": {
      "name": "python3",
      "display_name": "Python 3"
    }
  },
  "cells": [
    {
      "cell_type": "code",
      "metadata": {
        "id": "or2zMMuOflxp",
        "colab_type": "code",
        "colab": {
          "base_uri": "https://localhost:8080/",
          "height": 68
        },
        "outputId": "f0c677cb-2c26-4b6f-9f40-fcc23bf8a1de"
      },
      "source": [
        "import tensorflow as tf\n",
        "\n",
        "## create a graph\n",
        "g = tf.Graph()\n",
        "with g.as_default():\n",
        "    x = tf.placeholder(dtype=tf.float32,\n",
        "                       shape=(None), name='x')\n",
        "    w = tf.Variable(2.0, name='weight')\n",
        "    b = tf.Variable(0.7, name='bias')\n",
        "\n",
        "    z = w*x + b\n",
        "    init = tf.global_variables_initializer()\n",
        "\n",
        "## create a session and pass in graph g\n",
        "with tf.Session(graph=g) as sess:\n",
        "    ## initialize w and b:\n",
        "    sess.run(init)\n",
        "    ## evaluate z:\n",
        "    for t in [1.0, 0.6, -1.8]:\n",
        "        print('x=%4.1f --> z=%4.1f'%(\n",
        "              t, sess.run(z, feed_dict={x:t})))"
      ],
      "execution_count": 1,
      "outputs": [
        {
          "output_type": "stream",
          "text": [
            "x= 1.0 --> z= 2.7\n",
            "x= 0.6 --> z= 1.9\n",
            "x=-1.8 --> z=-2.9\n"
          ],
          "name": "stdout"
        }
      ]
    },
    {
      "cell_type": "code",
      "metadata": {
        "id": "Jmo-u9Faf7CO",
        "colab_type": "code",
        "colab": {
          "base_uri": "https://localhost:8080/",
          "height": 34
        },
        "outputId": "dc2ba2ab-4471-41e1-80f0-9165b17c5183"
      },
      "source": [
        "with tf.Session(graph=g) as sess:\n",
        "    sess.run(init)\n",
        "    print(sess.run(z, feed_dict={x:[1., 2., 3.]}))"
      ],
      "execution_count": 2,
      "outputs": [
        {
          "output_type": "stream",
          "text": [
            "[2.7 4.7 6.7]\n"
          ],
          "name": "stdout"
        }
      ]
    },
    {
      "cell_type": "code",
      "metadata": {
        "id": "oXPLC9ZvgBxO",
        "colab_type": "code",
        "colab": {
          "base_uri": "https://localhost:8080/",
          "height": 170
        },
        "outputId": "641c3406-2b11-4a17-899a-db2b2a18913a"
      },
      "source": [
        "import tensorflow as tf\n",
        "import numpy as np\n",
        "\n",
        "\n",
        "g = tf.Graph()\n",
        "with g.as_default():\n",
        "    x = tf.placeholder(dtype=tf.float32, \n",
        "                       shape=(None, 2, 3),\n",
        "                       name='input_x')\n",
        "\n",
        "    x2 = tf.reshape(x, shape=(-1, 6),\n",
        "                    name='x2')\n",
        "\n",
        "    ## calculate the sum of each column\n",
        "    xsum = tf.reduce_sum(x2, axis=0, name='col_sum')\n",
        "\n",
        "    ## calculate the mean of each column\n",
        "    xmean = tf.reduce_mean(x2, axis=0, name='col_mean')\n",
        "\n",
        "    \n",
        "with tf.Session(graph=g) as sess:\n",
        "    x_array = np.arange(18).reshape(3, 2, 3)\n",
        "    print('input shape: ', x_array.shape)\n",
        "    print('Reshaped:\\n', \n",
        "          sess.run(x2, feed_dict={x:x_array}))\n",
        "    print('Column Sums:\\n', \n",
        "          sess.run(xsum, feed_dict={x:x_array}))\n",
        "    print('Column Means:\\n', \n",
        "          sess.run(xmean, feed_dict={x:x_array}))"
      ],
      "execution_count": 3,
      "outputs": [
        {
          "output_type": "stream",
          "text": [
            "input shape:  (3, 2, 3)\n",
            "Reshaped:\n",
            " [[ 0.  1.  2.  3.  4.  5.]\n",
            " [ 6.  7.  8.  9. 10. 11.]\n",
            " [12. 13. 14. 15. 16. 17.]]\n",
            "Column Sums:\n",
            " [18. 21. 24. 27. 30. 33.]\n",
            "Column Means:\n",
            " [ 6.  7.  8.  9. 10. 11.]\n"
          ],
          "name": "stdout"
        }
      ]
    },
    {
      "cell_type": "code",
      "metadata": {
        "id": "TLH72B1ggJPw",
        "colab_type": "code",
        "colab": {}
      },
      "source": [
        "import tensorflow as tf\n",
        "import numpy as np\n",
        " \n",
        "X_train = np.arange(10).reshape((10, 1))\n",
        "y_train = np.array([1.0, 1.3, 3.1,\n",
        "                    2.0, 5.0, 6.3, \n",
        "                    6.6, 7.4, 8.0, \n",
        "                    9.0])"
      ],
      "execution_count": 0,
      "outputs": []
    },
    {
      "cell_type": "code",
      "metadata": {
        "id": "yfNLNCiYgNqJ",
        "colab_type": "code",
        "colab": {}
      },
      "source": [
        "class TfLinreg(object):\n",
        "    \n",
        "    def __init__(self, x_dim, learning_rate=0.01,\n",
        "                 random_seed=None):\n",
        "        self.x_dim = x_dim\n",
        "        self.learning_rate = learning_rate\n",
        "        self.g = tf.Graph()\n",
        "        ## build the model\n",
        "        with self.g.as_default():\n",
        "            ## set graph-level random-seed\n",
        "            tf.set_random_seed(random_seed)\n",
        "            \n",
        "            self.build()\n",
        "            ## create initializer\n",
        "            self.init_op = tf.global_variables_initializer()\n",
        "        \n",
        "    def build(self):\n",
        "        ## define placeholders for inputs\n",
        "        self.X = tf.placeholder(dtype=tf.float32,\n",
        "                                shape=(None, self.x_dim),\n",
        "                                name='x_input')\n",
        "        self.y = tf.placeholder(dtype=tf.float32,\n",
        "                                shape=(None),\n",
        "                                name='y_input')\n",
        "        print(self.X)\n",
        "        print(self.y)\n",
        "        ## define weight matrix and bias vector\n",
        "        w = tf.Variable(tf.zeros(shape=(1)),\n",
        "                        name='weight')\n",
        "        b = tf.Variable(tf.zeros(shape=(1)), \n",
        "                        name=\"bias\")\n",
        "        print(w)\n",
        "        print(b)\n",
        "\n",
        "        self.z_net = tf.squeeze(w*self.X + b,\n",
        "                                name='z_net')\n",
        "        print(self.z_net)\n",
        "        \n",
        "        sqr_errors = tf.square(self.y - self.z_net, \n",
        "                               name='sqr_errors')\n",
        "        print(sqr_errors)\n",
        "        self.mean_cost = tf.reduce_mean(sqr_errors,\n",
        "                                        name='mean_cost')\n",
        "        \n",
        "        optimizer = tf.train.GradientDescentOptimizer(\n",
        "                    learning_rate=self.learning_rate, \n",
        "                    name='GradientDescent')\n",
        "        self.optimizer = optimizer.minimize(self.mean_cost)"
      ],
      "execution_count": 0,
      "outputs": []
    },
    {
      "cell_type": "code",
      "metadata": {
        "id": "-oJu4GTvgRvq",
        "colab_type": "code",
        "colab": {
          "base_uri": "https://localhost:8080/",
          "height": 119
        },
        "outputId": "b5c68ecb-a6a7-476b-b193-6da0a51c54b1"
      },
      "source": [
        "lrmodel = TfLinreg(x_dim=X_train.shape[1], learning_rate=0.01)"
      ],
      "execution_count": 6,
      "outputs": [
        {
          "output_type": "stream",
          "text": [
            "Tensor(\"x_input:0\", shape=(?, 1), dtype=float32)\n",
            "Tensor(\"y_input:0\", dtype=float32)\n",
            "<tf.Variable 'weight:0' shape=(1,) dtype=float32_ref>\n",
            "<tf.Variable 'bias:0' shape=(1,) dtype=float32_ref>\n",
            "Tensor(\"z_net:0\", dtype=float32)\n",
            "Tensor(\"sqr_errors:0\", dtype=float32)\n"
          ],
          "name": "stdout"
        }
      ]
    },
    {
      "cell_type": "code",
      "metadata": {
        "id": "AkCrLxpqgVSB",
        "colab_type": "code",
        "colab": {}
      },
      "source": [
        "def train_linreg(sess, model, X_train, y_train, num_epochs=10):\n",
        "    ## initialiaze all variables: W & b\n",
        "    sess.run(model.init_op)\n",
        "    \n",
        "    training_costs = []\n",
        "    for i in range(num_epochs):\n",
        "        _, cost = sess.run([model.optimizer, model.mean_cost], \n",
        "                           feed_dict={model.X:X_train, \n",
        "                                      model.y:y_train})\n",
        "        training_costs.append(cost)\n",
        "        \n",
        "    return training_costs"
      ],
      "execution_count": 0,
      "outputs": []
    },
    {
      "cell_type": "code",
      "metadata": {
        "id": "TVLvpSSNgYPq",
        "colab_type": "code",
        "colab": {}
      },
      "source": [
        "sess = tf.Session(graph=lrmodel.g)\n",
        "training_costs = train_linreg(sess, lrmodel, X_train, y_train)"
      ],
      "execution_count": 0,
      "outputs": []
    },
    {
      "cell_type": "code",
      "metadata": {
        "id": "Tur3nPVrgb7S",
        "colab_type": "code",
        "colab": {
          "base_uri": "https://localhost:8080/",
          "height": 311
        },
        "outputId": "8a4d534b-cc8c-4917-e8f0-288b8d339113"
      },
      "source": [
        "import matplotlib.pyplot as plt\n",
        "\n",
        "plt.plot(range(1,len(training_costs) + 1), training_costs)\n",
        "plt.tight_layout()\n",
        "plt.xlabel('Epoch')\n",
        "plt.ylabel('Training Cost')\n",
        "plt.show()"
      ],
      "execution_count": 9,
      "outputs": [
        {
          "output_type": "display_data",
          "data": {
            "image/png": "[encoded data removed]",
            "text/plain": [
              "<Figure size 432x288 with 1 Axes>"
            ]
          },
          "metadata": {
            "tags": []
          }
        }
      ]
    },
    {
      "cell_type": "code",
      "metadata": {
        "id": "O5ULNId6giQL",
        "colab_type": "code",
        "colab": {}
      },
      "source": [
        "def predict_linreg(sess, model, X_test):\n",
        "    y_pred = sess.run(model.z_net, \n",
        "                      feed_dict={model.X:X_test})\n",
        "    return y_pred"
      ],
      "execution_count": 0,
      "outputs": []
    },
    {
      "cell_type": "code",
      "metadata": {
        "id": "dOQ6nq0Ygmms",
        "colab_type": "code",
        "colab": {
          "base_uri": "https://localhost:8080/",
          "height": 297
        },
        "outputId": "e593c744-b87a-4c4e-a3a4-fb2582b3ac42"
      },
      "source": [
        "plt.scatter(X_train, y_train,\n",
        "            marker='s', s=50,\n",
        "            label='Training Data')\n",
        "plt.plot(range(X_train.shape[0]), \n",
        "         predict_linreg(sess, lrmodel, X_train),\n",
        "         color='gray', marker='o', \n",
        "         markersize=10, linewidth=1,\n",
        "         label='LinReg Model')\n",
        "plt.xlabel('x')\n",
        "plt.ylabel('y')\n",
        "plt.legend()\n",
        "plt.tight_layout()\n",
        "plt.show()"
      ],
      "execution_count": 14,
      "outputs": [
        {
          "output_type": "display_data",
          "data": {
            "image/png": "[encoded data removed]",
            "text/plain": [
              "<Figure size 432x288 with 1 Axes>"
            ]
          },
          "metadata": {
            "tags": []
          }
        }
      ]
    },
    {
      "cell_type": "code",
      "metadata": {
        "id": "s3dLLvKLgzzQ",
        "colab_type": "code",
        "colab": {
          "base_uri": "https://localhost:8080/",
          "height": 547
        },
        "outputId": "74057447-58fd-4385-dd60-cf6f0a8dc370"
      },
      "source": [
        "from tensorflow.examples.tutorials.mnist import input_data\n",
        "mnist = input_data.read_data_sets('C:/Users/Svitlana', one_hot=True)\n"
      ],
      "execution_count": 17,
      "outputs": [
        {
          "output_type": "stream",
          "text": [
            "WARNING: Logging before flag parsing goes to stderr.\n",
            "W0808 18:43:10.547390 139726750414720 deprecation.py:323] From <ipython-input-17-9a82ca98995c>:2: read_data_sets (from tensorflow.contrib.learn.python.learn.datasets.mnist) is deprecated and will be removed in a future version.\n",
            "Instructions for updating:\n",
            "Please use alternatives such as official/mnist/dataset.py from tensorflow/models.\n",
            "W0808 18:43:10.549406 139726750414720 deprecation.py:323] From /usr/local/lib/python3.6/dist-packages/tensorflow/contrib/learn/python/learn/datasets/mnist.py:260: maybe_download (from tensorflow.contrib.learn.python.learn.datasets.base) is deprecated and will be removed in a future version.\n",
            "Instructions for updating:\n",
            "Please write your own downloading logic.\n",
            "W0808 18:43:10.554818 139726750414720 deprecation.py:323] From /usr/local/lib/python3.6/dist-packages/tensorflow/contrib/learn/python/learn/datasets/base.py:252: _internal_retry.<locals>.wrap.<locals>.wrapped_fn (from tensorflow.contrib.learn.python.learn.datasets.base) is deprecated and will be removed in a future version.\n",
            "Instructions for updating:\n",
            "Please use urllib or similar directly.\n",
            "W0808 18:43:10.649180 139726750414720 deprecation.py:323] From /usr/local/lib/python3.6/dist-packages/tensorflow/contrib/learn/python/learn/datasets/mnist.py:262: extract_images (from tensorflow.contrib.learn.python.learn.datasets.mnist) is deprecated and will be removed in a future version.\n",
            "Instructions for updating:\n",
            "Please use tf.data to implement this functionality.\n"
          ],
          "name": "stderr"
        },
        {
          "output_type": "stream",
          "text": [
            "Successfully downloaded train-images-idx3-ubyte.gz 9912422 bytes.\n",
            "Extracting C:/Users/Svitlana/train-images-idx3-ubyte.gz\n"
          ],
          "name": "stdout"
        },
        {
          "output_type": "stream",
          "text": [
            "W0808 18:43:10.944305 139726750414720 deprecation.py:323] From /usr/local/lib/python3.6/dist-packages/tensorflow/contrib/learn/python/learn/datasets/mnist.py:267: extract_labels (from tensorflow.contrib.learn.python.learn.datasets.mnist) is deprecated and will be removed in a future version.\n",
            "Instructions for updating:\n",
            "Please use tf.data to implement this functionality.\n",
            "W0808 18:43:10.947067 139726750414720 deprecation.py:323] From /usr/local/lib/python3.6/dist-packages/tensorflow/contrib/learn/python/learn/datasets/mnist.py:110: dense_to_one_hot (from tensorflow.contrib.learn.python.learn.datasets.mnist) is deprecated and will be removed in a future version.\n",
            "Instructions for updating:\n",
            "Please use tf.one_hot on tensors.\n",
            "W0808 18:43:11.041656 139726750414720 deprecation.py:323] From /usr/local/lib/python3.6/dist-packages/tensorflow/contrib/learn/python/learn/datasets/mnist.py:290: DataSet.__init__ (from tensorflow.contrib.learn.python.learn.datasets.mnist) is deprecated and will be removed in a future version.\n",
            "Instructions for updating:\n",
            "Please use alternatives such as official/mnist/dataset.py from tensorflow/models.\n"
          ],
          "name": "stderr"
        },
        {
          "output_type": "stream",
          "text": [
            "Successfully downloaded train-labels-idx1-ubyte.gz 28881 bytes.\n",
            "Extracting C:/Users/Svitlana/train-labels-idx1-ubyte.gz\n",
            "Successfully downloaded t10k-images-idx3-ubyte.gz 1648877 bytes.\n",
            "Extracting C:/Users/Svitlana/t10k-images-idx3-ubyte.gz\n",
            "Successfully downloaded t10k-labels-idx1-ubyte.gz 4542 bytes.\n",
            "Extracting C:/Users/Svitlana/t10k-labels-idx1-ubyte.gz\n"
          ],
          "name": "stdout"
        }
      ]
    },
    {
      "cell_type": "code",
      "metadata": {
        "id": "J72MCbgDix5R",
        "colab_type": "code",
        "colab": {
          "base_uri": "https://localhost:8080/",
          "height": 360
        },
        "outputId": "eb563788-036f-46d2-c896-57f1b8e4a390"
      },
      "source": [
        "image_size = 28\n",
        "labels_size = 10\n",
        "learning_rate = 0.05\n",
        "steps_number = 1000\n",
        "batch_size = 100\n",
        "\n",
        "training_data = tf.placeholder(tf.float32, [None, image_size*image_size])\n",
        "labels = tf.placeholder(tf.float32, [None, labels_size])\n",
        "\n",
        "# Variables to be tuned\n",
        "W = tf.Variable(tf.truncated_normal([image_size*image_size, labels_size], stddev=0.1))\n",
        "b = tf.Variable(tf.constant(0.1, shape=[labels_size]))\n",
        "\n",
        "# Build the network (only output layer)\n",
        "output = tf.matmul(training_data, W) + b\n",
        "\n",
        "# Define the loss function\n",
        "loss = tf.reduce_mean(tf.nn.softmax_cross_entropy_with_logits(labels=labels, logits=output))\n",
        "\n",
        "# Training step\n",
        "train_step = tf.train.GradientDescentOptimizer(learning_rate).minimize(loss)\n",
        "\n",
        "# Accuracy calculation\n",
        "correct_prediction = tf.equal(tf.argmax(output, 1), tf.argmax(labels, 1))\n",
        "accuracy = tf.reduce_mean(tf.cast(correct_prediction, tf.float32))\n",
        "\n",
        "# Run the training\n",
        "sess = tf.InteractiveSession()\n",
        "sess.run(tf.global_variables_initializer())\n",
        "\n",
        "\n",
        "for i in range(steps_number):\n",
        "  # Get the next batch\n",
        "  input_batch, labels_batch = mnist.train.next_batch(batch_size)\n",
        "  feed_dict = {training_data: input_batch, labels: labels_batch}\n",
        "\n",
        "  # Run the training step\n",
        "  train_step.run(feed_dict=feed_dict)\n",
        "\n",
        "  # Print the accuracy progress on the batch every 100 steps\n",
        "  if i%100 == 0:\n",
        "    train_accuracy = accuracy.eval(feed_dict=feed_dict)\n",
        "    print(\"Step %d, training batch accuracy %g %%\"%(i, train_accuracy*100))\n",
        "    \n",
        "# Evaluate on the test set\n",
        "test_accuracy = accuracy.eval(feed_dict={training_data: mnist.test.images, labels: mnist.test.labels})\n",
        "print(\"Test accuracy: %g %%\"%(test_accuracy*100))    \n",
        "\n"
      ],
      "execution_count": 21,
      "outputs": [
        {
          "output_type": "stream",
          "text": [
            "W0808 18:49:37.795450 139726750414720 deprecation.py:323] From <ipython-input-21-42fedaaef333>:18: softmax_cross_entropy_with_logits (from tensorflow.python.ops.nn_ops) is deprecated and will be removed in a future version.\n",
            "Instructions for updating:\n",
            "\n",
            "Future major versions of TensorFlow will allow gradients to flow\n",
            "into the labels input on backprop by default.\n",
            "\n",
            "See `tf.nn.softmax_cross_entropy_with_logits_v2`.\n",
            "\n"
          ],
          "name": "stderr"
        },
        {
          "output_type": "stream",
          "text": [
            "Step 0, training batch accuracy 4 %\n",
            "Step 100, training batch accuracy 85 %\n",
            "Step 200, training batch accuracy 85 %\n",
            "Step 300, training batch accuracy 89 %\n",
            "Step 400, training batch accuracy 83 %\n",
            "Step 500, training batch accuracy 92 %\n",
            "Step 600, training batch accuracy 86 %\n",
            "Step 700, training batch accuracy 94 %\n",
            "Step 800, training batch accuracy 92 %\n",
            "Step 900, training batch accuracy 92 %\n",
            "Test accuracy: 90.01 %\n"
          ],
          "name": "stdout"
        }
      ]
    },
    {
      "cell_type": "code",
      "metadata": {
        "id": "r6-0f1twkh7d",
        "colab_type": "code",
        "colab": {
          "base_uri": "https://localhost:8080/",
          "height": 139
        },
        "outputId": "573ddfbd-4a5d-442b-e730-3cc58a00555f"
      },
      "source": [
        "n_features = mnist.train.images.shape[1]\n",
        "n_classes = 10\n",
        "random_seed = 123\n",
        "np.random.seed(random_seed)\n",
        "\n",
        "g = tf.Graph()\n",
        "with g.as_default():\n",
        "    tf.set_random_seed(random_seed)\n",
        "    tf_x = tf.placeholder(dtype=tf.float32,\n",
        "                       shape=(None, n_features),\n",
        "                       name='tf_x')\n",
        "\n",
        "    tf_y = tf.placeholder(dtype=tf.int32, \n",
        "                        shape=None, name='tf_y')\n",
        "    y_onehot = tf.one_hot(indices=tf_y, depth=n_classes)\n",
        "\n",
        "    h1 = tf.layers.dense(inputs=tf_x, units=50,\n",
        "                         activation=tf.tanh,\n",
        "                         name='layer1')\n",
        "\n",
        "    h2 = tf.layers.dense(inputs=h1, units=50,\n",
        "                         activation=tf.tanh,\n",
        "                         name='layer2')\n",
        "\n",
        "    logits = tf.layers.dense(inputs=h2, \n",
        "                             units=10,\n",
        "                             activation=None,\n",
        "                             name='layer3')\n",
        "\n",
        "    predictions = {\n",
        "        'classes' : tf.argmax(logits, axis=1, \n",
        "                              name='predicted_classes'),\n",
        "        'probabilities' : tf.nn.softmax(logits, \n",
        "                              name='softmax_tensor')\n",
        "    }"
      ],
      "execution_count": 22,
      "outputs": [
        {
          "output_type": "stream",
          "text": [
            "W0808 18:51:49.821518 139726750414720 deprecation.py:323] From <ipython-input-22-baa7236c528e>:19: dense (from tensorflow.python.layers.core) is deprecated and will be removed in a future version.\n",
            "Instructions for updating:\n",
            "Use keras.layers.dense instead.\n",
            "W0808 18:51:49.829909 139726750414720 deprecation.py:506] From /usr/local/lib/python3.6/dist-packages/tensorflow/python/ops/init_ops.py:1251: calling VarianceScaling.__init__ (from tensorflow.python.ops.init_ops) with dtype is deprecated and will be removed in a future version.\n",
            "Instructions for updating:\n",
            "Call initializer instance with the dtype argument instead of passing it to the constructor\n"
          ],
          "name": "stderr"
        }
      ]
    },
    {
      "cell_type": "code",
      "metadata": {
        "id": "Qn9HX-6akuuP",
        "colab_type": "code",
        "colab": {
          "base_uri": "https://localhost:8080/",
          "height": 88
        },
        "outputId": "42aeb905-1643-4343-dadc-9c5d9a6823f0"
      },
      "source": [
        "with g.as_default():\n",
        "    cost = tf.losses.softmax_cross_entropy(\n",
        "            onehot_labels=y_onehot, logits=logits)\n",
        "\n",
        "    optimizer = tf.train.GradientDescentOptimizer(\n",
        "            learning_rate=0.001)\n",
        "\n",
        "    train_op = optimizer.minimize(loss=cost)\n",
        "\n",
        "    init_op = tf.global_variables_initializer()"
      ],
      "execution_count": 23,
      "outputs": [
        {
          "output_type": "stream",
          "text": [
            "W0808 18:52:14.622904 139726750414720 deprecation.py:323] From /usr/local/lib/python3.6/dist-packages/tensorflow/python/ops/losses/losses_impl.py:121: add_dispatch_support.<locals>.wrapper (from tensorflow.python.ops.array_ops) is deprecated and will be removed in a future version.\n",
            "Instructions for updating:\n",
            "Use tf.where in 2.0, which has the same broadcast rule as np.where\n"
          ],
          "name": "stderr"
        }
      ]
    },
    {
      "cell_type": "code",
      "metadata": {
        "id": "cJjgN8sCkz7w",
        "colab_type": "code",
        "colab": {}
      },
      "source": [
        "def create_batch_generator(X, y, batch_size=128, shuffle=False):\n",
        "    X_copy = np.array(X)\n",
        "    y_copy = np.array(y)\n",
        "    \n",
        "    if shuffle:\n",
        "        data = np.column_stack((X_copy, y_copy))\n",
        "        np.random.shuffle(data)\n",
        "        X_copy = data[:, :-1]\n",
        "        y_copy = data[:, -1].astype(int)\n",
        "    \n",
        "    for i in range(0, X.shape[0], batch_size):\n",
        "        yield (X_copy[i:i+batch_size, :], y_copy[i:i+batch_size])"
      ],
      "execution_count": 0,
      "outputs": []
    },
    {
      "cell_type": "code",
      "metadata": {
        "id": "X37jT2Dsk3K6",
        "colab_type": "code",
        "colab": {
          "base_uri": "https://localhost:8080/",
          "height": 867
        },
        "outputId": "73ab2e5e-3c2d-46a3-fe6b-68caf96bacf0"
      },
      "source": [
        "lbl = np.argmax(mnist.train.labels, axis=1)\n",
        "## create a session to launch the graph\n",
        "sess =  tf.Session(graph=g)\n",
        "## run the variable initialization operator\n",
        "sess.run(init_op)\n",
        "\n",
        "## 50 epochs of training:\n",
        "training_costs = []\n",
        "for epoch in range(50):\n",
        "    training_loss = []\n",
        "    batch_generator = create_batch_generator(\n",
        "            mnist.train.images, lbl, \n",
        "            batch_size=64)\n",
        "    for batch_X, batch_y in batch_generator:\n",
        "        ## prepare a dict to feed data to our network:\n",
        "        feed = {tf_x:batch_X, tf_y:batch_y}\n",
        "        _, batch_cost = sess.run([train_op, cost], feed_dict=feed)\n",
        "        training_costs.append(batch_cost)\n",
        "    print(' -- Epoch %2d  '\n",
        "          'Avg. Training Loss: %.4f' % (\n",
        "              epoch+1, np.mean(training_costs)\n",
        "    ))"
      ],
      "execution_count": 37,
      "outputs": [
        {
          "output_type": "stream",
          "text": [
            " -- Epoch  1  Avg. Training Loss: 1.9882\n",
            " -- Epoch  2  Avg. Training Loss: 1.7010\n",
            " -- Epoch  3  Avg. Training Loss: 1.5058\n",
            " -- Epoch  4  Avg. Training Loss: 1.3647\n",
            " -- Epoch  5  Avg. Training Loss: 1.2569\n",
            " -- Epoch  6  Avg. Training Loss: 1.1712\n",
            " -- Epoch  7  Avg. Training Loss: 1.1011\n",
            " -- Epoch  8  Avg. Training Loss: 1.0423\n",
            " -- Epoch  9  Avg. Training Loss: 0.9922\n",
            " -- Epoch 10  Avg. Training Loss: 0.9489\n",
            " -- Epoch 11  Avg. Training Loss: 0.9110\n",
            " -- Epoch 12  Avg. Training Loss: 0.8775\n",
            " -- Epoch 13  Avg. Training Loss: 0.8476\n",
            " -- Epoch 14  Avg. Training Loss: 0.8208\n",
            " -- Epoch 15  Avg. Training Loss: 0.7965\n",
            " -- Epoch 16  Avg. Training Loss: 0.7745\n",
            " -- Epoch 17  Avg. Training Loss: 0.7543\n",
            " -- Epoch 18  Avg. Training Loss: 0.7358\n",
            " -- Epoch 19  Avg. Training Loss: 0.7187\n",
            " -- Epoch 20  Avg. Training Loss: 0.7029\n",
            " -- Epoch 21  Avg. Training Loss: 0.6882\n",
            " -- Epoch 22  Avg. Training Loss: 0.6745\n",
            " -- Epoch 23  Avg. Training Loss: 0.6617\n",
            " -- Epoch 24  Avg. Training Loss: 0.6498\n",
            " -- Epoch 25  Avg. Training Loss: 0.6385\n",
            " -- Epoch 26  Avg. Training Loss: 0.6279\n",
            " -- Epoch 27  Avg. Training Loss: 0.6179\n",
            " -- Epoch 28  Avg. Training Loss: 0.6084\n",
            " -- Epoch 29  Avg. Training Loss: 0.5994\n",
            " -- Epoch 30  Avg. Training Loss: 0.5909\n",
            " -- Epoch 31  Avg. Training Loss: 0.5828\n",
            " -- Epoch 32  Avg. Training Loss: 0.5751\n",
            " -- Epoch 33  Avg. Training Loss: 0.5678\n",
            " -- Epoch 34  Avg. Training Loss: 0.5607\n",
            " -- Epoch 35  Avg. Training Loss: 0.5540\n",
            " -- Epoch 36  Avg. Training Loss: 0.5476\n",
            " -- Epoch 37  Avg. Training Loss: 0.5414\n",
            " -- Epoch 38  Avg. Training Loss: 0.5355\n",
            " -- Epoch 39  Avg. Training Loss: 0.5298\n",
            " -- Epoch 40  Avg. Training Loss: 0.5243\n",
            " -- Epoch 41  Avg. Training Loss: 0.5190\n",
            " -- Epoch 42  Avg. Training Loss: 0.5139\n",
            " -- Epoch 43  Avg. Training Loss: 0.5090\n",
            " -- Epoch 44  Avg. Training Loss: 0.5043\n",
            " -- Epoch 45  Avg. Training Loss: 0.4997\n",
            " -- Epoch 46  Avg. Training Loss: 0.4952\n",
            " -- Epoch 47  Avg. Training Loss: 0.4909\n",
            " -- Epoch 48  Avg. Training Loss: 0.4868\n",
            " -- Epoch 49  Avg. Training Loss: 0.4828\n",
            " -- Epoch 50  Avg. Training Loss: 0.4788\n"
          ],
          "name": "stdout"
        }
      ]
    },
    {
      "cell_type": "code",
      "metadata": {
        "id": "wT8S_1TrmGGD",
        "colab_type": "code",
        "colab": {
          "base_uri": "https://localhost:8080/",
          "height": 34
        },
        "outputId": "933a4677-bffe-477a-c02e-da7e9408a51b"
      },
      "source": [
        "## do prediction on the test set:\n",
        "feed = {tf_x : mnist.test.images}\n",
        "y_pred = sess.run(predictions['classes'], \n",
        "                  feed_dict=feed)\n",
        " \n",
        "print('Test Accuracy: %.2f%%' % (\n",
        "      100*np.sum(y_pred == np.argmax(mnist.test.labels, axis=1))/np.argmax(mnist.test.labels, axis=1).shape[0]))"
      ],
      "execution_count": 40,
      "outputs": [
        {
          "output_type": "stream",
          "text": [
            "Test Accuracy: 92.24%\n"
          ],
          "name": "stdout"
        }
      ]
    }
  ]
}