{
  "nbformat": 4,
  "nbformat_minor": 0,
  "metadata": {
    "colab": {
      "name": "tf_2.0.0-beta1_tutorial.ipynb",
      "version": "0.3.2",
      "provenance": [],
      "collapsed_sections": []
    },
    "kernelspec": {
      "name": "python3",
      "display_name": "Python 3"
    }
  },
  "cells": [
    {
      "cell_type": "code",
      "metadata": {
        "id": "bUe1givKTjhO",
        "colab_type": "code",
        "colab": {
          "base_uri": "https://localhost:8080/",
          "height": 34
        },
        "outputId": "35c29e80-dc25-44a3-f1f1-ba1ee22d25fd"
      },
      "source": [
        "try:\n",
        "  # %tensorflow_version only exists in Colab.\n",
        "  %tensorflow_version 2.x\n",
        "except Exception:\n",
        "  pass"
      ],
      "execution_count": 1,
      "outputs": [
        {
          "output_type": "stream",
          "text": [
            "TensorFlow 2.x selected.\n"
          ],
          "name": "stdout"
        }
      ]
    },
    {
      "cell_type": "code",
      "metadata": {
        "id": "WBK66rK5TtN9",
        "colab_type": "code",
        "colab": {}
      },
      "source": [
        "from __future__ import absolute_import, division, print_function, unicode_literals\n",
        "\n",
        "import tensorflow as tf\n",
        "\n",
        "from tensorflow.keras.layers import Dense, Flatten, Conv2D\n",
        "from tensorflow.keras import Model"
      ],
      "execution_count": 0,
      "outputs": []
    },
    {
      "cell_type": "code",
      "metadata": {
        "id": "RyYsero4T2ed",
        "colab_type": "code",
        "colab": {
          "base_uri": "https://localhost:8080/",
          "height": 34
        },
        "outputId": "90384a72-6930-4306-a7cd-81a018b71b75"
      },
      "source": [
        "tf.__version__"
      ],
      "execution_count": 3,
      "outputs": [
        {
          "output_type": "execute_result",
          "data": {
            "text/plain": [
              "'2.0.0-beta1'"
            ]
          },
          "metadata": {
            "tags": []
          },
          "execution_count": 3
        }
      ]
    },
    {
      "cell_type": "code",
      "metadata": {
        "id": "8-Gjd_tMT59d",
        "colab_type": "code",
        "colab": {
          "base_uri": "https://localhost:8080/",
          "height": 51
        },
        "outputId": "058fef3d-5aea-478c-df4a-e95283eb04e2"
      },
      "source": [
        "mnist = tf.keras.datasets.mnist\n",
        "\n",
        "(x_train, y_train), (x_test, y_test) = mnist.load_data()\n",
        "x_train, x_test = x_train / 255.0, x_test / 255.0\n",
        "\n",
        "# Add a channels dimension\n",
        "x_train = x_train[..., tf.newaxis]\n",
        "x_test = x_test[..., tf.newaxis]"
      ],
      "execution_count": 4,
      "outputs": [
        {
          "output_type": "stream",
          "text": [
            "Downloading data from https://storage.googleapis.com/tensorflow/tf-keras-datasets/mnist.npz\n",
            "11493376/11490434 [==============================] - 0s 0us/step\n"
          ],
          "name": "stdout"
        }
      ]
    },
    {
      "cell_type": "code",
      "metadata": {
        "id": "mxNAdHS2UF4W",
        "colab_type": "code",
        "colab": {}
      },
      "source": [
        "train_ds = tf.data.Dataset.from_tensor_slices(\n",
        "    (x_train, y_train)).shuffle(10000).batch(32)\n",
        "\n",
        "test_ds = tf.data.Dataset.from_tensor_slices((x_test, y_test)).batch(32)"
      ],
      "execution_count": 0,
      "outputs": []
    },
    {
      "cell_type": "code",
      "metadata": {
        "id": "d8CDHCD3ULSn",
        "colab_type": "code",
        "colab": {}
      },
      "source": [
        "class MyModel(Model):\n",
        "  def __init__(self):\n",
        "    super(MyModel, self).__init__()\n",
        "    self.conv1 = Conv2D(32, 3, activation='relu')\n",
        "    self.flatten = Flatten()\n",
        "    self.d1 = Dense(128, activation='relu')\n",
        "    self.d2 = Dense(10, activation='softmax')\n",
        "\n",
        "  def call(self, x):\n",
        "    x = self.conv1(x)\n",
        "    x = self.flatten(x)\n",
        "    x = self.d1(x)\n",
        "    return self.d2(x)\n",
        "\n",
        "# Create an instance of the model\n",
        "model = MyModel()"
      ],
      "execution_count": 0,
      "outputs": []
    },
    {
      "cell_type": "code",
      "metadata": {
        "id": "3zh5cWT5Uerh",
        "colab_type": "code",
        "colab": {}
      },
      "source": [
        "loss_object = tf.keras.losses.SparseCategoricalCrossentropy()\n",
        "\n",
        "optimizer = tf.keras.optimizers.Adam()"
      ],
      "execution_count": 0,
      "outputs": []
    },
    {
      "cell_type": "code",
      "metadata": {
        "id": "W-rdtNtCUs_M",
        "colab_type": "code",
        "colab": {}
      },
      "source": [
        "train_loss = tf.keras.metrics.Mean(name='train_loss')\n",
        "train_accuracy = tf.keras.metrics.SparseCategoricalAccuracy(name='train_accuracy')\n",
        "\n",
        "test_loss = tf.keras.metrics.Mean(name='test_loss')\n",
        "test_accuracy = tf.keras.metrics.SparseCategoricalAccuracy(name='test_accuracy')"
      ],
      "execution_count": 0,
      "outputs": []
    },
    {
      "cell_type": "code",
      "metadata": {
        "id": "amoTzcljUzVO",
        "colab_type": "code",
        "colab": {}
      },
      "source": [
        "@tf.function\n",
        "def train_step(images, labels):\n",
        "  with tf.GradientTape() as tape:\n",
        "    predictions = model(images)\n",
        "    loss = loss_object(labels, predictions)\n",
        "  gradients = tape.gradient(loss, model.trainable_variables)\n",
        "  optimizer.apply_gradients(zip(gradients, model.trainable_variables))\n",
        "\n",
        "  train_loss(loss)\n",
        "  train_accuracy(labels, predictions)"
      ],
      "execution_count": 0,
      "outputs": []
    },
    {
      "cell_type": "code",
      "metadata": {
        "id": "iM6-YSjvVBNe",
        "colab_type": "code",
        "colab": {}
      },
      "source": [
        "@tf.function\n",
        "def test_step(images, labels):\n",
        "  predictions = model(images)\n",
        "  t_loss = loss_object(labels, predictions)\n",
        "\n",
        "  test_loss(t_loss)\n",
        "  test_accuracy(labels, predictions)"
      ],
      "execution_count": 0,
      "outputs": []
    },
    {
      "cell_type": "code",
      "metadata": {
        "id": "mYqUNbutVIOv",
        "colab_type": "code",
        "colab": {
          "base_uri": "https://localhost:8080/",
          "height": 102
        },
        "outputId": "be8cef55-9c9d-42d0-ae9c-b9fd2b1078b2"
      },
      "source": [
        "EPOCHS = 5\n",
        "\n",
        "for epoch in range(EPOCHS):\n",
        "  for images, labels in train_ds:\n",
        "    train_step(images, labels)\n",
        "\n",
        "  for test_images, test_labels in test_ds:\n",
        "    test_step(test_images, test_labels)\n",
        "\n",
        "  template = 'Epoch {}, Loss: {}, Accuracy: {}, Test Loss: {}, Test Accuracy: {}'\n",
        "  print(template.format(epoch+1,\n",
        "                        train_loss.result(),\n",
        "                        train_accuracy.result()*100,\n",
        "                        test_loss.result(),\n",
        "                        test_accuracy.result()*100))\n",
        "\n",
        "  # Reset the metrics for the next epoch\n",
        "  train_loss.reset_states()\n",
        "  train_accuracy.reset_states()\n",
        "  test_loss.reset_states()\n",
        "  test_accuracy.reset_states()"
      ],
      "execution_count": 11,
      "outputs": [
        {
          "output_type": "stream",
          "text": [
            "Epoch 1, Loss: 0.13569463789463043, Accuracy: 95.94833374023438, Test Loss: 0.0608653761446476, Test Accuracy: 97.87999725341797\n",
            "Epoch 2, Loss: 0.03994172066450119, Accuracy: 98.80166625976562, Test Loss: 0.06867470592260361, Test Accuracy: 97.80999755859375\n",
            "Epoch 3, Loss: 0.018533768132328987, Accuracy: 99.42666625976562, Test Loss: 0.05451153218746185, Test Accuracy: 98.38999938964844\n",
            "Epoch 4, Loss: 0.013716934248805046, Accuracy: 99.55500030517578, Test Loss: 0.07139734923839569, Test Accuracy: 98.13999938964844\n",
            "Epoch 5, Loss: 0.009999454952776432, Accuracy: 99.66166687011719, Test Loss: 0.06276872754096985, Test Accuracy: 98.29999542236328\n"
          ],
          "name": "stdout"
        }
      ]
    },
    {
      "cell_type": "code",
      "metadata": {
        "id": "P2HKZmPCVizC",
        "colab_type": "code",
        "colab": {
          "base_uri": "https://localhost:8080/",
          "height": 1000
        },
        "outputId": "4778130c-18fc-4492-8c1f-9665719a922f"
      },
      "source": [
        "(x_train, y_train), (x_test, y_test) = mnist.load_data()\n",
        "x_train, x_test = x_train / 255.0, x_test / 255.0\n",
        "\n",
        "for i in [0.1,0.2,0.3,0.4,0.5,0.6,0.7,0.8,0.9]:\n",
        "    print(f'Dropout: {i}')\n",
        "    model = tf.keras.models.Sequential([\n",
        "  tf.keras.layers.Flatten(input_shape=(28, 28)),\n",
        "  tf.keras.layers.Dense(128, activation='relu'),\n",
        "  tf.keras.layers.Dropout(0.5),\n",
        "  tf.keras.layers.Dense(10, activation='softmax')\n",
        "])\n",
        "\n",
        "    model.compile(optimizer='adam',\n",
        "              loss='sparse_categorical_crossentropy',\n",
        "              metrics=['accuracy'])\n",
        "\n",
        "    model.fit(x_train, y_train, epochs=5)\n",
        "\n",
        "    model.evaluate(x_test, y_test)"
      ],
      "execution_count": 16,
      "outputs": [
        {
          "output_type": "stream",
          "text": [
            "Dropout: 0.1\n",
            "Train on 60000 samples\n",
            "Epoch 1/5\n",
            "60000/60000 [==============================] - 5s 83us/sample - loss: 0.3942 - accuracy: 0.8838\n",
            "Epoch 2/5\n",
            "60000/60000 [==============================] - 5s 81us/sample - loss: 0.2233 - accuracy: 0.9341\n",
            "Epoch 3/5\n",
            "60000/60000 [==============================] - 5s 82us/sample - loss: 0.1846 - accuracy: 0.9447\n",
            "Epoch 4/5\n",
            "60000/60000 [==============================] - 5s 82us/sample - loss: 0.1622 - accuracy: 0.9504\n",
            "Epoch 5/5\n",
            "60000/60000 [==============================] - 5s 82us/sample - loss: 0.1529 - accuracy: 0.9541\n",
            "10000/10000 [==============================] - 0s 44us/sample - loss: 0.0936 - accuracy: 0.9726\n",
            "Dropout: 0.2\n",
            "Train on 60000 samples\n",
            "Epoch 1/5\n",
            "60000/60000 [==============================] - 5s 84us/sample - loss: 0.3899 - accuracy: 0.8846\n",
            "Epoch 2/5\n",
            "60000/60000 [==============================] - 5s 83us/sample - loss: 0.2240 - accuracy: 0.9346\n",
            "Epoch 3/5\n",
            "60000/60000 [==============================] - 5s 82us/sample - loss: 0.1866 - accuracy: 0.9437\n",
            "Epoch 4/5\n",
            "60000/60000 [==============================] - 5s 83us/sample - loss: 0.1649 - accuracy: 0.9504\n",
            "Epoch 5/5\n",
            "60000/60000 [==============================] - 5s 83us/sample - loss: 0.1518 - accuracy: 0.9531\n",
            "10000/10000 [==============================] - 0s 43us/sample - loss: 0.0920 - accuracy: 0.9716\n",
            "Dropout: 0.3\n",
            "Train on 60000 samples\n",
            "Epoch 1/5\n",
            "60000/60000 [==============================] - 5s 83us/sample - loss: 0.3924 - accuracy: 0.8838\n",
            "Epoch 2/5\n",
            "60000/60000 [==============================] - 5s 83us/sample - loss: 0.2206 - accuracy: 0.9348\n",
            "Epoch 3/5\n",
            "60000/60000 [==============================] - 5s 82us/sample - loss: 0.1837 - accuracy: 0.9456\n",
            "Epoch 4/5\n",
            "60000/60000 [==============================] - 5s 84us/sample - loss: 0.1609 - accuracy: 0.9514\n",
            "Epoch 5/5\n",
            "60000/60000 [==============================] - 5s 82us/sample - loss: 0.1471 - accuracy: 0.9549\n",
            "10000/10000 [==============================] - 0s 43us/sample - loss: 0.0926 - accuracy: 0.9728\n",
            "Dropout: 0.4\n",
            "Train on 60000 samples\n",
            "Epoch 1/5\n",
            "60000/60000 [==============================] - 5s 89us/sample - loss: 0.3905 - accuracy: 0.8834\n",
            "Epoch 2/5\n",
            "60000/60000 [==============================] - 5s 82us/sample - loss: 0.2204 - accuracy: 0.9343\n",
            "Epoch 3/5\n",
            "60000/60000 [==============================] - 5s 87us/sample - loss: 0.1831 - accuracy: 0.9460\n",
            "Epoch 4/5\n",
            "60000/60000 [==============================] - 5s 87us/sample - loss: 0.1593 - accuracy: 0.9518\n",
            "Epoch 5/5\n",
            "60000/60000 [==============================] - 5s 87us/sample - loss: 0.1481 - accuracy: 0.9557\n",
            "10000/10000 [==============================] - 0s 45us/sample - loss: 0.0911 - accuracy: 0.9728\n",
            "Dropout: 0.5\n",
            "Train on 60000 samples\n",
            "Epoch 1/5\n",
            "60000/60000 [==============================] - 5s 88us/sample - loss: 0.3909 - accuracy: 0.8835\n",
            "Epoch 2/5\n",
            "60000/60000 [==============================] - 5s 82us/sample - loss: 0.2205 - accuracy: 0.9354\n",
            "Epoch 3/5\n",
            "60000/60000 [==============================] - 5s 88us/sample - loss: 0.1836 - accuracy: 0.9454\n",
            "Epoch 4/5\n",
            "60000/60000 [==============================] - 6s 92us/sample - loss: 0.1641 - accuracy: 0.9500\n",
            "Epoch 5/5\n",
            "60000/60000 [==============================] - 5s 91us/sample - loss: 0.1493 - accuracy: 0.9553\n",
            "10000/10000 [==============================] - 0s 43us/sample - loss: 0.0907 - accuracy: 0.9724\n",
            "Dropout: 0.6\n",
            "Train on 60000 samples\n",
            "Epoch 1/5\n",
            "60000/60000 [==============================] - 5s 91us/sample - loss: 0.3911 - accuracy: 0.8839\n",
            "Epoch 2/5\n",
            "60000/60000 [==============================] - 5s 84us/sample - loss: 0.2234 - accuracy: 0.9339\n",
            "Epoch 3/5\n",
            "60000/60000 [==============================] - 5s 89us/sample - loss: 0.1827 - accuracy: 0.9449\n",
            "Epoch 4/5\n",
            "60000/60000 [==============================] - 5s 90us/sample - loss: 0.1654 - accuracy: 0.9502\n",
            "Epoch 5/5\n",
            "60000/60000 [==============================] - 5s 90us/sample - loss: 0.1490 - accuracy: 0.9542\n",
            "10000/10000 [==============================] - 0s 43us/sample - loss: 0.0909 - accuracy: 0.9726\n",
            "Dropout: 0.7\n",
            "Train on 60000 samples\n",
            "Epoch 1/5\n",
            "60000/60000 [==============================] - 5s 88us/sample - loss: 0.3939 - accuracy: 0.8824\n",
            "Epoch 2/5\n",
            "60000/60000 [==============================] - 5s 82us/sample - loss: 0.2237 - accuracy: 0.9335\n",
            "Epoch 3/5\n",
            "60000/60000 [==============================] - 5s 86us/sample - loss: 0.1856 - accuracy: 0.9444\n",
            "Epoch 4/5\n",
            "60000/60000 [==============================] - 5s 87us/sample - loss: 0.1624 - accuracy: 0.9520\n",
            "Epoch 5/5\n",
            "60000/60000 [==============================] - 5s 88us/sample - loss: 0.1484 - accuracy: 0.9544\n",
            "10000/10000 [==============================] - 0s 43us/sample - loss: 0.0926 - accuracy: 0.9719\n",
            "Dropout: 0.8\n",
            "Train on 60000 samples\n",
            "Epoch 1/5\n",
            "60000/60000 [==============================] - 5s 87us/sample - loss: 0.3980 - accuracy: 0.8830\n",
            "Epoch 2/5\n",
            "60000/60000 [==============================] - 5s 82us/sample - loss: 0.2227 - accuracy: 0.9341\n",
            "Epoch 3/5\n",
            "60000/60000 [==============================] - 5s 86us/sample - loss: 0.1845 - accuracy: 0.9449\n",
            "Epoch 4/5\n",
            "60000/60000 [==============================] - 5s 87us/sample - loss: 0.1646 - accuracy: 0.9503\n",
            "Epoch 5/5\n",
            "60000/60000 [==============================] - 5s 86us/sample - loss: 0.1493 - accuracy: 0.9548\n",
            "10000/10000 [==============================] - 0s 42us/sample - loss: 0.0947 - accuracy: 0.9722\n",
            "Dropout: 0.9\n",
            "Train on 60000 samples\n",
            "Epoch 1/5\n",
            "60000/60000 [==============================] - 5s 85us/sample - loss: 0.4005 - accuracy: 0.8807\n",
            "Epoch 2/5\n",
            "60000/60000 [==============================] - 5s 83us/sample - loss: 0.2246 - accuracy: 0.9335\n",
            "Epoch 3/5\n",
            "60000/60000 [==============================] - 5s 82us/sample - loss: 0.1875 - accuracy: 0.9435\n",
            "Epoch 4/5\n",
            "60000/60000 [==============================] - 5s 84us/sample - loss: 0.1645 - accuracy: 0.9502\n",
            "Epoch 5/5\n",
            "60000/60000 [==============================] - 5s 84us/sample - loss: 0.1527 - accuracy: 0.9530\n",
            "10000/10000 [==============================] - 0s 44us/sample - loss: 0.0953 - accuracy: 0.9699\n"
          ],
          "name": "stdout"
        }
      ]
    }
  ]
}