{
  "nbformat": 4,
  "nbformat_minor": 0,
  "metadata": {
    "colab": {
      "name": "tf_keras_mnist.ipynb",
      "version": "0.3.2",
      "provenance": [],
      "collapsed_sections": []
    },
    "kernelspec": {
      "name": "python3",
      "display_name": "Python 3"
    }
  },
  "cells": [
    {
      "cell_type": "code",
      "metadata": {
        "id": "3qltdRq_azLf",
        "colab_type": "code",
        "colab": {
          "base_uri": "https://localhost:8080/",
          "height": 547
        },
        "outputId": "f18b8c5e-eebf-4c53-fa01-29d9c3457d72"
      },
      "source": [
        "from tensorflow.examples.tutorials.mnist import input_data\n",
        "mnist = input_data.read_data_sets('C:/Users/Svitlana', one_hot=True)"
      ],
      "execution_count": 1,
      "outputs": [
        {
          "output_type": "stream",
          "text": [
            "WARNING: Logging before flag parsing goes to stderr.\n",
            "W0809 12:48:12.349926 139921402709888 deprecation.py:323] From <ipython-input-1-9a82ca98995c>:2: read_data_sets (from tensorflow.contrib.learn.python.learn.datasets.mnist) is deprecated and will be removed in a future version.\n",
            "Instructions for updating:\n",
            "Please use alternatives such as official/mnist/dataset.py from tensorflow/models.\n",
            "W0809 12:48:12.351824 139921402709888 deprecation.py:323] From /usr/local/lib/python3.6/dist-packages/tensorflow/contrib/learn/python/learn/datasets/mnist.py:260: maybe_download (from tensorflow.contrib.learn.python.learn.datasets.base) is deprecated and will be removed in a future version.\n",
            "Instructions for updating:\n",
            "Please write your own downloading logic.\n",
            "W0809 12:48:12.358803 139921402709888 deprecation.py:323] From /usr/local/lib/python3.6/dist-packages/tensorflow/contrib/learn/python/learn/datasets/base.py:252: _internal_retry.<locals>.wrap.<locals>.wrapped_fn (from tensorflow.contrib.learn.python.learn.datasets.base) is deprecated and will be removed in a future version.\n",
            "Instructions for updating:\n",
            "Please use urllib or similar directly.\n",
            "W0809 12:48:12.840790 139921402709888 deprecation.py:323] From /usr/local/lib/python3.6/dist-packages/tensorflow/contrib/learn/python/learn/datasets/mnist.py:262: extract_images (from tensorflow.contrib.learn.python.learn.datasets.mnist) is deprecated and will be removed in a future version.\n",
            "Instructions for updating:\n",
            "Please use tf.data to implement this functionality.\n"
          ],
          "name": "stderr"
        },
        {
          "output_type": "stream",
          "text": [
            "Successfully downloaded train-images-idx3-ubyte.gz 9912422 bytes.\n",
            "Extracting C:/Users/Svitlana/train-images-idx3-ubyte.gz\n"
          ],
          "name": "stdout"
        },
        {
          "output_type": "stream",
          "text": [
            "W0809 12:48:13.217048 139921402709888 deprecation.py:323] From /usr/local/lib/python3.6/dist-packages/tensorflow/contrib/learn/python/learn/datasets/mnist.py:267: extract_labels (from tensorflow.contrib.learn.python.learn.datasets.mnist) is deprecated and will be removed in a future version.\n",
            "Instructions for updating:\n",
            "Please use tf.data to implement this functionality.\n",
            "W0809 12:48:13.223712 139921402709888 deprecation.py:323] From /usr/local/lib/python3.6/dist-packages/tensorflow/contrib/learn/python/learn/datasets/mnist.py:110: dense_to_one_hot (from tensorflow.contrib.learn.python.learn.datasets.mnist) is deprecated and will be removed in a future version.\n",
            "Instructions for updating:\n",
            "Please use tf.one_hot on tensors.\n"
          ],
          "name": "stderr"
        },
        {
          "output_type": "stream",
          "text": [
            "Successfully downloaded train-labels-idx1-ubyte.gz 28881 bytes.\n",
            "Extracting C:/Users/Svitlana/train-labels-idx1-ubyte.gz\n",
            "Successfully downloaded t10k-images-idx3-ubyte.gz 1648877 bytes.\n",
            "Extracting C:/Users/Svitlana/t10k-images-idx3-ubyte.gz\n"
          ],
          "name": "stdout"
        },
        {
          "output_type": "stream",
          "text": [
            "W0809 12:48:13.465932 139921402709888 deprecation.py:323] From /usr/local/lib/python3.6/dist-packages/tensorflow/contrib/learn/python/learn/datasets/mnist.py:290: DataSet.__init__ (from tensorflow.contrib.learn.python.learn.datasets.mnist) is deprecated and will be removed in a future version.\n",
            "Instructions for updating:\n",
            "Please use alternatives such as official/mnist/dataset.py from tensorflow/models.\n"
          ],
          "name": "stderr"
        },
        {
          "output_type": "stream",
          "text": [
            "Successfully downloaded t10k-labels-idx1-ubyte.gz 4542 bytes.\n",
            "Extracting C:/Users/Svitlana/t10k-labels-idx1-ubyte.gz\n"
          ],
          "name": "stdout"
        }
      ]
    },
    {
      "cell_type": "code",
      "metadata": {
        "id": "fQVjfATjbFzr",
        "colab_type": "code",
        "colab": {}
      },
      "source": [
        "import numpy as np\n",
        "X_train = mnist.train.images\n",
        "X_test = mnist.test.images\n",
        "y_train = np.argmax(mnist.train.labels, axis=1)\n",
        "y_test = np.argmax(mnist.test.labels, axis=1)"
      ],
      "execution_count": 0,
      "outputs": []
    },
    {
      "cell_type": "code",
      "metadata": {
        "id": "Ql7RVXWebovm",
        "colab_type": "code",
        "colab": {
          "base_uri": "https://localhost:8080/",
          "height": 34
        },
        "outputId": "d6d574c0-369f-430e-97b7-5ae34f69d818"
      },
      "source": [
        "X_train.shape, X_test.shape, y_train.shape, y_test.shape"
      ],
      "execution_count": 4,
      "outputs": [
        {
          "output_type": "execute_result",
          "data": {
            "text/plain": [
              "((55000, 784), (10000, 784), (55000,), (10000,))"
            ]
          },
          "metadata": {
            "tags": []
          },
          "execution_count": 4
        }
      ]
    },
    {
      "cell_type": "code",
      "metadata": {
        "id": "XUCUmeK6bzbv",
        "colab_type": "code",
        "colab": {}
      },
      "source": [
        "import tensorflow as tf\n",
        "import tensorflow.keras as keras\n",
        "np.random.seed(123)\n",
        "tf.set_random_seed(123)"
      ],
      "execution_count": 0,
      "outputs": []
    },
    {
      "cell_type": "code",
      "metadata": {
        "id": "Xr0joua8cIop",
        "colab_type": "code",
        "colab": {
          "base_uri": "https://localhost:8080/",
          "height": 119
        },
        "outputId": "2cb7dc9f-4a90-4554-bea3-ab99cdcd8d64"
      },
      "source": [
        "y_train_onehot = keras.utils.to_categorical(y_train)\n",
        " \n",
        "print('First 3 labels: ', y_train[:3])\n",
        "print('\\nFirst 3 labels (one-hot):\\n', y_train_onehot[:3])"
      ],
      "execution_count": 7,
      "outputs": [
        {
          "output_type": "stream",
          "text": [
            "First 3 labels:  [7 3 4]\n",
            "\n",
            "First 3 labels (one-hot):\n",
            " [[0. 0. 0. 0. 0. 0. 0. 1. 0. 0.]\n",
            " [0. 0. 0. 1. 0. 0. 0. 0. 0. 0.]\n",
            " [0. 0. 0. 0. 1. 0. 0. 0. 0. 0.]]\n"
          ],
          "name": "stdout"
        }
      ]
    },
    {
      "cell_type": "code",
      "metadata": {
        "id": "X_brF1iFcOV6",
        "colab_type": "code",
        "colab": {
          "base_uri": "https://localhost:8080/",
          "height": 88
        },
        "outputId": "3b44209c-ee12-45ff-86bc-682482dd60e1"
      },
      "source": [
        "model = keras.models.Sequential()\n",
        "\n",
        "model.add(\n",
        "    keras.layers.Dense(\n",
        "        units=50,    \n",
        "        input_dim=X_train.shape[1],\n",
        "        kernel_initializer='glorot_uniform',\n",
        "        bias_initializer='zeros',\n",
        "        activation='tanh'))\n",
        "\n",
        "model.add(\n",
        "    keras.layers.Dense(\n",
        "        units=50,    \n",
        "        input_dim=50,\n",
        "        kernel_initializer='glorot_uniform',\n",
        "        bias_initializer='zeros',\n",
        "        activation='tanh'))\n",
        "\n",
        "model.add(\n",
        "    keras.layers.Dense(\n",
        "        units=y_train_onehot.shape[1],    \n",
        "        input_dim=50,\n",
        "        kernel_initializer='glorot_uniform',\n",
        "        bias_initializer='zeros',\n",
        "        activation='softmax'))\n",
        "\n",
        "\n",
        "sgd_optimizer = keras.optimizers.SGD(\n",
        "        lr=0.001, decay=1e-7, momentum=.9)\n",
        "\n",
        "model.compile(optimizer=sgd_optimizer,\n",
        "              loss='categorical_crossentropy')"
      ],
      "execution_count": 9,
      "outputs": [
        {
          "output_type": "stream",
          "text": [
            "W0809 12:53:53.093231 139921402709888 deprecation.py:506] From /usr/local/lib/python3.6/dist-packages/tensorflow/python/ops/init_ops.py:1251: calling VarianceScaling.__init__ (from tensorflow.python.ops.init_ops) with dtype is deprecated and will be removed in a future version.\n",
            "Instructions for updating:\n",
            "Call initializer instance with the dtype argument instead of passing it to the constructor\n"
          ],
          "name": "stderr"
        }
      ]
    },
    {
      "cell_type": "code",
      "metadata": {
        "id": "AeSALQ8DcYb1",
        "colab_type": "code",
        "colab": {
          "base_uri": "https://localhost:8080/",
          "height": 1000
        },
        "outputId": "e0382d02-dd00-4be7-83ce-81a8e8fdbfb5"
      },
      "source": [
        "history = model.fit(X_train, y_train_onehot,\n",
        "                    batch_size=64, epochs=50,\n",
        "                    verbose=1,\n",
        "                    validation_split=0.1)"
      ],
      "execution_count": 10,
      "outputs": [
        {
          "output_type": "stream",
          "text": [
            "Train on 49500 samples, validate on 5500 samples\n",
            "Epoch 1/50\n",
            "49500/49500 [==============================] - 2s 42us/sample - loss: 1.0124 - val_loss: 0.5086\n",
            "Epoch 2/50\n",
            "49500/49500 [==============================] - 2s 31us/sample - loss: 0.4904 - val_loss: 0.3552\n",
            "Epoch 3/50\n",
            "49500/49500 [==============================] - 2s 31us/sample - loss: 0.3929 - val_loss: 0.2990\n",
            "Epoch 4/50\n",
            "49500/49500 [==============================] - 2s 31us/sample - loss: 0.3475 - val_loss: 0.2703\n",
            "Epoch 5/50\n",
            "49500/49500 [==============================] - 2s 31us/sample - loss: 0.3191 - val_loss: 0.2501\n",
            "Epoch 6/50\n",
            "49500/49500 [==============================] - 2s 31us/sample - loss: 0.2988 - val_loss: 0.2352\n",
            "Epoch 7/50\n",
            "49500/49500 [==============================] - 2s 31us/sample - loss: 0.2826 - val_loss: 0.2249\n",
            "Epoch 8/50\n",
            "49500/49500 [==============================] - 2s 31us/sample - loss: 0.2691 - val_loss: 0.2162\n",
            "Epoch 9/50\n",
            "49500/49500 [==============================] - 2s 31us/sample - loss: 0.2573 - val_loss: 0.2074\n",
            "Epoch 10/50\n",
            "49500/49500 [==============================] - 2s 31us/sample - loss: 0.2470 - val_loss: 0.1984\n",
            "Epoch 11/50\n",
            "49500/49500 [==============================] - 2s 32us/sample - loss: 0.2371 - val_loss: 0.1928\n",
            "Epoch 12/50\n",
            "49500/49500 [==============================] - 2s 31us/sample - loss: 0.2284 - val_loss: 0.1861\n",
            "Epoch 13/50\n",
            "49500/49500 [==============================] - 2s 31us/sample - loss: 0.2203 - val_loss: 0.1811\n",
            "Epoch 14/50\n",
            "49500/49500 [==============================] - 2s 32us/sample - loss: 0.2127 - val_loss: 0.1755\n",
            "Epoch 15/50\n",
            "49500/49500 [==============================] - 2s 31us/sample - loss: 0.2058 - val_loss: 0.1705\n",
            "Epoch 16/50\n",
            "49500/49500 [==============================] - 2s 31us/sample - loss: 0.1995 - val_loss: 0.1661\n",
            "Epoch 17/50\n",
            "49500/49500 [==============================] - 2s 31us/sample - loss: 0.1932 - val_loss: 0.1616\n",
            "Epoch 18/50\n",
            "49500/49500 [==============================] - 2s 31us/sample - loss: 0.1872 - val_loss: 0.1576\n",
            "Epoch 19/50\n",
            "49500/49500 [==============================] - 2s 31us/sample - loss: 0.1817 - val_loss: 0.1538\n",
            "Epoch 20/50\n",
            "49500/49500 [==============================] - 2s 31us/sample - loss: 0.1767 - val_loss: 0.1503\n",
            "Epoch 21/50\n",
            "49500/49500 [==============================] - 2s 31us/sample - loss: 0.1719 - val_loss: 0.1478\n",
            "Epoch 22/50\n",
            "49500/49500 [==============================] - 2s 31us/sample - loss: 0.1670 - val_loss: 0.1444\n",
            "Epoch 23/50\n",
            "49500/49500 [==============================] - 2s 31us/sample - loss: 0.1626 - val_loss: 0.1424\n",
            "Epoch 24/50\n",
            "49500/49500 [==============================] - 2s 31us/sample - loss: 0.1583 - val_loss: 0.1387\n",
            "Epoch 25/50\n",
            "49500/49500 [==============================] - 2s 31us/sample - loss: 0.1542 - val_loss: 0.1355\n",
            "Epoch 26/50\n",
            "49500/49500 [==============================] - 2s 31us/sample - loss: 0.1505 - val_loss: 0.1332\n",
            "Epoch 27/50\n",
            "49500/49500 [==============================] - 2s 31us/sample - loss: 0.1469 - val_loss: 0.1306\n",
            "Epoch 28/50\n",
            "49500/49500 [==============================] - 2s 31us/sample - loss: 0.1432 - val_loss: 0.1303\n",
            "Epoch 29/50\n",
            "49500/49500 [==============================] - 2s 32us/sample - loss: 0.1399 - val_loss: 0.1279\n",
            "Epoch 30/50\n",
            "49500/49500 [==============================] - 2s 32us/sample - loss: 0.1368 - val_loss: 0.1247\n",
            "Epoch 31/50\n",
            "49500/49500 [==============================] - 2s 32us/sample - loss: 0.1334 - val_loss: 0.1229\n",
            "Epoch 32/50\n",
            "49500/49500 [==============================] - 2s 31us/sample - loss: 0.1306 - val_loss: 0.1212\n",
            "Epoch 33/50\n",
            "49500/49500 [==============================] - 2s 32us/sample - loss: 0.1278 - val_loss: 0.1195\n",
            "Epoch 34/50\n",
            "49500/49500 [==============================] - 2s 31us/sample - loss: 0.1248 - val_loss: 0.1189\n",
            "Epoch 35/50\n",
            "49500/49500 [==============================] - 2s 32us/sample - loss: 0.1222 - val_loss: 0.1166\n",
            "Epoch 36/50\n",
            "49500/49500 [==============================] - 2s 31us/sample - loss: 0.1196 - val_loss: 0.1143\n",
            "Epoch 37/50\n",
            "49500/49500 [==============================] - 2s 31us/sample - loss: 0.1172 - val_loss: 0.1135\n",
            "Epoch 38/50\n",
            "49500/49500 [==============================] - 2s 31us/sample - loss: 0.1150 - val_loss: 0.1121\n",
            "Epoch 39/50\n",
            "49500/49500 [==============================] - 2s 31us/sample - loss: 0.1124 - val_loss: 0.1108\n",
            "Epoch 40/50\n",
            "49500/49500 [==============================] - 2s 31us/sample - loss: 0.1103 - val_loss: 0.1099\n",
            "Epoch 41/50\n",
            "49500/49500 [==============================] - 2s 31us/sample - loss: 0.1082 - val_loss: 0.1084\n",
            "Epoch 42/50\n",
            "49500/49500 [==============================] - 2s 31us/sample - loss: 0.1060 - val_loss: 0.1072\n",
            "Epoch 43/50\n",
            "49500/49500 [==============================] - 2s 31us/sample - loss: 0.1040 - val_loss: 0.1055\n",
            "Epoch 44/50\n",
            "49500/49500 [==============================] - 2s 32us/sample - loss: 0.1021 - val_loss: 0.1047\n",
            "Epoch 45/50\n",
            "49500/49500 [==============================] - 2s 31us/sample - loss: 0.1001 - val_loss: 0.1033\n",
            "Epoch 46/50\n",
            "49500/49500 [==============================] - 2s 31us/sample - loss: 0.0984 - val_loss: 0.1027\n",
            "Epoch 47/50\n",
            "49500/49500 [==============================] - 2s 31us/sample - loss: 0.0965 - val_loss: 0.1019\n",
            "Epoch 48/50\n",
            "49500/49500 [==============================] - 2s 32us/sample - loss: 0.0949 - val_loss: 0.1013\n",
            "Epoch 49/50\n",
            "49500/49500 [==============================] - 2s 33us/sample - loss: 0.0931 - val_loss: 0.1001\n",
            "Epoch 50/50\n",
            "49500/49500 [==============================] - 2s 37us/sample - loss: 0.0914 - val_loss: 0.0988\n"
          ],
          "name": "stdout"
        }
      ]
    },
    {
      "cell_type": "code",
      "metadata": {
        "id": "-qut3isGcm7G",
        "colab_type": "code",
        "colab": {
          "base_uri": "https://localhost:8080/",
          "height": 34
        },
        "outputId": "fa887755-f9fc-46be-fee3-ab4bf791ffdf"
      },
      "source": [
        "y_train_pred = model.predict_classes(X_train, verbose=0)\n",
        "print('First 3 predictions: ', y_train_pred[:3])"
      ],
      "execution_count": 11,
      "outputs": [
        {
          "output_type": "stream",
          "text": [
            "First 3 predictions:  [7 3 9]\n"
          ],
          "name": "stdout"
        }
      ]
    },
    {
      "cell_type": "code",
      "metadata": {
        "id": "n1pS3DWEcn9m",
        "colab_type": "code",
        "colab": {
          "base_uri": "https://localhost:8080/",
          "height": 51
        },
        "outputId": "39914918-ed3f-4e50-abc3-76e84f007be2"
      },
      "source": [
        "y_train_pred = model.predict_classes(X_train, \n",
        "                                     verbose=0)\n",
        "correct_preds = np.sum(y_train == y_train_pred, axis=0) \n",
        "train_acc = correct_preds / y_train.shape[0]\n",
        "\n",
        "print('First 3 predictions: ', y_train_pred[:3])\n",
        "print('Training accuracy: %.2f%%' % (train_acc * 100))"
      ],
      "execution_count": 13,
      "outputs": [
        {
          "output_type": "stream",
          "text": [
            "First 3 predictions:  [7 3 9]\n",
            "Training accuracy: 97.55%\n"
          ],
          "name": "stdout"
        }
      ]
    },
    {
      "cell_type": "code",
      "metadata": {
        "id": "vBoByONNcqtG",
        "colab_type": "code",
        "colab": {
          "base_uri": "https://localhost:8080/",
          "height": 34
        },
        "outputId": "35d2fa55-96af-4db0-ec1a-f04710729805"
      },
      "source": [
        "y_test_pred = model.predict_classes(X_test, \n",
        "                                    verbose=0)\n",
        "\n",
        "correct_preds = np.sum(y_test == y_test_pred, axis=0) \n",
        "test_acc = correct_preds / y_test.shape[0]\n",
        "print('Test accuracy: %.2f%%' % (test_acc * 100))"
      ],
      "execution_count": 15,
      "outputs": [
        {
          "output_type": "stream",
          "text": [
            "Test accuracy: 96.52%\n"
          ],
          "name": "stdout"
        }
      ]
    },
    {
      "cell_type": "code",
      "metadata": {
        "id": "rD5Vr3tidGFK",
        "colab_type": "code",
        "colab": {
          "base_uri": "https://localhost:8080/",
          "height": 34
        },
        "outputId": "ea66fcb7-4be2-4c57-f68a-cef46091b059"
      },
      "source": [
        "X = np.array([1, 1.4, 2.5]) ## first value must be 1\n",
        "w = np.array([0.4, 0.3, 0.5])\n",
        "\n",
        "def net_input(X, w):\n",
        "    return np.dot(X, w)\n",
        "\n",
        "def logistic(z):\n",
        "    return 1.0 / (1.0 + np.exp(-z))\n",
        "\n",
        "def logistic_activation(X, w):\n",
        "    z = net_input(X, w)\n",
        "    return logistic(z)\n",
        "\n",
        "print('P(y=1|x) = %.3f' % logistic_activation(X, w))"
      ],
      "execution_count": 16,
      "outputs": [
        {
          "output_type": "stream",
          "text": [
            "P(y=1|x) = 0.888\n"
          ],
          "name": "stdout"
        }
      ]
    },
    {
      "cell_type": "code",
      "metadata": {
        "id": "HK6fNrEudNGC",
        "colab_type": "code",
        "colab": {
          "base_uri": "https://localhost:8080/",
          "height": 85
        },
        "outputId": "f388572a-c7d5-4694-96b6-044c20ceff21"
      },
      "source": [
        "# W : array with shape = (n_output_units, n_hidden_units+1)\n",
        "#     note that the first column are the bias units\n",
        "\n",
        "W = np.array([[1.1, 1.2, 0.8, 0.4],\n",
        "              [0.2, 0.4, 1.0, 0.2],\n",
        "              [0.6, 1.5, 1.2, 0.7]])\n",
        "\n",
        "# A : data array with shape = (n_hidden_units + 1, n_samples)\n",
        "#     note that the first column of this array must be 1\n",
        "\n",
        "A = np.array([[1, 0.1, 0.4, 0.6]])\n",
        "\n",
        "Z = np.dot(W, A[0])\n",
        "y_probas = logistic(Z)\n",
        "\n",
        "print('Net Input: \\n', Z)\n",
        "\n",
        "print('Output Units:\\n', y_probas)"
      ],
      "execution_count": 17,
      "outputs": [
        {
          "output_type": "stream",
          "text": [
            "Net Input: \n",
            " [1.78 0.76 1.65]\n",
            "Output Units:\n",
            " [0.85569687 0.68135373 0.83889105]\n"
          ],
          "name": "stdout"
        }
      ]
    },
    {
      "cell_type": "code",
      "metadata": {
        "id": "8n4bQu_hdRED",
        "colab_type": "code",
        "colab": {
          "base_uri": "https://localhost:8080/",
          "height": 34
        },
        "outputId": "8d5d9501-6d18-43b1-ab74-311ca6163859"
      },
      "source": [
        "y_class = np.argmax(Z, axis=0)\n",
        "print('Predicted class label: %d' % y_class)"
      ],
      "execution_count": 18,
      "outputs": [
        {
          "output_type": "stream",
          "text": [
            "Predicted class label: 0\n"
          ],
          "name": "stdout"
        }
      ]
    },
    {
      "cell_type": "code",
      "metadata": {
        "id": "qKGp7ewZdUps",
        "colab_type": "code",
        "colab": {
          "base_uri": "https://localhost:8080/",
          "height": 51
        },
        "outputId": "4aa130eb-3ad5-4ef8-f44d-29049645789c"
      },
      "source": [
        "def softmax(z):\n",
        "    return np.exp(z) / np.sum(np.exp(z))\n",
        "\n",
        "y_probas = softmax(Z)\n",
        "print('Probabilities:\\n', y_probas)"
      ],
      "execution_count": 19,
      "outputs": [
        {
          "output_type": "stream",
          "text": [
            "Probabilities:\n",
            " [0.44668973 0.16107406 0.39223621]\n"
          ],
          "name": "stdout"
        }
      ]
    },
    {
      "cell_type": "code",
      "metadata": {
        "id": "YAKNqyWTdmDE",
        "colab_type": "code",
        "colab": {
          "base_uri": "https://localhost:8080/",
          "height": 34
        },
        "outputId": "e37f3546-ead9-44ca-d48c-c7b1e51d533c"
      },
      "source": [
        "np.sum(y_probas)"
      ],
      "execution_count": 20,
      "outputs": [
        {
          "output_type": "execute_result",
          "data": {
            "text/plain": [
              "1.0"
            ]
          },
          "metadata": {
            "tags": []
          },
          "execution_count": 20
        }
      ]
    },
    {
      "cell_type": "code",
      "metadata": {
        "id": "5lj046OBdqIk",
        "colab_type": "code",
        "colab": {
          "base_uri": "https://localhost:8080/",
          "height": 297
        },
        "outputId": "8fa38e16-f98c-4b64-d511-158a37c3ffca"
      },
      "source": [
        "import matplotlib.pyplot as plt\n",
        "\n",
        "def tanh(z):\n",
        "    e_p = np.exp(z)\n",
        "    e_m = np.exp(-z)\n",
        "    return (e_p - e_m) / (e_p + e_m)\n",
        "\n",
        "z = np.arange(-5, 5, 0.005)\n",
        "log_act = logistic(z)\n",
        "tanh_act = tanh(z)\n",
        "\n",
        "plt.ylim([-1.5, 1.5])\n",
        "plt.xlabel('net input $z$')\n",
        "plt.ylabel('activation $\\phi(z)$')\n",
        "plt.axhline(1, color='black', linestyle=':')\n",
        "plt.axhline(0.5, color='black', linestyle=':')\n",
        "plt.axhline(0, color='black', linestyle=':')\n",
        "plt.axhline(-0.5, color='black', linestyle=':')\n",
        "plt.axhline(-1, color='black', linestyle=':')\n",
        "\n",
        "plt.plot(z, tanh_act,\n",
        "         linewidth=3, linestyle='--',\n",
        "         label='tanh')\n",
        "\n",
        "plt.plot(z, log_act,\n",
        "         linewidth=3,\n",
        "         label='logistic')\n",
        "plt.legend(loc='lower right')\n",
        "plt.tight_layout()\n",
        "plt.show()"
      ],
      "execution_count": 21,
      "outputs": [
        {
          "output_type": "display_data",
          "data": {
            "image/png": "[encoded data removed]",
            "text/plain": [
              "<Figure size 432x288 with 1 Axes>"
            ]
          },
          "metadata": {
            "tags": []
          }
        }
      ]
    },
    {
      "cell_type": "code",
      "metadata": {
        "id": "o3988_ofdv-k",
        "colab_type": "code",
        "colab": {}
      },
      "source": [
        ""
      ],
      "execution_count": 0,
      "outputs": []
    }
  ]
}