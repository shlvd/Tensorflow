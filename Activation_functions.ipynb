{
 "cells": [
  {
   "cell_type": "code",
   "execution_count": null,
   "metadata": {},
   "outputs": [],
   "source": [
    "import tensorflow as tf\n",
    "import numpy as np\n",
    "import matplotlib.pyplot as plt\n",
    "\n",
    "from mpl_toolkits.mplot3d import Axes3D\n",
    "\n",
    "%matplotlib inline"
   ]
  },
  {
   "cell_type": "code",
   "execution_count": null,
   "metadata": {},
   "outputs": [],
   "source": [
    "def plot_act(i=1.0, actfunc=lambda x: x):\n",
    "    ws = np.arange(-0.5, 0.5, 0.05)\n",
    "    bs = np.arange(-0.5, 0.5, 0.05)\n",
    "\n",
    "    X, Y = np.meshgrid(ws, bs)\n",
    "\n",
    "    os = np.array([actfunc(tf.constant(w*i + b)).eval(session=sess) \\\n",
    "                   for w,b in zip(np.ravel(X), np.ravel(Y))])\n",
    "\n",
    "    Z = os.reshape(X.shape)\n",
    "\n",
    "    fig = plt.figure()\n",
    "    ax = fig.add_subplot(111, projection='3d')\n",
    "    ax.plot_surface(X, Y, Z, rstride=1, cstride=1)"
   ]
  },
  {
   "cell_type": "code",
   "execution_count": null,
   "metadata": {},
   "outputs": [],
   "source": [
    "#start a session\n",
    "sess = tf.Session();\n",
    "#create a simple input of 3 real values\n",
    "i = tf.constant([1.0, 2.0, 3.0], shape=[1, 3])\n",
    "#create a matrix of weights\n",
    "w = tf.random_normal(shape=[3, 3])\n",
    "#create a vector of biases\n",
    "b = tf.random_normal(shape=[1, 3])\n",
    "#dummy activation function\n",
    "def func(x): return x\n",
    "#tf.matmul will multiply the input(i) tensor and the weight(w) tensor then sum the result with the bias(b) tensor.\n",
    "act = func(tf.matmul(i, w) + b)\n",
    "#Evaluate the tensor to a numpy array\n",
    "act.eval(session=sess)"
   ]
  },
  {
   "cell_type": "code",
   "execution_count": null,
   "metadata": {},
   "outputs": [],
   "source": [
    "plot_act(1.0, func)"
   ]
  },
  {
   "cell_type": "code",
   "execution_count": null,
   "metadata": {},
   "outputs": [],
   "source": [
    "plot_act(1, tf.sigmoid)"
   ]
  },
  {
   "cell_type": "code",
   "execution_count": null,
   "metadata": {},
   "outputs": [],
   "source": [
    "act = tf.sigmoid(tf.matmul(i, w) + b)\n",
    "act.eval(session=sess)"
   ]
  },
  {
   "cell_type": "code",
   "execution_count": null,
   "metadata": {},
   "outputs": [],
   "source": [
    "plot_act(1, tf.tanh)"
   ]
  },
  {
   "cell_type": "code",
   "execution_count": null,
   "metadata": {},
   "outputs": [],
   "source": [
    "act = tf.tanh(tf.matmul(i, w) + b)\n",
    "act.eval(session=sess)"
   ]
  },
  {
   "cell_type": "code",
   "execution_count": null,
   "metadata": {},
   "outputs": [],
   "source": [
    "plot_act(1, tf.nn.relu)"
   ]
  },
  {
   "cell_type": "code",
   "execution_count": null,
   "metadata": {},
   "outputs": [],
   "source": [
    "act = tf.nn.relu(tf.matmul(i, w) + b)\n",
    "act.eval(session=sess)"
   ]
  }
 ],
 "metadata": {
  "kernelspec": {
   "display_name": "Python 3",
   "language": "python",
   "name": "python3"
  },
  "language_info": {
   "codemirror_mode": {
    "name": "ipython",
    "version": 3
   },
   "file_extension": ".py",
   "mimetype": "text/x-python",
   "name": "python",
   "nbconvert_exporter": "python",
   "pygments_lexer": "ipython3",
   "version": "3.7.4"
  }
 },
 "nbformat": 4,
 "nbformat_minor": 2
}
