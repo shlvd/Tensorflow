{
  "nbformat": 4,
  "nbformat_minor": 0,
  "metadata": {
    "colab": {
      "name": "NLP Course - Week 3 Exercise Question.ipynb",
      "provenance": []
    },
    "kernelspec": {
      "name": "python3",
      "display_name": "Python 3"
    },
    "accelerator": "GPU"
  },
  "cells": [
    {
      "cell_type": "code",
      "metadata": {
        "id": "hmA6EzkQJ5jt",
        "colab_type": "code",
        "colab": {
          "base_uri": "https://localhost:8080/",
          "height": 63
        },
        "outputId": "b8d6d585-42ea-4a8a-8a58-ea2dc5daaece"
      },
      "source": [
        "import json\n",
        "import tensorflow as tf\n",
        "import csv\n",
        "import random\n",
        "import numpy as np\n",
        "\n",
        "from tensorflow.keras.preprocessing.text import Tokenizer\n",
        "from tensorflow.keras.preprocessing.sequence import pad_sequences\n",
        "from tensorflow.keras.utils import to_categorical\n",
        "from tensorflow.keras import regularizers\n",
        "\n",
        "\n",
        "embedding_dim = 100\n",
        "max_length = 16\n",
        "trunc_type='post'\n",
        "padding_type='post'\n",
        "oov_tok = \"<OOV>\"\n",
        "training_size=160000\n",
        "test_portion=.1\n",
        "\n",
        "corpus = []\n"
      ],
      "execution_count": 2,
      "outputs": [
        {
          "output_type": "display_data",
          "data": {
            "text/html": [
              "<p style=\"color: red;\">\n",
              "The default version of TensorFlow in Colab will soon switch to TensorFlow 2.x.<br>\n",
              "We recommend you <a href=\"https://www.tensorflow.org/guide/migrate\" target=\"_blank\">upgrade</a> now \n",
              "or ensure your notebook will continue to use TensorFlow 1.x via the <code>%tensorflow_version 1.x</code> magic:\n",
              "<a href=\"https://colab.research.google.com/notebooks/tensorflow_version.ipynb\" target=\"_blank\">more info</a>.</p>\n"
            ],
            "text/plain": [
              "<IPython.core.display.HTML object>"
            ]
          },
          "metadata": {
            "tags": []
          }
        }
      ]
    },
    {
      "cell_type": "code",
      "metadata": {
        "id": "bM0l_dORKqE0",
        "colab_type": "code",
        "outputId": "0d162f61-a997-49bf-b2f3-7dbc7ab2a6c9",
        "colab": {
          "base_uri": "https://localhost:8080/",
          "height": 204
        }
      },
      "source": [
        "\n",
        "# Note that I cleaned the Stanford dataset to remove LATIN1 encoding to make it easier for Python CSV reader\n",
        "# You can do that yourself with:\n",
        "# iconv -f LATIN1 -t UTF8 training.1600000.processed.noemoticon.csv -o training_cleaned.csv\n",
        "# I then hosted it on my site to make it easier to use in this notebook\n",
        "\n",
        "!wget --no-check-certificate \\\n",
        "    https://storage.googleapis.com/laurencemoroney-blog.appspot.com/training_cleaned.csv \\\n",
        "    -O /tmp/training_cleaned.csv\n",
        "\n",
        "num_sentences = 0\n",
        "\n",
        "with open(\"/tmp/training_cleaned.csv\") as csvfile:\n",
        "    reader = csv.reader(csvfile, delimiter=',')\n",
        "    for row in reader:\n",
        "        list_item=[]\n",
        "        list_item.append(row[5])\n",
        "        this_label=row[0]\n",
        "        if this_label=='0':\n",
        "            list_item.append(0)\n",
        "        else:\n",
        "            list_item.append(1)\n",
        "        num_sentences = num_sentences + 1\n",
        "        corpus.append(list_item)\n",
        "\n",
        "\n"
      ],
      "execution_count": 3,
      "outputs": [
        {
          "output_type": "stream",
          "text": [
            "--2020-02-05 14:34:03--  https://storage.googleapis.com/laurencemoroney-blog.appspot.com/training_cleaned.csv\n",
            "Resolving storage.googleapis.com (storage.googleapis.com)... 173.194.79.128, 2a00:1450:4013:c08::80\n",
            "Connecting to storage.googleapis.com (storage.googleapis.com)|173.194.79.128|:443... connected.\n",
            "HTTP request sent, awaiting response... 200 OK\n",
            "Length: 238942690 (228M) [application/octet-stream]\n",
            "Saving to: ‘/tmp/training_cleaned.csv’\n",
            "\n",
            "\r          /tmp/trai   0%[                    ]       0  --.-KB/s               \r         /tmp/train  20%[===>                ]  46.39M   232MB/s               \r        /tmp/traini  54%[=========>          ] 124.38M   309MB/s               \r       /tmp/trainin  78%[==============>     ] 179.63M   298MB/s               \r/tmp/training_clean 100%[===================>] 227.87M   301MB/s    in 0.8s    \n",
            "\n",
            "2020-02-05 14:34:04 (301 MB/s) - ‘/tmp/training_cleaned.csv’ saved [238942690/238942690]\n",
            "\n"
          ],
          "name": "stdout"
        }
      ]
    },
    {
      "cell_type": "code",
      "metadata": {
        "id": "3kxblBUjEUX-",
        "colab_type": "code",
        "outputId": "9a98e15c-2153-4d0a-89b7-a45c1658a96c",
        "colab": {
          "base_uri": "https://localhost:8080/",
          "height": 68
        }
      },
      "source": [
        "print(num_sentences)\n",
        "print(len(corpus))\n",
        "print(corpus[1])\n",
        "\n",
        "# Expected Output:\n",
        "# 1600000\n",
        "# 1600000\n",
        "# [\"is upset that he can't update his Facebook by texting it... and might cry as a result  School today also. Blah!\", 0]"
      ],
      "execution_count": 4,
      "outputs": [
        {
          "output_type": "stream",
          "text": [
            "1600000\n",
            "1600000\n",
            "[\"is upset that he can't update his Facebook by texting it... and might cry as a result  School today also. Blah!\", 0]\n"
          ],
          "name": "stdout"
        }
      ]
    },
    {
      "cell_type": "code",
      "metadata": {
        "id": "ohOGz24lsNAD",
        "colab_type": "code",
        "colab": {}
      },
      "source": [
        "sentences=[]\n",
        "labels=[]\n",
        "random.shuffle(corpus)\n",
        "for x in range(training_size):\n",
        "    sentences.append(corpus[x][0])\n",
        "    labels.append(corpus[x][1])\n",
        "\n",
        "\n",
        "tokenizer = Tokenizer()\n",
        "tokenizer.fit_on_texts(sentences)\n",
        "\n",
        "word_index = tokenizer.word_index\n",
        "vocab_size=len(word_index)\n",
        "\n",
        "sequences = tokenizer.texts_to_sequences(sentences)\n",
        "padded = pad_sequences(sequences, maxlen=max_length, padding=padding_type, truncating=trunc_type)\n",
        "\n",
        "split = int(test_portion * training_size)\n",
        "\n",
        "test_sequences = padded[0:split]\n",
        "training_sequences = padded[split:training_size]\n",
        "test_labels = labels[0:split]\n",
        "training_labels = labels[split:training_size]"
      ],
      "execution_count": 0,
      "outputs": []
    },
    {
      "cell_type": "code",
      "metadata": {
        "id": "gIrtRem1En3N",
        "colab_type": "code",
        "outputId": "36238b3f-4907-447d-9d75-27a0285c38c4",
        "colab": {
          "base_uri": "https://localhost:8080/",
          "height": 51
        }
      },
      "source": [
        "print(vocab_size)\n",
        "print(word_index['i'])\n",
        "# Expected Output\n",
        "# 138858\n",
        "# 1"
      ],
      "execution_count": 6,
      "outputs": [
        {
          "output_type": "stream",
          "text": [
            "138866\n",
            "1\n"
          ],
          "name": "stdout"
        }
      ]
    },
    {
      "cell_type": "code",
      "metadata": {
        "id": "C1zdgJkusRh0",
        "colab_type": "code",
        "outputId": "651346e0-b31b-4b4d-9c6d-7a26018350f7",
        "colab": {
          "base_uri": "https://localhost:8080/",
          "height": 204
        }
      },
      "source": [
        "# Note this is the 100 dimension version of GloVe from Stanford\n",
        "# I unzipped and hosted it on my site to make this notebook easier\n",
        "!wget --no-check-certificate \\\n",
        "    https://storage.googleapis.com/laurencemoroney-blog.appspot.com/glove.6B.100d.txt \\\n",
        "    -O /tmp/glove.6B.100d.txt\n",
        "embeddings_index = {};\n",
        "with open('/tmp/glove.6B.100d.txt') as f:\n",
        "    for line in f:\n",
        "        values = line.split();\n",
        "        word = values[0];\n",
        "        coefs = np.asarray(values[1:], dtype='float32');\n",
        "        embeddings_index[word] = coefs;\n",
        "\n",
        "embeddings_matrix = np.zeros((vocab_size+1, embedding_dim));\n",
        "for word, i in word_index.items():\n",
        "    embedding_vector = embeddings_index.get(word);\n",
        "    if embedding_vector is not None:\n",
        "        embeddings_matrix[i] = embedding_vector;"
      ],
      "execution_count": 7,
      "outputs": [
        {
          "output_type": "stream",
          "text": [
            "--2020-02-05 14:35:56--  https://storage.googleapis.com/laurencemoroney-blog.appspot.com/glove.6B.100d.txt\n",
            "Resolving storage.googleapis.com (storage.googleapis.com)... 173.194.69.128, 2a00:1450:4013:c08::80\n",
            "Connecting to storage.googleapis.com (storage.googleapis.com)|173.194.69.128|:443... connected.\n",
            "HTTP request sent, awaiting response... 200 OK\n",
            "Length: 347116733 (331M) [text/plain]\n",
            "Saving to: ‘/tmp/glove.6B.100d.txt’\n",
            "\n",
            "/tmp/glove.6B.100d. 100%[===================>] 331.04M   142MB/s    in 2.3s    \n",
            "\n",
            "2020-02-05 14:35:58 (142 MB/s) - ‘/tmp/glove.6B.100d.txt’ saved [347116733/347116733]\n",
            "\n"
          ],
          "name": "stdout"
        }
      ]
    },
    {
      "cell_type": "code",
      "metadata": {
        "id": "71NLk_lpFLNt",
        "colab_type": "code",
        "outputId": "59501a2c-6eea-444c-bba8-4e52898e6dbe",
        "colab": {
          "base_uri": "https://localhost:8080/",
          "height": 34
        }
      },
      "source": [
        "print(len(embeddings_matrix))\n",
        "# Expected Output\n",
        "# 138859"
      ],
      "execution_count": 8,
      "outputs": [
        {
          "output_type": "stream",
          "text": [
            "138867\n"
          ],
          "name": "stdout"
        }
      ]
    },
    {
      "cell_type": "code",
      "metadata": {
        "colab_type": "code",
        "id": "iKKvbuEBOGFz",
        "colab": {
          "base_uri": "https://localhost:8080/",
          "height": 1000
        },
        "outputId": "d6fa9782-3b7a-49f5-da80-4eec1f6d8255"
      },
      "source": [
        "model = tf.keras.Sequential([\n",
        "    tf.keras.layers.Embedding(vocab_size+1, embedding_dim, input_length=max_length, weights=[embeddings_matrix], trainable=False),\n",
        "    tf.keras.layers.Dropout(0.2),\n",
        "    tf.keras.layers.Conv1D(64, 5, activation='relu'),\n",
        "    tf.keras.layers.MaxPooling1D(pool_size=4),\n",
        "    tf.keras.layers.LSTM(64),\n",
        "    tf.keras.layers.Dense(1, activation='sigmoid')\n",
        "])\n",
        "model.compile(loss='binary_crossentropy',optimizer='adam',metrics=['accuracy'])\n",
        "model.summary()\n",
        "\n",
        "num_epochs = 50\n",
        "history = model.fit(training_sequences, training_labels, epochs=num_epochs, validation_data=(test_sequences, test_labels), verbose=2)\n",
        "\n",
        "print(\"Training Complete\")"
      ],
      "execution_count": 9,
      "outputs": [
        {
          "output_type": "stream",
          "text": [
            "WARNING:tensorflow:From /usr/local/lib/python3.6/dist-packages/tensorflow_core/python/keras/initializers.py:119: calling RandomUniform.__init__ (from tensorflow.python.ops.init_ops) with dtype is deprecated and will be removed in a future version.\n",
            "Instructions for updating:\n",
            "Call initializer instance with the dtype argument instead of passing it to the constructor\n",
            "WARNING:tensorflow:From /usr/local/lib/python3.6/dist-packages/tensorflow_core/python/ops/resource_variable_ops.py:1630: calling BaseResourceVariable.__init__ (from tensorflow.python.ops.resource_variable_ops) with constraint is deprecated and will be removed in a future version.\n",
            "Instructions for updating:\n",
            "If using Keras pass *_constraint arguments to layers.\n",
            "WARNING:tensorflow:From /usr/local/lib/python3.6/dist-packages/tensorflow_core/python/ops/nn_impl.py:183: where (from tensorflow.python.ops.array_ops) is deprecated and will be removed in a future version.\n",
            "Instructions for updating:\n",
            "Use tf.where in 2.0, which has the same broadcast rule as np.where\n",
            "Model: \"sequential\"\n",
            "_________________________________________________________________\n",
            "Layer (type)                 Output Shape              Param #   \n",
            "=================================================================\n",
            "embedding (Embedding)        (None, 16, 100)           13886700  \n",
            "_________________________________________________________________\n",
            "dropout (Dropout)            (None, 16, 100)           0         \n",
            "_________________________________________________________________\n",
            "conv1d (Conv1D)              (None, 12, 64)            32064     \n",
            "_________________________________________________________________\n",
            "max_pooling1d (MaxPooling1D) (None, 3, 64)             0         \n",
            "_________________________________________________________________\n",
            "lstm (LSTM)                  (None, 64)                33024     \n",
            "_________________________________________________________________\n",
            "dense (Dense)                (None, 1)                 65        \n",
            "=================================================================\n",
            "Total params: 13,951,853\n",
            "Trainable params: 65,153\n",
            "Non-trainable params: 13,886,700\n",
            "_________________________________________________________________\n",
            "Train on 144000 samples, validate on 16000 samples\n",
            "Epoch 1/50\n",
            "144000/144000 - 37s - loss: 0.5683 - acc: 0.6981 - val_loss: 0.5209 - val_acc: 0.7394\n",
            "Epoch 2/50\n",
            "144000/144000 - 31s - loss: 0.5271 - acc: 0.7315 - val_loss: 0.5075 - val_acc: 0.7489\n",
            "Epoch 3/50\n",
            "144000/144000 - 30s - loss: 0.5101 - acc: 0.7445 - val_loss: 0.5039 - val_acc: 0.7525\n",
            "Epoch 4/50\n",
            "144000/144000 - 30s - loss: 0.4983 - acc: 0.7522 - val_loss: 0.5087 - val_acc: 0.7524\n",
            "Epoch 5/50\n",
            "144000/144000 - 30s - loss: 0.4896 - acc: 0.7578 - val_loss: 0.5013 - val_acc: 0.7559\n",
            "Epoch 6/50\n",
            "144000/144000 - 30s - loss: 0.4823 - acc: 0.7620 - val_loss: 0.5003 - val_acc: 0.7558\n",
            "Epoch 7/50\n",
            "144000/144000 - 30s - loss: 0.4769 - acc: 0.7655 - val_loss: 0.5023 - val_acc: 0.7548\n",
            "Epoch 8/50\n",
            "144000/144000 - 30s - loss: 0.4724 - acc: 0.7687 - val_loss: 0.5056 - val_acc: 0.7538\n",
            "Epoch 9/50\n",
            "144000/144000 - 29s - loss: 0.4676 - acc: 0.7714 - val_loss: 0.5063 - val_acc: 0.7575\n",
            "Epoch 10/50\n",
            "144000/144000 - 29s - loss: 0.4651 - acc: 0.7734 - val_loss: 0.5065 - val_acc: 0.7477\n",
            "Epoch 11/50\n",
            "144000/144000 - 29s - loss: 0.4612 - acc: 0.7762 - val_loss: 0.5032 - val_acc: 0.7560\n",
            "Epoch 12/50\n",
            "144000/144000 - 29s - loss: 0.4563 - acc: 0.7796 - val_loss: 0.5104 - val_acc: 0.7579\n",
            "Epoch 13/50\n",
            "144000/144000 - 29s - loss: 0.4546 - acc: 0.7797 - val_loss: 0.5080 - val_acc: 0.7519\n",
            "Epoch 14/50\n",
            "144000/144000 - 30s - loss: 0.4523 - acc: 0.7808 - val_loss: 0.5042 - val_acc: 0.7552\n",
            "Epoch 15/50\n",
            "144000/144000 - 29s - loss: 0.4501 - acc: 0.7827 - val_loss: 0.5124 - val_acc: 0.7509\n",
            "Epoch 16/50\n",
            "144000/144000 - 30s - loss: 0.4483 - acc: 0.7837 - val_loss: 0.5115 - val_acc: 0.7534\n",
            "Epoch 17/50\n",
            "144000/144000 - 30s - loss: 0.4460 - acc: 0.7850 - val_loss: 0.5148 - val_acc: 0.7547\n",
            "Epoch 18/50\n",
            "144000/144000 - 30s - loss: 0.4465 - acc: 0.7838 - val_loss: 0.5128 - val_acc: 0.7536\n",
            "Epoch 19/50\n",
            "144000/144000 - 29s - loss: 0.4433 - acc: 0.7864 - val_loss: 0.5318 - val_acc: 0.7437\n",
            "Epoch 20/50\n",
            "144000/144000 - 29s - loss: 0.4424 - acc: 0.7881 - val_loss: 0.5141 - val_acc: 0.7492\n",
            "Epoch 21/50\n",
            "144000/144000 - 29s - loss: 0.4416 - acc: 0.7867 - val_loss: 0.5140 - val_acc: 0.7495\n",
            "Epoch 22/50\n",
            "144000/144000 - 29s - loss: 0.4406 - acc: 0.7881 - val_loss: 0.5132 - val_acc: 0.7498\n",
            "Epoch 23/50\n",
            "144000/144000 - 29s - loss: 0.4413 - acc: 0.7880 - val_loss: 0.5160 - val_acc: 0.7502\n",
            "Epoch 24/50\n",
            "144000/144000 - 29s - loss: 0.4397 - acc: 0.7894 - val_loss: 0.5201 - val_acc: 0.7487\n",
            "Epoch 25/50\n",
            "144000/144000 - 29s - loss: 0.4391 - acc: 0.7885 - val_loss: 0.5176 - val_acc: 0.7484\n",
            "Epoch 26/50\n",
            "144000/144000 - 29s - loss: 0.4375 - acc: 0.7893 - val_loss: 0.5209 - val_acc: 0.7499\n",
            "Epoch 27/50\n",
            "144000/144000 - 29s - loss: 0.4360 - acc: 0.7915 - val_loss: 0.5150 - val_acc: 0.7459\n",
            "Epoch 28/50\n",
            "144000/144000 - 29s - loss: 0.4354 - acc: 0.7918 - val_loss: 0.5188 - val_acc: 0.7496\n",
            "Epoch 29/50\n",
            "144000/144000 - 30s - loss: 0.4350 - acc: 0.7915 - val_loss: 0.5219 - val_acc: 0.7509\n",
            "Epoch 30/50\n",
            "144000/144000 - 29s - loss: 0.4339 - acc: 0.7921 - val_loss: 0.5169 - val_acc: 0.7497\n",
            "Epoch 31/50\n",
            "144000/144000 - 29s - loss: 0.4340 - acc: 0.7929 - val_loss: 0.5270 - val_acc: 0.7484\n",
            "Epoch 32/50\n",
            "144000/144000 - 29s - loss: 0.4339 - acc: 0.7930 - val_loss: 0.5258 - val_acc: 0.7473\n",
            "Epoch 33/50\n",
            "144000/144000 - 30s - loss: 0.4335 - acc: 0.7922 - val_loss: 0.5272 - val_acc: 0.7492\n",
            "Epoch 34/50\n",
            "144000/144000 - 29s - loss: 0.4324 - acc: 0.7942 - val_loss: 0.5251 - val_acc: 0.7487\n",
            "Epoch 35/50\n",
            "144000/144000 - 29s - loss: 0.4321 - acc: 0.7942 - val_loss: 0.5231 - val_acc: 0.7502\n",
            "Epoch 36/50\n",
            "144000/144000 - 29s - loss: 0.4326 - acc: 0.7939 - val_loss: 0.5241 - val_acc: 0.7448\n",
            "Epoch 37/50\n",
            "144000/144000 - 29s - loss: 0.4309 - acc: 0.7950 - val_loss: 0.5255 - val_acc: 0.7499\n",
            "Epoch 38/50\n",
            "144000/144000 - 29s - loss: 0.4323 - acc: 0.7941 - val_loss: 0.5325 - val_acc: 0.7474\n",
            "Epoch 39/50\n",
            "144000/144000 - 29s - loss: 0.4314 - acc: 0.7941 - val_loss: 0.5220 - val_acc: 0.7500\n",
            "Epoch 40/50\n",
            "144000/144000 - 29s - loss: 0.4302 - acc: 0.7955 - val_loss: 0.5301 - val_acc: 0.7504\n",
            "Epoch 41/50\n",
            "144000/144000 - 29s - loss: 0.4301 - acc: 0.7946 - val_loss: 0.5261 - val_acc: 0.7466\n",
            "Epoch 42/50\n",
            "144000/144000 - 29s - loss: 0.4303 - acc: 0.7948 - val_loss: 0.5235 - val_acc: 0.7491\n",
            "Epoch 43/50\n",
            "144000/144000 - 29s - loss: 0.4313 - acc: 0.7943 - val_loss: 0.5285 - val_acc: 0.7469\n",
            "Epoch 44/50\n",
            "144000/144000 - 29s - loss: 0.4301 - acc: 0.7954 - val_loss: 0.5300 - val_acc: 0.7469\n",
            "Epoch 45/50\n",
            "144000/144000 - 29s - loss: 0.4291 - acc: 0.7954 - val_loss: 0.5273 - val_acc: 0.7502\n",
            "Epoch 46/50\n",
            "144000/144000 - 30s - loss: 0.4285 - acc: 0.7953 - val_loss: 0.5258 - val_acc: 0.7496\n",
            "Epoch 47/50\n",
            "144000/144000 - 30s - loss: 0.4289 - acc: 0.7941 - val_loss: 0.5346 - val_acc: 0.7455\n",
            "Epoch 48/50\n",
            "144000/144000 - 29s - loss: 0.4277 - acc: 0.7970 - val_loss: 0.5333 - val_acc: 0.7435\n",
            "Epoch 49/50\n",
            "144000/144000 - 29s - loss: 0.4270 - acc: 0.7965 - val_loss: 0.5321 - val_acc: 0.7485\n",
            "Epoch 50/50\n",
            "144000/144000 - 29s - loss: 0.4274 - acc: 0.7951 - val_loss: 0.5283 - val_acc: 0.7452\n",
            "Training Complete\n"
          ],
          "name": "stdout"
        }
      ]
    },
    {
      "cell_type": "code",
      "metadata": {
        "id": "qxju4ItJKO8F",
        "colab_type": "code",
        "colab": {
          "base_uri": "https://localhost:8080/",
          "height": 607
        },
        "outputId": "8af90d91-7580-40f1-e78c-bae8ec7a3577"
      },
      "source": [
        "import matplotlib.image  as mpimg\n",
        "import matplotlib.pyplot as plt\n",
        "\n",
        "#-----------------------------------------------------------\n",
        "# Retrieve a list of list results on training and test data\n",
        "# sets for each training epoch\n",
        "#-----------------------------------------------------------\n",
        "acc=history.history['acc']\n",
        "val_acc=history.history['val_acc']\n",
        "loss=history.history['loss']\n",
        "val_loss=history.history['val_loss']\n",
        "\n",
        "epochs=range(len(acc)) # Get number of epochs\n",
        "\n",
        "#------------------------------------------------\n",
        "# Plot training and validation accuracy per epoch\n",
        "#------------------------------------------------\n",
        "plt.plot(epochs, acc, 'r')\n",
        "plt.plot(epochs, val_acc, 'b')\n",
        "plt.title('Training and validation accuracy')\n",
        "plt.xlabel(\"Epochs\")\n",
        "plt.ylabel(\"Accuracy\")\n",
        "plt.legend([\"Accuracy\", \"Validation Accuracy\"])\n",
        "\n",
        "plt.figure()\n",
        "\n",
        "#------------------------------------------------\n",
        "# Plot training and validation loss per epoch\n",
        "#------------------------------------------------\n",
        "plt.plot(epochs, loss, 'r')\n",
        "plt.plot(epochs, val_loss, 'b')\n",
        "plt.title('Training and validation loss')\n",
        "plt.xlabel(\"Epochs\")\n",
        "plt.ylabel(\"Loss\")\n",
        "plt.legend([\"Loss\", \"Validation Loss\"])\n",
        "\n",
        "plt.figure()\n",
        "\n",
        "\n",
        "# Expected Output\n",
        "# A chart where the validation loss does not increase sharply!"
      ],
      "execution_count": 10,
      "outputs": [
        {
          "output_type": "execute_result",
          "data": {
            "text/plain": [
              "<Figure size 432x288 with 0 Axes>"
            ]
          },
          "metadata": {
            "tags": []
          },
          "execution_count": 10
        },
        {
          "output_type": "display_data",
          "data": {
            "image/png": "[encoded data removed]",
            "text/plain": [
              "<Figure size 432x288 with 1 Axes>"
            ]
          },
          "metadata": {
            "tags": []
          }
        },
        {
          "output_type": "display_data",
          "data": {
            "image/png": "[encoded data removed]",
            "text/plain": [
              "<Figure size 432x288 with 1 Axes>"
            ]
          },
          "metadata": {
            "tags": []
          }
        },
        {
          "output_type": "display_data",
          "data": {
            "text/plain": [
              "<Figure size 432x288 with 0 Axes>"
            ]
          },
          "metadata": {
            "tags": []
          }
        }
      ]
    }
  ]
}