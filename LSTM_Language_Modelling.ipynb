{
 "cells": [
  {
   "cell_type": "code",
   "execution_count": 1,
   "metadata": {
    "button": false,
    "new_sheet": false,
    "run_control": {
     "read_only": false
    }
   },
   "outputs": [],
   "source": [
    "import time\n",
    "import numpy as np\n",
    "import tensorflow as tf"
   ]
  },
  {
   "cell_type": "code",
   "execution_count": 2,
   "metadata": {
    "button": false,
    "new_sheet": false,
    "run_control": {
     "read_only": false
    }
   },
   "outputs": [
    {
     "name": "stdout",
     "output_type": "stream",
     "text": [
      "Archive:  data/ptb.zip\n",
      "   creating: data/ptb/\n",
      "  inflating: data/ptb/reader.py      \n",
      "   creating: data/__MACOSX/\n",
      "   creating: data/__MACOSX/ptb/\n",
      "  inflating: data/__MACOSX/ptb/._reader.py  \n",
      "  inflating: data/__MACOSX/._ptb     \n"
     ]
    }
   ],
   "source": [
    "!mkdir data\n",
    "!wget -q -O data/ptb.zip https://ibm.box.com/shared/static/z2yvmhbskc45xd2a9a4kkn6hg4g4kj5r.zip\n",
    "!unzip -o data/ptb.zip -d data\n",
    "!cp data/ptb/reader.py .\n",
    "\n",
    "import reader"
   ]
  },
  {
   "cell_type": "markdown",
   "metadata": {
    "button": false,
    "new_sheet": false,
    "run_control": {
     "read_only": false
    }
   },
   "source": [
    "<a id=\"building_lstm_model\"></a>\n",
    "<h2>Building the LSTM model for Language Modeling</h2>\n",
    "Now that we know exactly what we are doing, we can start building our model using TensorFlow. The very first thing we need to do is download and extract the <code>simple-examples</code> dataset, which can be done by executing the code cell below."
   ]
  },
  {
   "cell_type": "code",
   "execution_count": 3,
   "metadata": {
    "button": false,
    "new_sheet": false,
    "run_control": {
     "read_only": false
    }
   },
   "outputs": [
    {
     "name": "stdout",
     "output_type": "stream",
     "text": [
      "--2019-12-13 14:08:40--  http://www.fit.vutbr.cz/~imikolov/rnnlm/simple-examples.tgz\n",
      "Resolving www.fit.vutbr.cz (www.fit.vutbr.cz)... 147.229.9.23, 2001:67c:1220:809::93e5:917\n",
      "Connecting to www.fit.vutbr.cz (www.fit.vutbr.cz)|147.229.9.23|:80... connected.\n",
      "HTTP request sent, awaiting response... 200 OK\n",
      "Length: 34869662 (33M) [application/x-gtar]\n",
      "Saving to: ‘simple-examples.tgz’\n",
      "\n",
      "simple-examples.tgz 100%[===================>]  33.25M  3.90MB/s    in 9.1s    \n",
      "\n",
      "2019-12-13 14:08:50 (3.65 MB/s) - ‘simple-examples.tgz’ saved [34869662/34869662]\n",
      "\n"
     ]
    }
   ],
   "source": [
    "!wget http://www.fit.vutbr.cz/~imikolov/rnnlm/simple-examples.tgz \n",
    "!tar xzf simple-examples.tgz -C data/"
   ]
  },
  {
   "cell_type": "code",
   "execution_count": 7,
   "metadata": {
    "button": false,
    "new_sheet": false,
    "run_control": {
     "read_only": false
    }
   },
   "outputs": [],
   "source": [
    "#Initial weight scale\n",
    "init_scale = 0.1\n",
    "#Initial learning rate\n",
    "learning_rate = 1.0\n",
    "#Maximum permissible norm for the gradient (For gradient clipping -- another measure against Exploding Gradients)\n",
    "max_grad_norm = 5\n",
    "#The number of layers in our model\n",
    "num_layers = 2\n",
    "#The total number of recurrence steps, also known as the number of layers when our RNN is \"unfolded\"\n",
    "num_steps = 20\n",
    "#The number of processing units (neurons) in the hidden layers\n",
    "hidden_size_l1 = 256\n",
    "hidden_size_l2 = 128\n",
    "#The maximum number of epochs trained with the initial learning rate\n",
    "max_epoch_decay_lr = 4\n",
    "#The total number of epochs in training\n",
    "max_epoch = 15\n",
    "#The probability for keeping data in the Dropout Layer (This is an optimization, but is outside our scope for this notebook!)\n",
    "#At 1, we ignore the Dropout Layer wrapping.\n",
    "keep_prob = 1\n",
    "#The decay for the learning rate\n",
    "decay = 0.5\n",
    "#The size for each batch of data\n",
    "batch_size = 60\n",
    "#The size of our vocabulary\n",
    "vocab_size = 10000\n",
    "embeding_vector_size = 200\n",
    "#Training flag to separate training from testing\n",
    "is_training = 1\n",
    "#Data directory for our dataset\n",
    "data_dir = \"data/simple-examples/data/\""
   ]
  },
  {
   "cell_type": "markdown",
   "metadata": {
    "button": false,
    "new_sheet": false,
    "run_control": {
     "read_only": false
    }
   },
   "source": [
    "Some clarifications for LSTM architecture based on the arguments:\n",
    "\n",
    "Network structure:\n",
    "<ul>\n",
    "    <li>In this network, the number of LSTM cells are 2. To give the model more expressive power, we can add multiple layers of LSTMs to process the data. The output of the first layer will become the input of the second and so on.\n",
    "    </li>\n",
    "    <li>The recurrence steps is 20, that is, when our RNN is \"Unfolded\", the recurrence step is 20.</li>   \n",
    "    <li>the structure is like:\n",
    "        <ul>\n",
    "            <li>200 input units -> [200x200] Weight -> 200 Hidden units (first layer) -> [200x200] Weight matrix  -> 200 Hidden units (second layer) ->  [200] weight Matrix -> 200 unit output</li>\n",
    "        </ul>\n",
    "    </li>\n",
    "</ul>\n",
    "<br>\n",
    "\n",
    "Input layer: \n",
    "<ul>\n",
    "    <li>The network has 200 input units.</li>\n",
    "    <li>Suppose each word is represented by an embedding vector of dimensionality e=200. The input layer of each cell will have 200 linear units. These e=200 linear units are connected to each of the h=200 LSTM units in the hidden layer (assuming there is only one hidden layer, though our case has 2 layers).\n",
    "    </li>\n",
    "    <li>The input shape is [batch_size, num_steps], that is [30x20]. It will turn into [30x20x200] after embedding, and then 20x[30x200]\n",
    "    </li>\n",
    "</ul>\n",
    "<br>\n",
    "\n",
    "Hidden layer:\n",
    "<ul>\n",
    "    <li>Each LSTM has 200 hidden units which is equivalent to the dimensionality of the embedding words and output.</li>\n",
    "</ul>\n",
    "<br>"
   ]
  },
  {
   "cell_type": "markdown",
   "metadata": {
    "button": false,
    "new_sheet": false,
    "run_control": {
     "read_only": false
    }
   },
   "source": [
    "There is a lot to be done and a ton of information to process at the same time, so go over this code slowly. It may seem complex at first, but if you try to apply what you just learned about language modelling to the code you see, you should be able to understand it.\n",
    "\n",
    "This code is adapted from the <a href=\"https://github.com/tensorflow/models\">PTBModel</a> example bundled with the TensorFlow source code.\n",
    "\n",
    "\n",
    "<h4>Train data</h4>\n",
    "The story starts from data:\n",
    "<ul>\n",
    "    <li>Train data is a list of words, of size 929589, represented by numbers, e.g. [9971, 9972, 9974, 9975,...]</li>\n",
    "    <li>We read data as mini-batch of size b=30. Assume the size of each sentence is 20 words (num_steps = 20). Then it will take $$floor(\\frac{N}{b \\times h})+1=1548$$ iterations for the learner to go through all sentences once. Where N is the size of the list of words, b is batch size, andh is size of each sentence. So, the number of iterators is 1548\n",
    "    </li>\n",
    "    <li>Each batch data is read from train dataset of size 600, and shape of [30x20]</li>\n",
    "</ul>"
   ]
  },
  {
   "cell_type": "markdown",
   "metadata": {
    "button": false,
    "new_sheet": false,
    "run_control": {
     "read_only": false
    }
   },
   "source": [
    "First we start an interactive session:"
   ]
  },
  {
   "cell_type": "code",
   "execution_count": 4,
   "metadata": {
    "button": false,
    "new_sheet": false,
    "run_control": {
     "read_only": false
    }
   },
   "outputs": [],
   "source": [
    "session = tf.InteractiveSession()"
   ]
  },
  {
   "cell_type": "code",
   "execution_count": 8,
   "metadata": {
    "button": false,
    "new_sheet": false,
    "run_control": {
     "read_only": false
    }
   },
   "outputs": [],
   "source": [
    "# Reads the data and separates it into training data, validation data and testing data\n",
    "raw_data = reader.ptb_raw_data(data_dir)\n",
    "train_data, valid_data, test_data, vocab, word_to_id = raw_data"
   ]
  },
  {
   "cell_type": "code",
   "execution_count": 9,
   "metadata": {},
   "outputs": [
    {
     "data": {
      "text/plain": [
       "929589"
      ]
     },
     "execution_count": 9,
     "metadata": {},
     "output_type": "execute_result"
    }
   ],
   "source": [
    "len(train_data)"
   ]
  },
  {
   "cell_type": "code",
   "execution_count": 10,
   "metadata": {},
   "outputs": [
    {
     "name": "stdout",
     "output_type": "stream",
     "text": [
      "['aer', 'banknote', 'berlitz', 'calloway', 'centrust', 'cluett', 'fromstein', 'gitano', 'guterman', 'hydro-quebec', 'ipo', 'kia', 'memotec', 'mlx', 'nahb', 'punts', 'rake', 'regatta', 'rubens', 'sim', 'snack-food', 'ssangyong', 'swapo', 'wachter', '<eos>', 'pierre', '<unk>', 'N', 'years', 'old', 'will', 'join', 'the', 'board', 'as', 'a', 'nonexecutive', 'director', 'nov.', 'N', '<eos>', 'mr.', '<unk>', 'is', 'chairman', 'of', '<unk>', 'n.v.', 'the', 'dutch', 'publishing', 'group', '<eos>', 'rudolph', '<unk>', 'N', 'years', 'old', 'and', 'former', 'chairman', 'of', 'consolidated', 'gold', 'fields', 'plc', 'was', 'named', 'a', 'nonexecutive', 'director', 'of', 'this', 'british', 'industrial', 'conglomerate', '<eos>', 'a', 'form', 'of', 'asbestos', 'once', 'used', 'to', 'make', 'kent', 'cigarette', 'filters', 'has', 'caused', 'a', 'high', 'percentage', 'of', 'cancer', 'deaths', 'among', 'a', 'group', 'of']\n"
     ]
    }
   ],
   "source": [
    "def id_to_word(id_list):\n",
    "    line = []\n",
    "    for w in id_list:\n",
    "        for word, wid in word_to_id.items():\n",
    "            if wid == w:\n",
    "                line.append(word)\n",
    "    return line            \n",
    "                \n",
    "\n",
    "print(id_to_word(train_data[0:100]))"
   ]
  },
  {
   "cell_type": "markdown",
   "metadata": {
    "button": false,
    "new_sheet": false,
    "run_control": {
     "read_only": false
    }
   },
   "source": [
    "Lets just read one mini-batch now and feed our network:"
   ]
  },
  {
   "cell_type": "code",
   "execution_count": 11,
   "metadata": {
    "button": false,
    "new_sheet": false,
    "run_control": {
     "read_only": false
    }
   },
   "outputs": [],
   "source": [
    "itera = reader.ptb_iterator(train_data, batch_size, num_steps)\n",
    "first_touple = itera.__next__()\n",
    "x = first_touple[0]\n",
    "y = first_touple[1]"
   ]
  },
  {
   "cell_type": "code",
   "execution_count": 12,
   "metadata": {
    "button": false,
    "new_sheet": false,
    "run_control": {
     "read_only": false
    }
   },
   "outputs": [
    {
     "data": {
      "text/plain": [
       "(60, 20)"
      ]
     },
     "execution_count": 12,
     "metadata": {},
     "output_type": "execute_result"
    }
   ],
   "source": [
    "x.shape"
   ]
  },
  {
   "cell_type": "markdown",
   "metadata": {
    "button": false,
    "new_sheet": false,
    "run_control": {
     "read_only": false
    }
   },
   "source": [
    "Lets look at 3 sentences of our input x:"
   ]
  },
  {
   "cell_type": "code",
   "execution_count": 13,
   "metadata": {
    "button": false,
    "new_sheet": false,
    "run_control": {
     "read_only": false
    }
   },
   "outputs": [
    {
     "data": {
      "text/plain": [
       "array([[9970, 9971, 9972, 9974, 9975, 9976, 9980, 9981, 9982, 9983, 9984,\n",
       "        9986, 9987, 9988, 9989, 9991, 9992, 9993, 9994, 9995],\n",
       "       [ 901,   33, 3361,    8, 1279,  437,  597,    6,  261, 4276, 1089,\n",
       "           8, 2836,    2,  269,    4, 5526,  241,   13, 2420],\n",
       "       [2654,    6,  334, 2886,    4,    1,  233,  711,  834,   11,  130,\n",
       "         123,    7,  514,    2,   63,   10,  514,    8,  605]],\n",
       "      dtype=int32)"
      ]
     },
     "execution_count": 13,
     "metadata": {},
     "output_type": "execute_result"
    }
   ],
   "source": [
    "x[0:3]"
   ]
  },
  {
   "cell_type": "markdown",
   "metadata": {
    "button": false,
    "new_sheet": false,
    "run_control": {
     "read_only": false
    }
   },
   "source": [
    "we define 2 place holders to feed them with mini-batchs, that is x and y:"
   ]
  },
  {
   "cell_type": "code",
   "execution_count": 14,
   "metadata": {
    "button": false,
    "new_sheet": false,
    "run_control": {
     "read_only": false
    }
   },
   "outputs": [],
   "source": [
    "_input_data = tf.placeholder(tf.int32, [batch_size, num_steps]) #[30#20]\n",
    "_targets = tf.placeholder(tf.int32, [batch_size, num_steps]) #[30#20]"
   ]
  },
  {
   "cell_type": "markdown",
   "metadata": {
    "button": false,
    "new_sheet": false,
    "run_control": {
     "read_only": false
    }
   },
   "source": [
    "Lets define a dictionary, and use it later to feed the placeholders with our first mini-batch:"
   ]
  },
  {
   "cell_type": "code",
   "execution_count": 15,
   "metadata": {
    "button": false,
    "new_sheet": false,
    "run_control": {
     "read_only": false
    }
   },
   "outputs": [],
   "source": [
    "feed_dict = {_input_data:x, _targets:y}"
   ]
  },
  {
   "cell_type": "markdown",
   "metadata": {
    "button": false,
    "new_sheet": false,
    "run_control": {
     "read_only": false
    }
   },
   "source": [
    "For example, we can use it to feed <code>\\_input\\_data</code>:"
   ]
  },
  {
   "cell_type": "code",
   "execution_count": 16,
   "metadata": {
    "button": false,
    "new_sheet": false,
    "run_control": {
     "read_only": false
    }
   },
   "outputs": [
    {
     "data": {
      "text/plain": [
       "array([[9970, 9971, 9972, ..., 9993, 9994, 9995],\n",
       "       [ 901,   33, 3361, ...,  241,   13, 2420],\n",
       "       [2654,    6,  334, ...,  514,    8,  605],\n",
       "       ...,\n",
       "       [7831,   36, 1678, ...,    4, 4558,  157],\n",
       "       [  59, 2070, 2433, ...,  400,    1, 1173],\n",
       "       [2097,    3,    2, ..., 2043,   23,    1]], dtype=int32)"
      ]
     },
     "execution_count": 16,
     "metadata": {},
     "output_type": "execute_result"
    }
   ],
   "source": [
    "session.run(_input_data, feed_dict)"
   ]
  },
  {
   "cell_type": "markdown",
   "metadata": {
    "button": false,
    "new_sheet": false,
    "run_control": {
     "read_only": false
    }
   },
   "source": [
    "In this step, we create the stacked LSTM, which is a 2 layer LSTM network:"
   ]
  },
  {
   "cell_type": "code",
   "execution_count": 17,
   "metadata": {
    "button": false,
    "new_sheet": false,
    "run_control": {
     "read_only": false
    }
   },
   "outputs": [],
   "source": [
    "lstm_cell_l1 = tf.contrib.rnn.BasicLSTMCell(hidden_size_l1, forget_bias=0.0)\n",
    "lstm_cell_l2 = tf.contrib.rnn.BasicLSTMCell(hidden_size_l2, forget_bias=0.0)\n",
    "stacked_lstm = tf.contrib.rnn.MultiRNNCell([lstm_cell_l1, lstm_cell_l2])"
   ]
  },
  {
   "cell_type": "markdown",
   "metadata": {
    "button": false,
    "new_sheet": false,
    "run_control": {
     "read_only": false
    }
   },
   "source": [
    "Also, we initialize the states of the nework:\n",
    "\n",
    "<h4>_initial_state</h4>\n",
    "\n",
    "For each LCTM, there are 2 state matrices, c\\_state and m\\_state.  c_state and m_state represent \"Memory State\" and \"Cell State\". Each hidden layer, has a vector of size 30, which keeps the states. so, for 200 hidden units in each LSTM, we have a matrix of size [30x200]"
   ]
  },
  {
   "cell_type": "code",
   "execution_count": 18,
   "metadata": {
    "button": false,
    "new_sheet": false,
    "run_control": {
     "read_only": false
    }
   },
   "outputs": [
    {
     "data": {
      "text/plain": [
       "(LSTMStateTuple(c=<tf.Tensor 'MultiRNNCellZeroState/BasicLSTMCellZeroState/zeros:0' shape=(60, 256) dtype=float32>, h=<tf.Tensor 'MultiRNNCellZeroState/BasicLSTMCellZeroState/zeros_1:0' shape=(60, 256) dtype=float32>),\n",
       " LSTMStateTuple(c=<tf.Tensor 'MultiRNNCellZeroState/BasicLSTMCellZeroState_1/zeros:0' shape=(60, 128) dtype=float32>, h=<tf.Tensor 'MultiRNNCellZeroState/BasicLSTMCellZeroState_1/zeros_1:0' shape=(60, 128) dtype=float32>))"
      ]
     },
     "execution_count": 18,
     "metadata": {},
     "output_type": "execute_result"
    }
   ],
   "source": [
    "_initial_state = stacked_lstm.zero_state(batch_size, tf.float32)\n",
    "_initial_state"
   ]
  },
  {
   "cell_type": "markdown",
   "metadata": {
    "button": false,
    "new_sheet": false,
    "run_control": {
     "read_only": false
    }
   },
   "source": [
    "Lets look at the states, though they are all zero for now:"
   ]
  },
  {
   "cell_type": "code",
   "execution_count": 19,
   "metadata": {
    "button": false,
    "new_sheet": false,
    "run_control": {
     "read_only": false
    }
   },
   "outputs": [
    {
     "data": {
      "text/plain": [
       "(LSTMStateTuple(c=array([[0., 0., 0., ..., 0., 0., 0.],\n",
       "        [0., 0., 0., ..., 0., 0., 0.],\n",
       "        [0., 0., 0., ..., 0., 0., 0.],\n",
       "        ...,\n",
       "        [0., 0., 0., ..., 0., 0., 0.],\n",
       "        [0., 0., 0., ..., 0., 0., 0.],\n",
       "        [0., 0., 0., ..., 0., 0., 0.]], dtype=float32), h=array([[0., 0., 0., ..., 0., 0., 0.],\n",
       "        [0., 0., 0., ..., 0., 0., 0.],\n",
       "        [0., 0., 0., ..., 0., 0., 0.],\n",
       "        ...,\n",
       "        [0., 0., 0., ..., 0., 0., 0.],\n",
       "        [0., 0., 0., ..., 0., 0., 0.],\n",
       "        [0., 0., 0., ..., 0., 0., 0.]], dtype=float32)),\n",
       " LSTMStateTuple(c=array([[0., 0., 0., ..., 0., 0., 0.],\n",
       "        [0., 0., 0., ..., 0., 0., 0.],\n",
       "        [0., 0., 0., ..., 0., 0., 0.],\n",
       "        ...,\n",
       "        [0., 0., 0., ..., 0., 0., 0.],\n",
       "        [0., 0., 0., ..., 0., 0., 0.],\n",
       "        [0., 0., 0., ..., 0., 0., 0.]], dtype=float32), h=array([[0., 0., 0., ..., 0., 0., 0.],\n",
       "        [0., 0., 0., ..., 0., 0., 0.],\n",
       "        [0., 0., 0., ..., 0., 0., 0.],\n",
       "        ...,\n",
       "        [0., 0., 0., ..., 0., 0., 0.],\n",
       "        [0., 0., 0., ..., 0., 0., 0.],\n",
       "        [0., 0., 0., ..., 0., 0., 0.]], dtype=float32)))"
      ]
     },
     "execution_count": 19,
     "metadata": {},
     "output_type": "execute_result"
    }
   ],
   "source": [
    "session.run(_initial_state, feed_dict)"
   ]
  },
  {
   "cell_type": "markdown",
   "metadata": {
    "button": false,
    "new_sheet": false,
    "run_control": {
     "read_only": false
    }
   },
   "source": [
    "<h3>Embeddings</h3>\n",
    "We have to convert the words in our dataset to vectors of numbers. The traditional approach is to use one-hot encoding method that is usually used for converting categorical values to numerical values. However, One-hot encoded vectors are high-dimensional, sparse and in a big dataset, computationally inefficient. So, we use word2vec approach. It is, in fact, a layer in our LSTM network, where the word IDs will be represented as a dense representation before feeding to the LSTM. \n",
    "\n",
    "The embedded vectors also get updated during the training process of the deep neural network.\n",
    "We create the embeddings for our input data. <b>embedding_vocab</b> is matrix of [10000x200] for all 10000 unique words."
   ]
  },
  {
   "cell_type": "code",
   "execution_count": 20,
   "metadata": {
    "button": false,
    "new_sheet": false,
    "run_control": {
     "read_only": false
    }
   },
   "outputs": [],
   "source": [
    "embedding_vocab = tf.get_variable(\"embedding_vocab\", [vocab_size, embeding_vector_size])  #[10000x200]"
   ]
  },
  {
   "cell_type": "markdown",
   "metadata": {},
   "source": [
    "Lets initialize the <code>embedding_words</code> variable with random values."
   ]
  },
  {
   "cell_type": "code",
   "execution_count": 21,
   "metadata": {
    "button": false,
    "new_sheet": false,
    "run_control": {
     "read_only": false
    }
   },
   "outputs": [
    {
     "data": {
      "text/plain": [
       "array([[-0.01968778, -0.02327679, -0.02040272, ..., -0.01475794,\n",
       "         0.02084261, -0.00830636],\n",
       "       [ 0.02329646, -0.01204727,  0.01666461, ...,  0.00891275,\n",
       "         0.01285464, -0.01119371],\n",
       "       [ 0.02356266,  0.02009636,  0.02057256, ..., -0.01346947,\n",
       "        -0.01052722, -0.00929075],\n",
       "       ...,\n",
       "       [-0.00268696,  0.02276975,  0.02309573, ...,  0.02336266,\n",
       "        -0.02405223,  0.01180786],\n",
       "       [-0.01404755, -0.00345504,  0.01312929, ..., -0.00250498,\n",
       "         0.01053532, -0.00165914],\n",
       "       [-0.01477044, -0.02414627,  0.00840718, ...,  0.01975938,\n",
       "         0.0201615 , -0.02320049]], dtype=float32)"
      ]
     },
     "execution_count": 21,
     "metadata": {},
     "output_type": "execute_result"
    }
   ],
   "source": [
    "session.run(tf.global_variables_initializer())\n",
    "session.run(embedding_vocab)"
   ]
  },
  {
   "cell_type": "markdown",
   "metadata": {
    "button": false,
    "new_sheet": false,
    "run_control": {
     "read_only": false
    }
   },
   "source": [
    "<b>embedding_lookup()</b> finds the embedded values for our batch of 30x20 words. It  goes to each row of <code>input_data</code>, and for each word in the row/sentence, finds the correspond vector in <code>embedding_dic<code>. <br>\n",
    "It creates a [30x20x200] tensor, so, the first element of <b>inputs</b> (the first sentence), is a matrix of 20x200, which each row of it, is vector representing a word in the sentence."
   ]
  },
  {
   "cell_type": "code",
   "execution_count": 22,
   "metadata": {
    "button": false,
    "new_sheet": false,
    "run_control": {
     "read_only": false
    }
   },
   "outputs": [
    {
     "data": {
      "text/plain": [
       "<tf.Tensor 'embedding_lookup:0' shape=(60, 20, 200) dtype=float32>"
      ]
     },
     "execution_count": 22,
     "metadata": {},
     "output_type": "execute_result"
    }
   ],
   "source": [
    "# Define where to get the data for our embeddings from\n",
    "inputs = tf.nn.embedding_lookup(embedding_vocab, _input_data)  #shape=(30, 20, 200) \n",
    "inputs"
   ]
  },
  {
   "cell_type": "code",
   "execution_count": 23,
   "metadata": {
    "button": false,
    "new_sheet": false,
    "run_control": {
     "read_only": false
    }
   },
   "outputs": [
    {
     "data": {
      "text/plain": [
       "array([[-0.02239061, -0.00530184,  0.00902945, ...,  0.01363597,\n",
       "         0.02223005, -0.01770452],\n",
       "       [ 0.01418917, -0.02215954,  0.00132307, ...,  0.02393783,\n",
       "        -0.02215594, -0.01509568],\n",
       "       [ 0.02343675, -0.01213862, -0.01408506, ..., -0.01124969,\n",
       "        -0.00972345, -0.00245919],\n",
       "       ...,\n",
       "       [ 0.01435381,  0.0093442 ,  0.00629035, ...,  0.01094222,\n",
       "        -0.00757228, -0.02286555],\n",
       "       [-0.02100378,  0.01850652, -0.00874184, ...,  0.00010333,\n",
       "         0.0076745 ,  0.00211639],\n",
       "       [-0.00801337,  0.01823161,  0.02039789, ...,  0.00888375,\n",
       "         0.01371559, -0.02056491]], dtype=float32)"
      ]
     },
     "execution_count": 23,
     "metadata": {},
     "output_type": "execute_result"
    }
   ],
   "source": [
    "session.run(inputs[0], feed_dict)"
   ]
  },
  {
   "cell_type": "markdown",
   "metadata": {
    "button": false,
    "new_sheet": false,
    "run_control": {
     "read_only": false
    }
   },
   "source": [
    "<h3>Constructing Recurrent Neural Networks</h3>\n",
    "<b>tf.nn.dynamic_rnn()</b> creates a recurrent neural network using <b>stacked_lstm</b>. \n",
    "\n",
    "The input should be a Tensor of shape: [batch_size, max_time, embedding_vector_size], in our case it would be (30, 20, 200)\n",
    "\n",
    "This method, returns a pair (outputs, new_state) where:\n",
    "<ul>\n",
    "    <li><b>outputs</b>: is a length T list of outputs (one for each input), or a nested tuple of such elements.</li>\n",
    "    <li><b>new_state</b>: is the final state.</li>\n",
    "</ul>"
   ]
  },
  {
   "cell_type": "code",
   "execution_count": 24,
   "metadata": {
    "button": false,
    "new_sheet": false,
    "run_control": {
     "read_only": false
    },
    "scrolled": true
   },
   "outputs": [],
   "source": [
    "outputs, new_state =  tf.nn.dynamic_rnn(stacked_lstm, inputs, initial_state=_initial_state)"
   ]
  },
  {
   "cell_type": "markdown",
   "metadata": {
    "button": false,
    "new_sheet": false,
    "run_control": {
     "read_only": false
    }
   },
   "source": [
    "so, lets look at the outputs. The output of the stackedLSTM comes from 200 hidden_layer, and in each time step(=20), one of them get activated. we use the linear activation to map the 200 hidden layer to a [?x10 matrix]"
   ]
  },
  {
   "cell_type": "code",
   "execution_count": 25,
   "metadata": {
    "button": false,
    "new_sheet": false,
    "run_control": {
     "read_only": false
    }
   },
   "outputs": [
    {
     "data": {
      "text/plain": [
       "<tf.Tensor 'rnn/transpose_1:0' shape=(60, 20, 128) dtype=float32>"
      ]
     },
     "execution_count": 25,
     "metadata": {},
     "output_type": "execute_result"
    }
   ],
   "source": [
    "outputs"
   ]
  },
  {
   "cell_type": "code",
   "execution_count": 26,
   "metadata": {
    "button": false,
    "new_sheet": false,
    "run_control": {
     "read_only": false
    }
   },
   "outputs": [
    {
     "data": {
      "text/plain": [
       "array([[-6.3725439e-04, -2.2828582e-04,  2.4183778e-04, ...,\n",
       "         5.0803705e-04,  2.5726264e-04, -3.0180867e-04],\n",
       "       [-1.0641707e-03, -8.9079549e-04, -3.2753494e-05, ...,\n",
       "         8.0949561e-05,  4.5118592e-04, -4.4798345e-04],\n",
       "       [-1.3995415e-03, -7.8663812e-04,  4.9002602e-04, ...,\n",
       "        -3.0618857e-04, -2.1341590e-04, -2.8597834e-04],\n",
       "       ...,\n",
       "       [-7.5435084e-05, -4.2022442e-05,  2.3496217e-05, ...,\n",
       "        -1.3025685e-03,  1.7677639e-04,  1.3451125e-04],\n",
       "       [-2.0195666e-04,  1.8758884e-04, -4.8820194e-04, ...,\n",
       "        -2.0132335e-03,  2.6954201e-04,  4.6098715e-04],\n",
       "       [-5.5915507e-04, -6.7513844e-05, -9.8765315e-04, ...,\n",
       "        -1.4642376e-03, -5.5532315e-04,  4.4538834e-04]], dtype=float32)"
      ]
     },
     "execution_count": 26,
     "metadata": {},
     "output_type": "execute_result"
    }
   ],
   "source": [
    "session.run(tf.global_variables_initializer())\n",
    "session.run(outputs[0], feed_dict)"
   ]
  },
  {
   "cell_type": "markdown",
   "metadata": {
    "button": false,
    "new_sheet": false,
    "run_control": {
     "read_only": false
    }
   },
   "source": [
    "we need to flatten the outputs to be able to connect it softmax layer. Lets reshape the output tensor from  [30 x 20 x 200] to [600 x 200].\n",
    "\n",
    "<b>Notice:</b> Imagine our output is 3-d tensor as following (of course each <code>sen_x_word_y</code> is a an embedded vector by itself): \n",
    "<ul>\n",
    "    <li>sentence 1: [[sen1word1], [sen1word2], [sen1word3], ..., [sen1word20]]</li> \n",
    "    <li>sentence 2: [[sen2word1], [sen2word2], [sen2word3], ..., [sen2word20]]</li>   \n",
    "    <li>sentence 3: [[sen3word1], [sen3word2], [sen3word3], ..., [sen3word20]]</li>  \n",
    "    <li>...  </li>\n",
    "    <li>sentence 30: [[sen30word1], [sen30word2], [sen30word3], ..., [sen30word20]]</li>   \n",
    "</ul>\n",
    "Now, the flatten would convert this 3-dim tensor to:\n",
    "\n",
    "[ [sen1word1], [sen1word2], [sen1word3], ..., [sen1word20],[sen2word1], [sen2word2], [sen2word3], ..., [sen2word20], ..., [sen30word20] ]\n"
   ]
  },
  {
   "cell_type": "code",
   "execution_count": 27,
   "metadata": {
    "button": false,
    "new_sheet": false,
    "run_control": {
     "read_only": false
    }
   },
   "outputs": [
    {
     "data": {
      "text/plain": [
       "<tf.Tensor 'Reshape:0' shape=(1200, 128) dtype=float32>"
      ]
     },
     "execution_count": 27,
     "metadata": {},
     "output_type": "execute_result"
    }
   ],
   "source": [
    "output = tf.reshape(outputs, [-1, hidden_size_l2])\n",
    "output"
   ]
  },
  {
   "cell_type": "markdown",
   "metadata": {
    "button": false,
    "new_sheet": false,
    "run_control": {
     "read_only": false
    }
   },
   "source": [
    "<h3>logistic unit</h3>\n",
    "Now, we create a logistic unit to return the probability of the output word in our vocabulary with 1000 words. \n",
    "\n",
    "$$Softmax = [600 \\times 200] * [200 \\times 1000] + [1 \\times 1000] \\Longrightarrow [600 \\times 1000]$$"
   ]
  },
  {
   "cell_type": "code",
   "execution_count": 28,
   "metadata": {
    "button": false,
    "new_sheet": false,
    "run_control": {
     "read_only": false
    }
   },
   "outputs": [],
   "source": [
    "softmax_w = tf.get_variable(\"softmax_w\", [hidden_size_l2, vocab_size]) #[200x1000]\n",
    "softmax_b = tf.get_variable(\"softmax_b\", [vocab_size]) #[1x1000]\n",
    "logits = tf.matmul(output, softmax_w) + softmax_b\n",
    "prob = tf.nn.softmax(logits)"
   ]
  },
  {
   "cell_type": "markdown",
   "metadata": {},
   "source": [
    "Lets look at the probability of observing words for t=0 to t=20:"
   ]
  },
  {
   "cell_type": "code",
   "execution_count": 29,
   "metadata": {
    "button": false,
    "new_sheet": false,
    "run_control": {
     "read_only": false
    }
   },
   "outputs": [
    {
     "name": "stdout",
     "output_type": "stream",
     "text": [
      "shape of the output:  (1200, 10000)\n",
      "The probability of observing words in t=0 to t=20 [[9.91811321e-05 1.01588834e-04 1.01357124e-04 ... 1.01326601e-04\n",
      "  9.91650813e-05 9.99925251e-05]\n",
      " [9.91801353e-05 1.01583639e-04 1.01351368e-04 ... 1.01320358e-04\n",
      "  9.91596462e-05 9.99954573e-05]\n",
      " [9.91852794e-05 1.01581747e-04 1.01349913e-04 ... 1.01321362e-04\n",
      "  9.91572379e-05 1.00000063e-04]\n",
      " ...\n",
      " [9.91917987e-05 1.01582977e-04 1.01372156e-04 ... 1.01315047e-04\n",
      "  9.91678826e-05 9.99682670e-05]\n",
      " [9.91948473e-05 1.01584563e-04 1.01371181e-04 ... 1.01317637e-04\n",
      "  9.91723427e-05 9.99678887e-05]\n",
      " [9.91911947e-05 1.01578764e-04 1.01359867e-04 ... 1.01320082e-04\n",
      "  9.91772831e-05 9.99683471e-05]]\n"
     ]
    }
   ],
   "source": [
    "session.run(tf.global_variables_initializer())\n",
    "output_words_prob = session.run(prob, feed_dict)\n",
    "print(\"shape of the output: \", output_words_prob.shape)\n",
    "print(\"The probability of observing words in t=0 to t=20\", output_words_prob[0:20])"
   ]
  },
  {
   "cell_type": "markdown",
   "metadata": {
    "button": false,
    "new_sheet": false,
    "run_control": {
     "read_only": false
    }
   },
   "source": [
    "<h3>Prediction</h3>\n",
    "What is the word correspond to the probability output? Lets use the maximum probability:"
   ]
  },
  {
   "cell_type": "code",
   "execution_count": 30,
   "metadata": {
    "button": false,
    "new_sheet": false,
    "run_control": {
     "read_only": false
    }
   },
   "outputs": [
    {
     "data": {
      "text/plain": [
       "array([2044, 5642, 5642, 8210, 8210, 2044, 1202, 9735, 1202, 7115, 3393,\n",
       "       3393, 3393, 3393, 3393, 7800, 7800, 9735, 9735, 9735])"
      ]
     },
     "execution_count": 30,
     "metadata": {},
     "output_type": "execute_result"
    }
   ],
   "source": [
    "np.argmax(output_words_prob[0:20], axis=1)"
   ]
  },
  {
   "cell_type": "markdown",
   "metadata": {
    "button": false,
    "new_sheet": false,
    "run_control": {
     "read_only": false
    }
   },
   "source": [
    "So, what is the ground truth for the first word of first sentence? "
   ]
  },
  {
   "cell_type": "code",
   "execution_count": 31,
   "metadata": {
    "button": false,
    "new_sheet": false,
    "run_control": {
     "read_only": false
    }
   },
   "outputs": [
    {
     "data": {
      "text/plain": [
       "array([9971, 9972, 9974, 9975, 9976, 9980, 9981, 9982, 9983, 9984, 9986,\n",
       "       9987, 9988, 9989, 9991, 9992, 9993, 9994, 9995, 9996], dtype=int32)"
      ]
     },
     "execution_count": 31,
     "metadata": {},
     "output_type": "execute_result"
    }
   ],
   "source": [
    "y[0]"
   ]
  },
  {
   "cell_type": "markdown",
   "metadata": {
    "button": false,
    "new_sheet": false,
    "run_control": {
     "read_only": false
    }
   },
   "source": [
    "Also, you can get it from target tensor, if you want to find the embedding vector:"
   ]
  },
  {
   "cell_type": "code",
   "execution_count": 32,
   "metadata": {
    "button": false,
    "new_sheet": false,
    "run_control": {
     "read_only": false
    }
   },
   "outputs": [
    {
     "data": {
      "text/plain": [
       "array([9971, 9972, 9974, 9975, 9976, 9980, 9981, 9982, 9983, 9984, 9986,\n",
       "       9987, 9988, 9989, 9991, 9992, 9993, 9994, 9995, 9996], dtype=int32)"
      ]
     },
     "execution_count": 32,
     "metadata": {},
     "output_type": "execute_result"
    }
   ],
   "source": [
    "targ = session.run(_targets, feed_dict) \n",
    "targ[0]"
   ]
  },
  {
   "cell_type": "markdown",
   "metadata": {},
   "source": [
    "How similar the predicted words are to the target words?"
   ]
  },
  {
   "cell_type": "markdown",
   "metadata": {
    "button": false,
    "new_sheet": false,
    "run_control": {
     "read_only": false
    }
   },
   "source": [
    "<h4>Objective function</h4>\n",
    "\n",
    "Now we have to define our objective function, to calculate the similarity of predicted values to ground truth, and then, penalize the model with the error. Our objective is to minimize loss function, that is, to minimize the average negative log probability of the target words:\n",
    "\n",
    "$$\\text{loss} = -\\frac{1}{N}\\sum_{i=1}^{N} \\ln p_{\\text{target}_i}$$\n",
    "\n",
    "This function is already implemented and available in TensorFlow through <b>sequence_loss_by_example</b>. It calculates the weighted cross-entropy loss for <b>logits</b> and the <b>target</b> sequence.  \n",
    "\n",
    "The arguments of this function are:  \n",
    "<ul>\n",
    "    <li>logits: List of 2D Tensors of shape [batch_size x num_decoder_symbols].</li>  \n",
    "    <li>targets: List of 1D batch-sized int32 Tensors of the same length as logits.</li>   \n",
    "    <li>weights: List of 1D batch-sized float-Tensors of the same length as logits.</li> \n",
    "</ul>"
   ]
  },
  {
   "cell_type": "code",
   "execution_count": 33,
   "metadata": {
    "button": false,
    "new_sheet": false,
    "run_control": {
     "read_only": false
    }
   },
   "outputs": [],
   "source": [
    "loss = tf.contrib.legacy_seq2seq.sequence_loss_by_example([logits], [tf.reshape(_targets, [-1])],[tf.ones([batch_size * num_steps])])"
   ]
  },
  {
   "cell_type": "markdown",
   "metadata": {
    "button": false,
    "new_sheet": false,
    "run_control": {
     "read_only": false
    }
   },
   "source": [
    "loss is a 1D batch-sized float Tensor [600x1]: The log-perplexity for each sequence. Lets look at the first 10 values of loss:"
   ]
  },
  {
   "cell_type": "code",
   "execution_count": 34,
   "metadata": {
    "button": false,
    "new_sheet": false,
    "run_control": {
     "read_only": false
    }
   },
   "outputs": [
    {
     "data": {
      "text/plain": [
       "array([9.205081, 9.205222, 9.208551, 9.210377, 9.197219, 9.219449,\n",
       "       9.224664, 9.20422 , 9.220994, 9.201138], dtype=float32)"
      ]
     },
     "execution_count": 34,
     "metadata": {},
     "output_type": "execute_result"
    }
   ],
   "source": [
    "session.run(loss, feed_dict)[:10]"
   ]
  },
  {
   "cell_type": "markdown",
   "metadata": {},
   "source": [
    "Now, we define loss as average of the losses:"
   ]
  },
  {
   "cell_type": "code",
   "execution_count": 35,
   "metadata": {
    "button": false,
    "new_sheet": false,
    "run_control": {
     "read_only": false
    }
   },
   "outputs": [
    {
     "data": {
      "text/plain": [
       "184.19804"
      ]
     },
     "execution_count": 35,
     "metadata": {},
     "output_type": "execute_result"
    }
   ],
   "source": [
    "cost = tf.reduce_sum(loss) / batch_size\n",
    "session.run(tf.global_variables_initializer())\n",
    "session.run(cost, feed_dict)\n"
   ]
  },
  {
   "cell_type": "markdown",
   "metadata": {
    "button": false,
    "new_sheet": false,
    "run_control": {
     "read_only": false
    }
   },
   "source": [
    "<h3>Training</h3>\n",
    "\n",
    "To do training for our network, we have to take the following steps:\n",
    "<ol>\n",
    "    <li>Define the optimizer.</li>\n",
    "    <li>Extract variables that are trainable.</li>\n",
    "    <li>Calculate the gradients based on the loss function.</li>\n",
    "    <li>Apply the optimizer to the variables/gradients tuple.</li>\n",
    "</ol>"
   ]
  },
  {
   "cell_type": "markdown",
   "metadata": {
    "button": false,
    "new_sheet": false,
    "run_control": {
     "read_only": false
    }
   },
   "source": [
    "<h4>1. Define Optimizer</h4>\n",
    "\n",
    "<b>GradientDescentOptimizer</b> constructs a new gradient descent optimizer. Later, we use constructed <b>optimizer</b> to compute gradients for a loss and apply gradients to variables."
   ]
  },
  {
   "cell_type": "code",
   "execution_count": 36,
   "metadata": {
    "button": false,
    "new_sheet": false,
    "run_control": {
     "read_only": false
    }
   },
   "outputs": [],
   "source": [
    "# Create a variable for the learning rate\n",
    "lr = tf.Variable(0.0, trainable=False)\n",
    "# Create the gradient descent optimizer with our learning rate\n",
    "optimizer = tf.train.GradientDescentOptimizer(lr)"
   ]
  },
  {
   "cell_type": "markdown",
   "metadata": {
    "button": false,
    "new_sheet": false,
    "run_control": {
     "read_only": false
    }
   },
   "source": [
    "\n",
    "<h4>2. Trainable Variables</h4>"
   ]
  },
  {
   "cell_type": "markdown",
   "metadata": {
    "button": false,
    "new_sheet": false,
    "run_control": {
     "read_only": false
    }
   },
   "source": [
    "Defining a variable, if you passed <i>trainable=True</i>, the variable constructor automatically adds new variables to the graph collection <b>GraphKeys.TRAINABLE_VARIABLES</b>. Now, using <i>tf.trainable_variables()</i> you can get all variables created with <b>trainable=True</b>."
   ]
  },
  {
   "cell_type": "code",
   "execution_count": 37,
   "metadata": {
    "button": false,
    "new_sheet": false,
    "run_control": {
     "read_only": false
    }
   },
   "outputs": [
    {
     "data": {
      "text/plain": [
       "[<tf.Variable 'embedding_vocab:0' shape=(10000, 200) dtype=float32_ref>,\n",
       " <tf.Variable 'rnn/multi_rnn_cell/cell_0/basic_lstm_cell/kernel:0' shape=(456, 1024) dtype=float32_ref>,\n",
       " <tf.Variable 'rnn/multi_rnn_cell/cell_0/basic_lstm_cell/bias:0' shape=(1024,) dtype=float32_ref>,\n",
       " <tf.Variable 'rnn/multi_rnn_cell/cell_1/basic_lstm_cell/kernel:0' shape=(384, 512) dtype=float32_ref>,\n",
       " <tf.Variable 'rnn/multi_rnn_cell/cell_1/basic_lstm_cell/bias:0' shape=(512,) dtype=float32_ref>,\n",
       " <tf.Variable 'softmax_w:0' shape=(128, 10000) dtype=float32_ref>,\n",
       " <tf.Variable 'softmax_b:0' shape=(10000,) dtype=float32_ref>]"
      ]
     },
     "execution_count": 37,
     "metadata": {},
     "output_type": "execute_result"
    }
   ],
   "source": [
    "# Get all TensorFlow variables marked as \"trainable\" (i.e. all of them except _lr, which we just created)\n",
    "tvars = tf.trainable_variables()\n",
    "tvars"
   ]
  },
  {
   "cell_type": "markdown",
   "metadata": {
    "button": false,
    "new_sheet": false,
    "run_control": {
     "read_only": false
    }
   },
   "source": [
    "Note: we can find the name and scope of all variables:"
   ]
  },
  {
   "cell_type": "code",
   "execution_count": 38,
   "metadata": {
    "button": false,
    "new_sheet": false,
    "run_control": {
     "read_only": false
    }
   },
   "outputs": [
    {
     "data": {
      "text/plain": [
       "['embedding_vocab:0',\n",
       " 'rnn/multi_rnn_cell/cell_0/basic_lstm_cell/kernel:0',\n",
       " 'rnn/multi_rnn_cell/cell_0/basic_lstm_cell/bias:0',\n",
       " 'rnn/multi_rnn_cell/cell_1/basic_lstm_cell/kernel:0',\n",
       " 'rnn/multi_rnn_cell/cell_1/basic_lstm_cell/bias:0',\n",
       " 'softmax_w:0',\n",
       " 'softmax_b:0']"
      ]
     },
     "execution_count": 38,
     "metadata": {},
     "output_type": "execute_result"
    }
   ],
   "source": [
    "[v.name for v in tvars]"
   ]
  },
  {
   "cell_type": "code",
   "execution_count": 42,
   "metadata": {
    "button": false,
    "new_sheet": false,
    "run_control": {
     "read_only": false
    }
   },
   "outputs": [
    {
     "data": {
      "text/plain": [
       "[<tensorflow.python.framework.ops.IndexedSlices at 0x7f4a94a76f98>,\n",
       " <tf.Tensor 'gradients_2/rnn/while/rnn/multi_rnn_cell/cell_0/basic_lstm_cell/MatMul/Enter_grad/b_acc_3:0' shape=(456, 1024) dtype=float32>,\n",
       " <tf.Tensor 'gradients_2/rnn/while/rnn/multi_rnn_cell/cell_0/basic_lstm_cell/BiasAdd/Enter_grad/b_acc_3:0' shape=(1024,) dtype=float32>,\n",
       " <tf.Tensor 'gradients_2/rnn/while/rnn/multi_rnn_cell/cell_1/basic_lstm_cell/MatMul/Enter_grad/b_acc_3:0' shape=(384, 512) dtype=float32>,\n",
       " <tf.Tensor 'gradients_2/rnn/while/rnn/multi_rnn_cell/cell_1/basic_lstm_cell/BiasAdd/Enter_grad/b_acc_3:0' shape=(512,) dtype=float32>,\n",
       " <tf.Tensor 'gradients_2/MatMul_grad/MatMul_1:0' shape=(128, 10000) dtype=float32>,\n",
       " <tf.Tensor 'gradients_2/add_grad/Reshape_1:0' shape=(10000,) dtype=float32>]"
      ]
     },
     "execution_count": 42,
     "metadata": {},
     "output_type": "execute_result"
    }
   ],
   "source": [
    "tf.gradients(cost, tvars)"
   ]
  },
  {
   "cell_type": "code",
   "execution_count": 43,
   "metadata": {
    "button": false,
    "new_sheet": false,
    "run_control": {
     "read_only": false
    },
    "scrolled": true
   },
   "outputs": [],
   "source": [
    "grad_t_list = tf.gradients(cost, tvars)\n",
    "#sess.run(grad_t_list,feed_dict)"
   ]
  },
  {
   "cell_type": "markdown",
   "metadata": {
    "button": false,
    "new_sheet": false,
    "run_control": {
     "read_only": false
    }
   },
   "source": [
    "\n",
    "\n",
    "\n",
    "now, we have a list of tensors, t-list. We can use it to find clipped tensors. <b>clip_by_global_norm</b> clips values of multiple tensors by the ratio of the sum of their norms.\n",
    "\n",
    "<b>clip_by_global_norm</b> get <i>t-list</i> as input and returns 2 things:\n",
    "<ul>\n",
    "    <li>a list of clipped tensors, so called <i>list_clipped</i></li> \n",
    "    <li>the global norm (global_norm) of all tensors in t_list</li> \n",
    "</ul>"
   ]
  },
  {
   "cell_type": "code",
   "execution_count": 44,
   "metadata": {
    "button": false,
    "new_sheet": false,
    "run_control": {
     "read_only": false
    }
   },
   "outputs": [
    {
     "data": {
      "text/plain": [
       "[<tensorflow.python.framework.ops.IndexedSlices at 0x7f4a94a17710>,\n",
       " <tf.Tensor 'clip_by_global_norm/clip_by_global_norm/_1:0' shape=(456, 1024) dtype=float32>,\n",
       " <tf.Tensor 'clip_by_global_norm/clip_by_global_norm/_2:0' shape=(1024,) dtype=float32>,\n",
       " <tf.Tensor 'clip_by_global_norm/clip_by_global_norm/_3:0' shape=(384, 512) dtype=float32>,\n",
       " <tf.Tensor 'clip_by_global_norm/clip_by_global_norm/_4:0' shape=(512,) dtype=float32>,\n",
       " <tf.Tensor 'clip_by_global_norm/clip_by_global_norm/_5:0' shape=(128, 10000) dtype=float32>,\n",
       " <tf.Tensor 'clip_by_global_norm/clip_by_global_norm/_6:0' shape=(10000,) dtype=float32>]"
      ]
     },
     "execution_count": 44,
     "metadata": {},
     "output_type": "execute_result"
    }
   ],
   "source": [
    "# Define the gradient clipping threshold\n",
    "grads, _ = tf.clip_by_global_norm(grad_t_list, max_grad_norm)\n",
    "grads"
   ]
  },
  {
   "cell_type": "code",
   "execution_count": 45,
   "metadata": {
    "button": false,
    "new_sheet": false,
    "run_control": {
     "read_only": false
    }
   },
   "outputs": [
    {
     "data": {
      "text/plain": [
       "[IndexedSlicesValue(values=array([[-5.4005964e-06,  6.9169123e-06,  1.1782132e-05, ...,\n",
       "          1.5645928e-05, -3.6401166e-06,  8.5859647e-06],\n",
       "        [-4.7175786e-06,  8.1614899e-06,  9.4049801e-06, ...,\n",
       "          1.1301999e-05, -5.0138001e-06,  1.7779717e-05],\n",
       "        [-7.7190261e-06,  4.0409627e-06,  1.6059068e-06, ...,\n",
       "          5.5717774e-06, -6.4401584e-06,  1.5298727e-05],\n",
       "        ...,\n",
       "        [ 4.1185040e-06, -4.1422013e-06,  4.9603864e-06, ...,\n",
       "         -3.6372367e-06, -3.1974332e-06, -1.5233730e-06],\n",
       "        [-1.5341998e-06, -3.0871929e-06,  3.7605919e-06, ...,\n",
       "         -4.3346940e-06, -1.9646075e-06, -3.9869210e-06],\n",
       "        [-1.5670896e-06,  5.5184064e-06, -4.8628575e-08, ...,\n",
       "          1.4404470e-06, -3.0450046e-06, -3.4846396e-06]], dtype=float32), indices=array([9970, 9971, 9972, ..., 2043,   23,    1], dtype=int32), dense_shape=array([10000,   200], dtype=int32)),\n",
       " array([[-1.4229245e-08, -5.7701195e-09, -3.4330377e-08, ...,\n",
       "         -4.6625752e-09,  1.7922307e-08, -1.8465714e-08],\n",
       "        [-4.8997491e-09,  5.0633165e-08,  4.9296625e-09, ...,\n",
       "          2.5734147e-08,  4.5575419e-08, -1.7601123e-09],\n",
       "        [ 9.8323714e-09,  1.9230320e-08, -2.0485771e-08, ...,\n",
       "          2.9660836e-08,  1.0263744e-08, -1.2625342e-08],\n",
       "        ...,\n",
       "        [ 7.0181572e-10,  4.2408699e-09, -7.1336381e-11, ...,\n",
       "          3.3425701e-10,  6.7342003e-09,  4.8544386e-09],\n",
       "        [ 3.2642971e-09,  3.5642764e-09, -1.8771917e-09, ...,\n",
       "          3.3108218e-09,  2.1663809e-08,  2.2802514e-10],\n",
       "        [-2.2593274e-09,  4.5568960e-10, -5.5649978e-09, ...,\n",
       "          4.0046912e-09, -4.9698938e-09, -1.3652901e-08]], dtype=float32),\n",
       " array([ 1.5465592e-06,  4.0014652e-06, -6.4677588e-06, ...,\n",
       "         2.7794390e-06, -5.1924526e-06, -1.6845238e-06], dtype=float32),\n",
       " array([[ 3.2893290e-09, -2.2159947e-10,  4.5449537e-09, ...,\n",
       "         -1.1769017e-08,  3.6697945e-09,  1.9357593e-10],\n",
       "        [ 8.4868281e-09, -1.6203279e-09,  6.6745551e-09, ...,\n",
       "          5.9423999e-09, -3.0858298e-09, -1.7232576e-09],\n",
       "        [-8.0378362e-09,  2.6202973e-09, -3.6537589e-09, ...,\n",
       "         -3.8309542e-09, -2.7534202e-09, -1.3109525e-10],\n",
       "        ...,\n",
       "        [ 1.3978725e-09, -1.0682142e-09, -2.9954797e-10, ...,\n",
       "         -7.2405615e-09, -1.0238694e-09, -1.4253593e-10],\n",
       "        [-3.9732035e-09,  8.1383100e-10,  3.2533590e-10, ...,\n",
       "          2.3231459e-09,  5.0955689e-09,  5.3070021e-10],\n",
       "        [ 2.0456676e-09,  3.9907844e-10, -1.6818438e-10, ...,\n",
       "         -2.5893736e-09,  1.9314947e-09, -6.6666397e-09]], dtype=float32),\n",
       " array([-3.59693240e-06,  3.88890066e-06, -3.12617942e-07,  9.68113682e-07,\n",
       "        -1.67083363e-06, -7.83457290e-06, -3.75341841e-07,  5.99981206e-07,\n",
       "         1.46089940e-06,  4.72664397e-09,  1.75575383e-06,  1.64660548e-06,\n",
       "         8.23876633e-07, -1.05971378e-06,  1.26469888e-06,  3.16230626e-06,\n",
       "        -2.01110925e-06,  1.91770005e-06, -1.64580854e-06,  6.21795698e-06,\n",
       "         1.97934992e-06, -1.48523191e-06,  7.22134109e-06,  1.20856282e-06,\n",
       "        -8.65847142e-06,  8.06820140e-07, -2.39811811e-06,  2.43829822e-06,\n",
       "         5.16137050e-07, -1.77965308e-06,  9.56472468e-06, -1.41492748e-07,\n",
       "         8.70089821e-07,  5.41586132e-06, -8.59473630e-07, -4.37406470e-06,\n",
       "         1.64385665e-06, -8.87724855e-06,  3.22992605e-06,  6.79447965e-07,\n",
       "         2.20042671e-06,  1.02022125e-06, -3.12397333e-06,  8.87243971e-07,\n",
       "        -7.72325620e-07,  2.04255252e-06,  4.80001972e-07,  1.40250188e-06,\n",
       "        -4.80435165e-06, -3.47207310e-06,  1.02102024e-06,  6.71657972e-07,\n",
       "         1.24845235e-06, -4.29012886e-07,  2.22921685e-07,  1.98263638e-06,\n",
       "        -2.09396558e-06, -1.63298012e-06, -1.14395300e-06, -7.15581734e-07,\n",
       "        -2.51756001e-06,  1.50657115e-06,  1.61036564e-06,  1.88964555e-06,\n",
       "        -2.64124446e-06,  2.83222448e-06,  4.75066372e-07,  1.14495400e-07,\n",
       "         4.14541864e-06, -4.36159007e-06,  4.68403528e-07, -2.11511633e-06,\n",
       "        -6.50857100e-06, -1.82386646e-06, -3.53118253e-06, -1.26006466e-06,\n",
       "         1.03816342e-06,  2.78032849e-06,  2.08496044e-06, -4.71960948e-06,\n",
       "        -1.63253242e-06, -6.33286027e-06, -1.45672379e-06, -1.12107296e-06,\n",
       "        -3.21565517e-06, -1.05875847e-06,  3.86600959e-06, -2.78177413e-06,\n",
       "         1.10408666e-06,  2.42315741e-06,  2.95884388e-06, -3.56908322e-06,\n",
       "        -6.73009390e-06, -3.21447374e-07, -4.87431066e-07,  1.79163521e-06,\n",
       "         2.09697737e-06,  1.03882462e-06,  1.00034174e-06,  2.65286303e-06,\n",
       "         3.71344777e-06, -8.28647615e-07,  8.94452171e-07, -1.21632411e-06,\n",
       "         4.56942644e-06,  9.17173253e-08,  4.62000526e-06,  1.59462502e-06,\n",
       "        -7.12160636e-06, -2.69652924e-06,  6.98490680e-07, -6.40572750e-07,\n",
       "         3.41408418e-06, -3.73027228e-06,  4.98462759e-06, -9.60590341e-07,\n",
       "         6.00778685e-06, -2.47984804e-06, -1.68083614e-06, -5.87952172e-06,\n",
       "        -4.19465005e-06,  6.67111044e-06,  2.83986935e-07,  9.41136705e-07,\n",
       "         1.61364824e-06, -1.05732670e-06, -8.51108780e-07,  4.91671426e-06,\n",
       "        -2.14308649e-02,  3.98865109e-03,  1.31804133e-02, -4.87774843e-03,\n",
       "         3.11883166e-03,  8.13902821e-03,  9.77491215e-03,  1.17099669e-03,\n",
       "         8.43162090e-03, -1.48632168e-03,  2.73243580e-02,  6.44857669e-03,\n",
       "        -1.63951516e-02,  7.09829759e-03,  2.12977687e-03,  7.07413442e-03,\n",
       "        -9.15344222e-04,  9.41984728e-03,  1.79896913e-02, -3.43833212e-03,\n",
       "        -5.11888824e-02,  2.00922191e-02, -7.55178090e-03,  1.70251057e-02,\n",
       "        -3.19926925e-02, -6.49352977e-03, -5.88426460e-03,  2.05649640e-02,\n",
       "         3.61097930e-03, -2.23149383e-03, -4.30631777e-03, -2.42442898e-02,\n",
       "         2.04539020e-02, -4.19184752e-02,  8.93006660e-03,  2.53873272e-03,\n",
       "        -2.74978811e-03, -3.61879021e-02,  4.50852420e-03,  1.68828424e-02,\n",
       "         2.01414581e-02, -1.53364986e-03,  1.14361923e-02, -1.15794512e-02,\n",
       "        -2.26506758e-02, -3.02162301e-02, -2.30089724e-02, -7.68123195e-03,\n",
       "         1.56447422e-02,  7.37023167e-03, -1.72520799e-04,  1.31808603e-02,\n",
       "        -1.55627355e-02,  1.04573881e-03,  1.08130351e-02, -1.23029770e-02,\n",
       "        -9.06310277e-04, -2.14544088e-02, -1.44054159e-03,  9.89111420e-03,\n",
       "         6.05480606e-03, -1.84394866e-02, -4.29198844e-03,  1.86840519e-02,\n",
       "         1.72547176e-02, -2.25859247e-02, -6.12668740e-03, -1.38733769e-02,\n",
       "        -5.95521508e-03,  1.09786084e-02,  1.33705640e-03, -3.04346951e-03,\n",
       "        -2.00426765e-02, -6.15913002e-03, -1.90987333e-03,  1.72462128e-02,\n",
       "        -1.12585919e-02,  1.71185452e-02, -2.72007985e-03, -2.23493408e-02,\n",
       "        -2.83099450e-02, -3.74391824e-02,  1.68986656e-02, -9.27892979e-04,\n",
       "         1.22936995e-04, -6.44007558e-03,  3.08449566e-02, -1.86257549e-02,\n",
       "         1.10703539e-02,  8.78900103e-03, -1.58227999e-02, -2.53755748e-02,\n",
       "         2.28369306e-03, -1.21213431e-02,  3.33138509e-03, -9.18505364e-04,\n",
       "        -3.15658911e-03,  1.07819280e-02, -6.12237165e-03, -1.37576777e-02,\n",
       "        -2.04550605e-02, -1.32612605e-02, -2.04228722e-02,  1.44319460e-02,\n",
       "        -2.30264217e-02, -3.11362278e-02,  2.72230059e-03, -4.61196201e-03,\n",
       "         1.76343601e-02, -1.31722987e-02,  1.74325239e-02,  1.04946061e-03,\n",
       "         6.17216108e-03, -1.98204126e-02,  2.42978334e-03,  8.00153334e-03,\n",
       "        -2.40028314e-02, -7.97540229e-03, -2.66433740e-03,  1.79895032e-02,\n",
       "         2.82588461e-03,  1.67052485e-02, -2.15437822e-02,  2.87098400e-02,\n",
       "        -8.22663680e-03, -1.08858244e-02,  2.46802382e-02, -1.93593148e-02,\n",
       "        -1.90859282e-06,  5.50333993e-07,  2.34975595e-10, -1.27972680e-06,\n",
       "        -3.70034854e-07, -4.05408491e-06, -7.54426935e-07,  5.54706958e-07,\n",
       "         1.28805550e-06,  1.87427725e-06,  3.12194715e-07,  1.13224729e-07,\n",
       "         2.84859630e-06,  8.06042806e-07,  1.23122038e-06,  2.21427877e-06,\n",
       "        -2.94264601e-06, -5.15430429e-07, -7.73819920e-07,  6.27614691e-06,\n",
       "         9.56458166e-07, -1.90271464e-06,  5.12695897e-06,  1.70062276e-06,\n",
       "        -6.30627255e-06,  2.90795492e-06, -3.53735857e-07,  3.08467122e-07,\n",
       "         9.38776282e-07, -4.88021351e-06,  7.82738061e-06,  2.06902473e-06,\n",
       "         1.52166217e-06,  4.10966686e-06,  1.15927890e-06, -3.72950831e-06,\n",
       "        -6.23341862e-07, -5.62932382e-06,  6.53738539e-08, -1.30899593e-06,\n",
       "         1.36367919e-06,  4.99078567e-07, -1.41138560e-06, -1.00209809e-06,\n",
       "         1.04405700e-07,  5.17217416e-07,  3.42811120e-07,  8.21219885e-07,\n",
       "        -5.04402396e-06, -1.83916427e-06,  9.19593845e-07, -1.31231116e-06,\n",
       "         1.82940232e-06,  1.46562149e-06, -1.37515428e-06,  1.55805367e-06,\n",
       "         4.58970135e-07, -3.29169438e-06, -1.34358277e-06,  4.45795337e-07,\n",
       "        -2.42792248e-06,  1.02863078e-06, -2.15358591e-06, -5.50982008e-07,\n",
       "        -8.24939775e-07,  2.04541607e-06, -7.92552953e-07,  4.79275855e-07,\n",
       "         2.46561922e-06, -2.64106143e-06, -1.00731734e-06, -6.27773318e-07,\n",
       "        -3.36470725e-06, -8.73600413e-07, -2.66332989e-07,  1.73567651e-06,\n",
       "         3.71291094e-07,  2.87974217e-06,  1.53396206e-06, -4.26315546e-06,\n",
       "        -2.02533761e-06, -4.85120700e-06, -4.46707827e-06,  2.67855569e-08,\n",
       "        -3.17537001e-07,  2.84245118e-07,  2.69439738e-06, -3.23659856e-06,\n",
       "        -1.29360694e-06,  7.16117654e-07,  7.14960197e-06,  1.38254541e-06,\n",
       "        -4.44081206e-06, -2.08348683e-06,  1.82949225e-06,  7.90897502e-07,\n",
       "         4.30410125e-07,  2.61687978e-06,  8.31963519e-07,  2.32187699e-06,\n",
       "         4.19454045e-06, -6.18713273e-07,  4.60434876e-07, -2.39906683e-07,\n",
       "         6.11847781e-06,  2.73662931e-06,  2.58334603e-06, -1.35860773e-06,\n",
       "        -3.45609305e-06, -1.83322300e-06,  5.21263360e-07, -3.60298287e-07,\n",
       "         3.94056906e-06, -3.03679167e-06,  3.62434957e-06, -2.40439431e-06,\n",
       "         3.66567269e-06, -3.43917918e-06, -1.10634790e-06, -3.91378853e-06,\n",
       "        -1.46964919e-06,  2.62825051e-06, -1.27949943e-06,  2.34147024e-06,\n",
       "        -1.43782518e-06, -3.00663396e-06, -4.22096832e-07,  1.26032523e-06,\n",
       "        -3.59931369e-06,  3.88782564e-06, -3.07003177e-07,  9.61117166e-07,\n",
       "        -1.66870575e-06, -7.83419364e-06, -3.77333919e-07,  5.98792667e-07,\n",
       "         1.46068589e-06,  9.02767283e-09,  1.75853063e-06,  1.64631456e-06,\n",
       "         8.25935331e-07, -1.05967854e-06,  1.26154816e-06,  3.16469891e-06,\n",
       "        -2.01560511e-06,  1.91446156e-06, -1.64272035e-06,  6.21658864e-06,\n",
       "         1.98292514e-06, -1.48529500e-06,  7.22258937e-06,  1.21398352e-06,\n",
       "        -8.65812308e-06,  8.12016310e-07, -2.39968381e-06,  2.44058538e-06,\n",
       "         5.11754706e-07, -1.77930758e-06,  9.55899668e-06, -1.35822063e-07,\n",
       "         8.69753649e-07,  5.41599411e-06, -8.61188141e-07, -4.37798872e-06,\n",
       "         1.64183973e-06, -8.87881197e-06,  3.22631945e-06,  6.72699571e-07,\n",
       "         2.20220363e-06,  1.01769058e-06, -3.12642078e-06,  8.88020907e-07,\n",
       "        -7.69424560e-07,  2.04384173e-06,  4.82116093e-07,  1.40495138e-06,\n",
       "        -4.80645349e-06, -3.47355058e-06,  1.01791807e-06,  6.70861994e-07,\n",
       "         1.24884036e-06, -4.31382887e-07,  2.23010574e-07,  1.98808948e-06,\n",
       "        -2.09282734e-06, -1.62508627e-06, -1.14236514e-06, -7.12294366e-07,\n",
       "        -2.51491610e-06,  1.51474342e-06,  1.60942182e-06,  1.88983790e-06,\n",
       "        -2.63687821e-06,  2.82664314e-06,  4.76008069e-07,  1.12700747e-07,\n",
       "         4.14625492e-06, -4.36535265e-06,  4.77661501e-07, -2.11638530e-06,\n",
       "        -6.51164419e-06, -1.82398264e-06, -3.52838401e-06, -1.25655606e-06,\n",
       "         1.03902744e-06,  2.77874483e-06,  2.08548113e-06, -4.73391538e-06,\n",
       "        -1.62675417e-06, -6.33000263e-06, -1.45821082e-06, -1.11973566e-06,\n",
       "        -3.21520042e-06, -1.05628192e-06,  3.86279453e-06, -2.79052983e-06,\n",
       "         1.10352198e-06,  2.42146416e-06,  2.95900827e-06, -3.56318469e-06,\n",
       "        -6.72750957e-06, -3.18879415e-07, -4.91307617e-07,  1.79556071e-06,\n",
       "         2.09565019e-06,  1.03988179e-06,  1.00133195e-06,  2.65400467e-06,\n",
       "         3.71329747e-06, -8.26445898e-07,  8.99060524e-07, -1.21696792e-06,\n",
       "         4.56822181e-06,  9.40136573e-08,  4.62747084e-06,  1.59182400e-06,\n",
       "        -7.12445944e-06, -2.69543284e-06,  7.03403998e-07, -6.41822226e-07,\n",
       "         3.41712939e-06, -3.72581917e-06,  4.98418012e-06, -9.64893843e-07,\n",
       "         6.00631802e-06, -2.48068727e-06, -1.67763733e-06, -5.88563444e-06,\n",
       "        -4.19596154e-06,  6.67392578e-06,  2.82763295e-07,  9.37866389e-07,\n",
       "         1.61236562e-06, -1.04972912e-06, -8.56570523e-07,  4.91330229e-06],\n",
       "       dtype=float32),\n",
       " array([[ 2.9839555e-05, -1.4827408e-04, -1.6553656e-04, ...,\n",
       "          2.2209710e-07,  2.2843744e-07,  2.2533042e-07],\n",
       "        [-7.1607094e-05,  7.4011099e-05,  1.1758513e-05, ...,\n",
       "         -6.6378732e-08, -6.8305582e-08, -6.7347635e-08],\n",
       "        [ 8.3380866e-05,  6.6288500e-05,  8.1616981e-06, ...,\n",
       "         -1.6604420e-07, -1.7083636e-07, -1.6851067e-07],\n",
       "        ...,\n",
       "        [-1.8942368e-04, -2.5710286e-04, -2.0855737e-04, ...,\n",
       "          4.3984281e-07,  4.5247910e-07,  4.4627529e-07],\n",
       "        [ 2.4041484e-04,  1.5009672e-04,  1.1854584e-04, ...,\n",
       "         -2.4307587e-07, -2.5005193e-07, -2.4666417e-07],\n",
       "        [-2.3657603e-05, -7.5948265e-07, -9.9692101e-05, ...,\n",
       "          1.2833863e-07,  1.3202177e-07,  1.3020011e-07]], dtype=float32),\n",
       " array([-0.7813393 , -1.0979841 , -0.9813165 , ...,  0.00197737,\n",
       "         0.0020342 ,  0.0020064 ], dtype=float32)]"
      ]
     },
     "execution_count": 45,
     "metadata": {},
     "output_type": "execute_result"
    }
   ],
   "source": [
    "session.run(grads, feed_dict)"
   ]
  },
  {
   "cell_type": "markdown",
   "metadata": {
    "button": false,
    "new_sheet": false,
    "run_control": {
     "read_only": false
    }
   },
   "source": [
    "<h4>4. Apply the optimizer to the variables / gradients tuple.</h4>"
   ]
  },
  {
   "cell_type": "code",
   "execution_count": 46,
   "metadata": {
    "button": false,
    "new_sheet": false,
    "run_control": {
     "read_only": false
    }
   },
   "outputs": [],
   "source": [
    "# Create the training TensorFlow Operation through our optimizer\n",
    "train_op = optimizer.apply_gradients(zip(grads, tvars))"
   ]
  },
  {
   "cell_type": "code",
   "execution_count": 47,
   "metadata": {
    "button": false,
    "new_sheet": false,
    "run_control": {
     "read_only": false
    }
   },
   "outputs": [],
   "source": [
    "session.run(tf.global_variables_initializer())\n",
    "session.run(train_op, feed_dict)"
   ]
  },
  {
   "cell_type": "markdown",
   "metadata": {},
   "source": [
    "<a id=\"ltsm\"></a>\n",
    "<h2>LSTM</h2>"
   ]
  },
  {
   "cell_type": "markdown",
   "metadata": {
    "button": false,
    "new_sheet": false,
    "run_control": {
     "read_only": false
    }
   },
   "source": [
    "We learned how the model is build step by step. Noe, let's then create a Class that represents our model. This class needs a few things:\n",
    "<ul>\n",
    "    <li>We have to create the model in accordance with our defined hyperparameters</li>\n",
    "    <li>We have to create the placeholders for our input data and expected outputs (the real data)</li>\n",
    "    <li>We have to create the LSTM cell structure and connect them with our RNN structure</li>\n",
    "    <li>We have to create the word embeddings and point them to the input data</li>\n",
    "    <li>We have to create the input structure for our RNN</li>\n",
    "    <li>We have to instantiate our RNN model and retrieve the variable in which we should expect our outputs to appear</li>\n",
    "    <li>We need to create a logistic structure to return the probability of our words</li>\n",
    "    <li>We need to create the loss and cost functions for our optimizer to work, and then create the optimizer</li>\n",
    "    <li>And finally, we need to create a training operation that can be run to actually train our model</li>\n",
    "</ul>"
   ]
  },
  {
   "cell_type": "code",
   "execution_count": 48,
   "metadata": {},
   "outputs": [
    {
     "data": {
      "text/plain": [
       "256"
      ]
     },
     "execution_count": 48,
     "metadata": {},
     "output_type": "execute_result"
    }
   ],
   "source": [
    "hidden_size_l1"
   ]
  },
  {
   "cell_type": "code",
   "execution_count": 49,
   "metadata": {
    "button": false,
    "new_sheet": false,
    "run_control": {
     "read_only": false
    }
   },
   "outputs": [],
   "source": [
    "class PTBModel(object):\n",
    "\n",
    "    def __init__(self, action_type):\n",
    "        ######################################\n",
    "        # Setting parameters for ease of use #\n",
    "        ######################################\n",
    "        self.batch_size = batch_size\n",
    "        self.num_steps = num_steps\n",
    "        self.hidden_size_l1 = hidden_size_l1\n",
    "        self.hidden_size_l2 = hidden_size_l2\n",
    "        self.vocab_size = vocab_size\n",
    "        self.embeding_vector_size = embeding_vector_size\n",
    "        ###############################################################################\n",
    "        # Creating placeholders for our input data and expected outputs (target data) #\n",
    "        ###############################################################################\n",
    "        self._input_data = tf.placeholder(tf.int32, [batch_size, num_steps]) #[30#20]\n",
    "        self._targets = tf.placeholder(tf.int32, [batch_size, num_steps]) #[30#20]\n",
    "\n",
    "        ##########################################################################\n",
    "        # Creating the LSTM cell structure and connect it with the RNN structure #\n",
    "        ##########################################################################\n",
    "        # Create the LSTM unit. \n",
    "        # This creates only the structure for the LSTM and has to be associated with a RNN unit still.\n",
    "        # The argument n_hidden(size=200) of BasicLSTMCell is size of hidden layer, that is, the number of hidden units of the LSTM (inside A).\n",
    "        # Size is the same as the size of our hidden layer, and no bias is added to the Forget Gate. \n",
    "        # LSTM cell processes one word at a time and computes probabilities of the possible continuations of the sentence.\n",
    "        lstm_cell_l1 = tf.contrib.rnn.BasicLSTMCell(self.hidden_size_l1, forget_bias=0.0)\n",
    "        lstm_cell_l2 = tf.contrib.rnn.BasicLSTMCell(self.hidden_size_l2, forget_bias=0.0)\n",
    "        \n",
    "        # Unless you changed keep_prob, this won't actually execute -- this is a dropout wrapper for our LSTM unit\n",
    "        # This is an optimization of the LSTM output, but is not needed at all\n",
    "        if action_type == \"is_training\" and keep_prob < 1:\n",
    "            lstm_cell_l1 = tf.contrib.rnn.DropoutWrapper(lstm_cell_l1, output_keep_prob=keep_prob)\n",
    "            lstm_cell_l2 = tf.contrib.rnn.DropoutWrapper(lstm_cell_l2, output_keep_prob=keep_prob)\n",
    "        \n",
    "        # By taking in the LSTM cells as parameters, the MultiRNNCell function junctions the LSTM units to the RNN units.\n",
    "        # RNN cell composed sequentially of multiple simple cells.\n",
    "        stacked_lstm = tf.contrib.rnn.MultiRNNCell([lstm_cell_l1, lstm_cell_l2])\n",
    "\n",
    "        # Define the initial state, i.e., the model state for the very first data point\n",
    "        # It initialize the state of the LSTM memory. The memory state of the network is initialized with a vector of zeros and gets updated after reading each word.\n",
    "        self._initial_state = stacked_lstm.zero_state(batch_size, tf.float32)\n",
    "\n",
    "        ####################################################################\n",
    "        # Creating the word embeddings and pointing them to the input data #\n",
    "        ####################################################################\n",
    "        with tf.device(\"/cpu:0\"):\n",
    "            # Create the embeddings for our input data. Size is hidden size.\n",
    "            embedding = tf.get_variable(\"embedding\", [vocab_size, self.embeding_vector_size])  #[10000x200]\n",
    "            # Define where to get the data for our embeddings from\n",
    "            inputs = tf.nn.embedding_lookup(embedding, self._input_data)\n",
    "\n",
    "        # Unless you changed keep_prob, this won't actually execute -- this is a dropout addition for our inputs\n",
    "        # This is an optimization of the input processing and is not needed at all\n",
    "        if action_type == \"is_training\" and keep_prob < 1:\n",
    "            inputs = tf.nn.dropout(inputs, keep_prob)\n",
    "\n",
    "        ############################################\n",
    "        # Creating the input structure for our RNN #\n",
    "        ############################################\n",
    "        # Input structure is 20x[30x200]\n",
    "        # Considering each word is represended by a 200 dimentional vector, and we have 30 batchs, we create 30 word-vectors of size [30xx2000]\n",
    "        # inputs = [tf.squeeze(input_, [1]) for input_ in tf.split(1, num_steps, inputs)]\n",
    "        # The input structure is fed from the embeddings, which are filled in by the input data\n",
    "        # Feeding a batch of b sentences to a RNN:\n",
    "        # In step 1,  first word of each of the b sentences (in a batch) is input in parallel.  \n",
    "        # In step 2,  second word of each of the b sentences is input in parallel. \n",
    "        # The parallelism is only for efficiency.  \n",
    "        # Each sentence in a batch is handled in parallel, but the network sees one word of a sentence at a time and does the computations accordingly. \n",
    "        # All the computations involving the words of all sentences in a batch at a given time step are done in parallel. \n",
    "\n",
    "        ####################################################################################################\n",
    "        # Instantiating our RNN model and retrieving the structure for returning the outputs and the state #\n",
    "        ####################################################################################################\n",
    "        \n",
    "        outputs, state = tf.nn.dynamic_rnn(stacked_lstm, inputs, initial_state=self._initial_state)\n",
    "        #########################################################################\n",
    "        # Creating a logistic unit to return the probability of the output word #\n",
    "        #########################################################################\n",
    "        output = tf.reshape(outputs, [-1, self.hidden_size_l2])\n",
    "        softmax_w = tf.get_variable(\"softmax_w\", [self.hidden_size_l2, vocab_size]) #[200x1000]\n",
    "        softmax_b = tf.get_variable(\"softmax_b\", [vocab_size]) #[1x1000]\n",
    "        logits = tf.matmul(output, softmax_w) + softmax_b\n",
    "        logits = tf.reshape(logits, [self.batch_size, self.num_steps, vocab_size])\n",
    "        prob = tf.nn.softmax(logits)\n",
    "        out_words = tf.argmax(prob, axis=2)\n",
    "        self._output_words = out_words\n",
    "        #########################################################################\n",
    "        # Defining the loss and cost functions for the model's learning to work #\n",
    "        #########################################################################\n",
    "            \n",
    "\n",
    "        # Use the contrib sequence loss and average over the batches\n",
    "        loss = tf.contrib.seq2seq.sequence_loss(\n",
    "            logits,\n",
    "            self.targets,\n",
    "            tf.ones([batch_size, num_steps], dtype=tf.float32),\n",
    "            average_across_timesteps=False,\n",
    "            average_across_batch=True)\n",
    "    \n",
    "#         loss = tf.contrib.legacy_seq2seq.sequence_loss_by_example([logits], [tf.reshape(self._targets, [-1])],\n",
    "#                                                       [tf.ones([batch_size * num_steps])])\n",
    "        self._cost = tf.reduce_sum(loss)\n",
    "\n",
    "        # Store the final state\n",
    "        self._final_state = state\n",
    "\n",
    "        #Everything after this point is relevant only for training\n",
    "        if action_type != \"is_training\":\n",
    "            return\n",
    "\n",
    "        #################################################\n",
    "        # Creating the Training Operation for our Model #\n",
    "        #################################################\n",
    "        # Create a variable for the learning rate\n",
    "        self._lr = tf.Variable(0.0, trainable=False)\n",
    "        # Get all TensorFlow variables marked as \"trainable\" (i.e. all of them except _lr, which we just created)\n",
    "        tvars = tf.trainable_variables()\n",
    "        # Define the gradient clipping threshold\n",
    "        grads, _ = tf.clip_by_global_norm(tf.gradients(self._cost, tvars), max_grad_norm)\n",
    "        # Create the gradient descent optimizer with our learning rate\n",
    "        optimizer = tf.train.GradientDescentOptimizer(self.lr)\n",
    "        # Create the training TensorFlow Operation through our optimizer\n",
    "        self._train_op = optimizer.apply_gradients(zip(grads, tvars))\n",
    "\n",
    "    # Helper functions for our LSTM RNN class\n",
    "\n",
    "    # Assign the learning rate for this model\n",
    "    def assign_lr(self, session, lr_value):\n",
    "        session.run(tf.assign(self.lr, lr_value))\n",
    "\n",
    "    # Returns the input data for this model at a point in time\n",
    "    @property\n",
    "    def input_data(self):\n",
    "        return self._input_data\n",
    "\n",
    "\n",
    "    \n",
    "    # Returns the targets for this model at a point in time\n",
    "    @property\n",
    "    def targets(self):\n",
    "        return self._targets\n",
    "\n",
    "    # Returns the initial state for this model\n",
    "    @property\n",
    "    def initial_state(self):\n",
    "        return self._initial_state\n",
    "\n",
    "    # Returns the defined Cost\n",
    "    @property\n",
    "    def cost(self):\n",
    "        return self._cost\n",
    "\n",
    "    # Returns the final state for this model\n",
    "    @property\n",
    "    def final_state(self):\n",
    "        return self._final_state\n",
    "    \n",
    "    # Returns the final output words for this model\n",
    "    @property\n",
    "    def final_output_words(self):\n",
    "        return self._output_words\n",
    "    \n",
    "    # Returns the current learning rate for this model\n",
    "    @property\n",
    "    def lr(self):\n",
    "        return self._lr\n",
    "\n",
    "    # Returns the training operation defined for this model\n",
    "    @property\n",
    "    def train_op(self):\n",
    "        return self._train_op"
   ]
  },
  {
   "cell_type": "markdown",
   "metadata": {
    "button": false,
    "new_sheet": false,
    "run_control": {
     "read_only": false
    }
   },
   "source": [
    "With that, the actual structure of our Recurrent Neural Network with Long Short-Term Memory is finished. What remains for us to do is to actually create the methods to run through time -- that is, the <code>run_epoch</code> method to be run at each epoch and a <code>main</code> script which ties all of this together.\n",
    "\n",
    "What our <code>run_epoch</code> method should do is take our input data and feed it to the relevant operations. This will return at the very least the current result for the cost function."
   ]
  },
  {
   "cell_type": "code",
   "execution_count": 50,
   "metadata": {
    "button": false,
    "new_sheet": false,
    "run_control": {
     "read_only": false
    }
   },
   "outputs": [],
   "source": [
    "##########################################################################################################################\n",
    "# run_one_epoch takes as parameters the current session, the model instance, the data to be fed, and the operation to be run #\n",
    "##########################################################################################################################\n",
    "def run_one_epoch(session, m, data, eval_op, verbose=False):\n",
    "\n",
    "    #Define the epoch size based on the length of the data, batch size and the number of steps\n",
    "    epoch_size = ((len(data) // m.batch_size) - 1) // m.num_steps\n",
    "    start_time = time.time()\n",
    "    costs = 0.0\n",
    "    iters = 0\n",
    "\n",
    "    state = session.run(m.initial_state)\n",
    "    \n",
    "    #For each step and data point\n",
    "    for step, (x, y) in enumerate(reader.ptb_iterator(data, m.batch_size, m.num_steps)):\n",
    "        \n",
    "        #Evaluate and return cost, state by running cost, final_state and the function passed as parameter\n",
    "        cost, state, out_words, _ = session.run([m.cost, m.final_state, m.final_output_words, eval_op],\n",
    "                                     {m.input_data: x,\n",
    "                                      m.targets: y,\n",
    "                                      m.initial_state: state})\n",
    "\n",
    "        #Add returned cost to costs (which keeps track of the total costs for this epoch)\n",
    "        costs += cost\n",
    "        \n",
    "        #Add number of steps to iteration counter\n",
    "        iters += m.num_steps\n",
    "\n",
    "        if verbose and step % (epoch_size // 10) == 10:\n",
    "            print(\"Itr %d of %d, perplexity: %.3f speed: %.0f wps\" % (step , epoch_size, np.exp(costs / iters), iters * m.batch_size / (time.time() - start_time)))\n",
    "\n",
    "    # Returns the Perplexity rating for us to keep track of how the model is evolving\n",
    "    return np.exp(costs / iters)\n"
   ]
  },
  {
   "cell_type": "markdown",
   "metadata": {
    "button": false,
    "new_sheet": false,
    "run_control": {
     "read_only": false
    }
   },
   "source": [
    "Now, we create the <code>main</code> method to tie everything together. The code here reads the data from the directory, using the <code>reader</code> helper module, and then trains and evaluates the model on both a testing and a validating subset of data."
   ]
  },
  {
   "cell_type": "code",
   "execution_count": 51,
   "metadata": {
    "button": false,
    "new_sheet": false,
    "run_control": {
     "read_only": false
    }
   },
   "outputs": [],
   "source": [
    "# Reads the data and separates it into training data, validation data and testing data\n",
    "raw_data = reader.ptb_raw_data(data_dir)\n",
    "train_data, valid_data, test_data, _, _ = raw_data"
   ]
  },
  {
   "cell_type": "code",
   "execution_count": null,
   "metadata": {
    "button": false,
    "new_sheet": false,
    "run_control": {
     "read_only": false
    }
   },
   "outputs": [
    {
     "name": "stdout",
     "output_type": "stream",
     "text": [
      "Epoch 1 : Learning rate: 1.000\n",
      "Itr 10 of 774, perplexity: 4052.577 speed: 2010 wps\n",
      "Itr 87 of 774, perplexity: 1265.010 speed: 2053 wps\n",
      "Itr 164 of 774, perplexity: 969.029 speed: 2052 wps\n",
      "Itr 241 of 774, perplexity: 805.871 speed: 2037 wps\n",
      "Itr 318 of 774, perplexity: 712.309 speed: 2033 wps\n",
      "Itr 395 of 774, perplexity: 637.018 speed: 2040 wps\n",
      "Itr 472 of 774, perplexity: 578.228 speed: 2045 wps\n",
      "Itr 549 of 774, perplexity: 525.045 speed: 2048 wps\n",
      "Itr 626 of 774, perplexity: 482.076 speed: 2049 wps\n",
      "Itr 703 of 774, perplexity: 448.301 speed: 2049 wps\n",
      "Epoch 1 : Train Perplexity: 424.285\n",
      "Epoch 1 : Valid Perplexity: 258.111\n",
      "Epoch 2 : Learning rate: 1.000\n",
      "Itr 10 of 774, perplexity: 271.466 speed: 2007 wps\n",
      "Itr 87 of 774, perplexity: 235.092 speed: 2068 wps\n",
      "Itr 164 of 774, perplexity: 224.543 speed: 2056 wps\n",
      "Itr 241 of 774, perplexity: 215.029 speed: 2045 wps\n",
      "Itr 318 of 774, perplexity: 212.469 speed: 2051 wps\n",
      "Itr 395 of 774, perplexity: 206.691 speed: 2056 wps\n",
      "Itr 472 of 774, perplexity: 202.553 speed: 2058 wps\n",
      "Itr 549 of 774, perplexity: 195.898 speed: 2058 wps\n",
      "Itr 626 of 774, perplexity: 190.466 speed: 2055 wps\n",
      "Itr 703 of 774, perplexity: 186.343 speed: 2057 wps\n",
      "Epoch 2 : Train Perplexity: 183.663\n",
      "Epoch 2 : Valid Perplexity: 169.810\n",
      "Epoch 3 : Learning rate: 1.000\n",
      "Itr 10 of 774, perplexity: 181.847 speed: 2069 wps\n",
      "Itr 87 of 774, perplexity: 157.403 speed: 2020 wps\n",
      "Itr 164 of 774, perplexity: 153.365 speed: 2036 wps\n",
      "Itr 241 of 774, perplexity: 148.887 speed: 2026 wps\n",
      "Itr 318 of 774, perplexity: 149.110 speed: 2029 wps\n",
      "Itr 395 of 774, perplexity: 146.514 speed: 2034 wps\n",
      "Itr 472 of 774, perplexity: 145.091 speed: 2038 wps\n",
      "Itr 549 of 774, perplexity: 141.499 speed: 2042 wps\n",
      "Itr 626 of 774, perplexity: 138.725 speed: 2040 wps\n",
      "Itr 703 of 774, perplexity: 136.915 speed: 2044 wps\n",
      "Epoch 3 : Train Perplexity: 135.909\n",
      "Epoch 3 : Valid Perplexity: 148.363\n",
      "Epoch 4 : Learning rate: 1.000\n",
      "Itr 10 of 774, perplexity: 146.139 speed: 1931 wps\n",
      "Itr 87 of 774, perplexity: 125.631 speed: 2020 wps\n",
      "Itr 164 of 774, perplexity: 123.304 speed: 2023 wps\n",
      "Itr 241 of 774, perplexity: 120.152 speed: 2024 wps\n",
      "Itr 318 of 774, perplexity: 121.040 speed: 2032 wps\n",
      "Itr 395 of 774, perplexity: 119.197 speed: 2031 wps\n",
      "Itr 472 of 774, perplexity: 118.559 speed: 2034 wps\n",
      "Itr 549 of 774, perplexity: 115.827 speed: 2032 wps\n",
      "Itr 626 of 774, perplexity: 113.961 speed: 2029 wps\n",
      "Itr 703 of 774, perplexity: 112.880 speed: 2026 wps\n",
      "Epoch 4 : Train Perplexity: 112.398\n",
      "Epoch 4 : Valid Perplexity: 138.902\n",
      "Epoch 5 : Learning rate: 1.000\n",
      "Itr 10 of 774, perplexity: 125.903 speed: 2008 wps\n",
      "Itr 87 of 774, perplexity: 107.100 speed: 2047 wps\n",
      "Itr 164 of 774, perplexity: 105.653 speed: 2044 wps\n",
      "Itr 241 of 774, perplexity: 103.256 speed: 2047 wps\n",
      "Itr 318 of 774, perplexity: 104.137 speed: 2041 wps\n",
      "Itr 395 of 774, perplexity: 102.666 speed: 2044 wps\n",
      "Itr 472 of 774, perplexity: 102.250 speed: 2044 wps\n",
      "Itr 549 of 774, perplexity: 100.023 speed: 2049 wps\n",
      "Itr 626 of 774, perplexity: 98.611 speed: 2047 wps\n",
      "Itr 703 of 774, perplexity: 97.857 speed: 2046 wps\n",
      "Epoch 5 : Train Perplexity: 97.624\n",
      "Epoch 5 : Valid Perplexity: 134.775\n",
      "Epoch 6 : Learning rate: 0.500\n",
      "Itr 10 of 774, perplexity: 107.388 speed: 2056 wps\n",
      "Itr 87 of 774, perplexity: 91.449 speed: 2058 wps\n",
      "Itr 164 of 774, perplexity: 89.575 speed: 2059 wps\n",
      "Itr 241 of 774, perplexity: 86.942 speed: 2049 wps\n",
      "Itr 318 of 774, perplexity: 87.208 speed: 2046 wps\n",
      "Itr 395 of 774, perplexity: 85.441 speed: 2044 wps\n",
      "Itr 472 of 774, perplexity: 84.715 speed: 2042 wps\n",
      "Itr 549 of 774, perplexity: 82.373 speed: 2044 wps\n",
      "Itr 626 of 774, perplexity: 80.790 speed: 2045 wps\n",
      "Itr 703 of 774, perplexity: 79.789 speed: 2040 wps\n",
      "Epoch 6 : Train Perplexity: 79.240\n",
      "Epoch 6 : Valid Perplexity: 125.807\n",
      "Epoch 7 : Learning rate: 0.250\n",
      "Itr 10 of 774, perplexity: 93.902 speed: 2046 wps\n",
      "Itr 87 of 774, perplexity: 80.834 speed: 2045 wps\n",
      "Itr 164 of 774, perplexity: 79.212 speed: 2058 wps\n",
      "Itr 241 of 774, perplexity: 76.795 speed: 2062 wps\n",
      "Itr 318 of 774, perplexity: 77.074 speed: 2049 wps\n",
      "Itr 395 of 774, perplexity: 75.405 speed: 2048 wps\n",
      "Itr 472 of 774, perplexity: 74.668 speed: 2054 wps\n",
      "Itr 549 of 774, perplexity: 72.482 speed: 2054 wps\n",
      "Itr 626 of 774, perplexity: 70.976 speed: 2056 wps\n",
      "Itr 703 of 774, perplexity: 69.947 speed: 2056 wps\n",
      "Epoch 7 : Train Perplexity: 69.331\n",
      "Epoch 7 : Valid Perplexity: 123.732\n",
      "Epoch 8 : Learning rate: 0.125\n",
      "Itr 10 of 774, perplexity: 86.497 speed: 2064 wps\n",
      "Itr 87 of 774, perplexity: 74.841 speed: 2070 wps\n",
      "Itr 164 of 774, perplexity: 73.440 speed: 2067 wps\n",
      "Itr 241 of 774, perplexity: 71.184 speed: 2061 wps\n",
      "Itr 318 of 774, perplexity: 71.466 speed: 2060 wps\n",
      "Itr 395 of 774, perplexity: 69.869 speed: 2065 wps\n",
      "Itr 472 of 774, perplexity: 69.152 speed: 2065 wps\n",
      "Itr 549 of 774, perplexity: 67.069 speed: 2064 wps\n",
      "Itr 626 of 774, perplexity: 65.633 speed: 2065 wps\n",
      "Itr 703 of 774, perplexity: 64.619 speed: 2063 wps\n",
      "Epoch 8 : Train Perplexity: 63.987\n",
      "Epoch 8 : Valid Perplexity: 122.960\n",
      "Epoch 9 : Learning rate: 0.062\n",
      "Itr 10 of 774, perplexity: 82.255 speed: 2017 wps\n",
      "Itr 87 of 774, perplexity: 71.482 speed: 2056 wps\n",
      "Itr 164 of 774, perplexity: 70.214 speed: 2050 wps\n",
      "Itr 241 of 774, perplexity: 68.078 speed: 2040 wps\n",
      "Itr 318 of 774, perplexity: 68.362 speed: 2041 wps\n",
      "Itr 395 of 774, perplexity: 66.827 speed: 2036 wps\n",
      "Itr 472 of 774, perplexity: 66.134 speed: 2038 wps\n",
      "Itr 549 of 774, perplexity: 64.116 speed: 2036 wps\n",
      "Itr 626 of 774, perplexity: 62.716 speed: 2037 wps\n",
      "Itr 703 of 774, perplexity: 61.721 speed: 2030 wps\n",
      "Epoch 9 : Train Perplexity: 61.098\n",
      "Epoch 9 : Valid Perplexity: 122.406\n",
      "Epoch 10 : Learning rate: 0.031\n",
      "Itr 10 of 774, perplexity: 80.022 speed: 2059 wps\n",
      "Itr 87 of 774, perplexity: 69.612 speed: 2047 wps\n",
      "Itr 164 of 774, perplexity: 68.417 speed: 2040 wps\n",
      "Itr 241 of 774, perplexity: 66.363 speed: 2038 wps\n",
      "Itr 318 of 774, perplexity: 66.663 speed: 2038 wps\n",
      "Itr 395 of 774, perplexity: 65.167 speed: 2040 wps\n",
      "Itr 472 of 774, perplexity: 64.489 speed: 2044 wps\n",
      "Itr 549 of 774, perplexity: 62.510 speed: 2045 wps\n",
      "Itr 626 of 774, perplexity: 61.130 speed: 2045 wps\n",
      "Itr 703 of 774, perplexity: 60.146 speed: 2044 wps\n",
      "Epoch 10 : Train Perplexity: 59.532\n",
      "Epoch 10 : Valid Perplexity: 122.055\n",
      "Epoch 11 : Learning rate: 0.016\n",
      "Itr 10 of 774, perplexity: 78.803 speed: 2045 wps\n",
      "Itr 87 of 774, perplexity: 68.583 speed: 2038 wps\n",
      "Itr 164 of 774, perplexity: 67.413 speed: 2042 wps\n",
      "Itr 241 of 774, perplexity: 65.405 speed: 2034 wps\n",
      "Itr 318 of 774, perplexity: 65.720 speed: 2040 wps\n",
      "Itr 395 of 774, perplexity: 64.251 speed: 2042 wps\n",
      "Itr 472 of 774, perplexity: 63.581 speed: 2039 wps\n",
      "Itr 549 of 774, perplexity: 61.625 speed: 2041 wps\n",
      "Itr 626 of 774, perplexity: 60.256 speed: 2037 wps\n",
      "Itr 703 of 774, perplexity: 59.279 speed: 2034 wps\n",
      "Epoch 11 : Train Perplexity: 58.670\n",
      "Epoch 11 : Valid Perplexity: 121.879\n",
      "Epoch 12 : Learning rate: 0.008\n",
      "Itr 10 of 774, perplexity: 78.144 speed: 2005 wps\n",
      "Itr 87 of 774, perplexity: 68.035 speed: 2026 wps\n",
      "Itr 164 of 774, perplexity: 66.874 speed: 2043 wps\n",
      "Itr 241 of 774, perplexity: 64.883 speed: 2035 wps\n",
      "Itr 318 of 774, perplexity: 65.199 speed: 2038 wps\n",
      "Itr 395 of 774, perplexity: 63.746 speed: 2039 wps\n",
      "Itr 472 of 774, perplexity: 63.082 speed: 2045 wps\n",
      "Itr 549 of 774, perplexity: 61.140 speed: 2048 wps\n",
      "Itr 626 of 774, perplexity: 59.776 speed: 2046 wps\n",
      "Itr 703 of 774, perplexity: 58.804 speed: 2044 wps\n",
      "Epoch 12 : Train Perplexity: 58.198\n",
      "Epoch 12 : Valid Perplexity: 121.729\n",
      "Epoch 13 : Learning rate: 0.004\n",
      "Itr 10 of 774, perplexity: 77.774 speed: 1951 wps\n",
      "Itr 87 of 774, perplexity: 67.736 speed: 2036 wps\n",
      "Itr 164 of 774, perplexity: 66.590 speed: 2046 wps\n",
      "Itr 241 of 774, perplexity: 64.612 speed: 2044 wps\n",
      "Itr 318 of 774, perplexity: 64.927 speed: 2044 wps\n",
      "Itr 395 of 774, perplexity: 63.477 speed: 2039 wps\n",
      "Itr 472 of 774, perplexity: 62.816 speed: 2039 wps\n",
      "Itr 549 of 774, perplexity: 60.881 speed: 2040 wps\n",
      "Itr 626 of 774, perplexity: 59.520 speed: 2038 wps\n",
      "Itr 703 of 774, perplexity: 58.552 speed: 2039 wps\n",
      "Epoch 13 : Train Perplexity: 57.948\n",
      "Epoch 13 : Valid Perplexity: 121.538\n",
      "Epoch 14 : Learning rate: 0.002\n",
      "Itr 10 of 774, perplexity: 77.574 speed: 1921 wps\n",
      "Itr 87 of 774, perplexity: 67.563 speed: 2010 wps\n",
      "Itr 164 of 774, perplexity: 66.425 speed: 2020 wps\n",
      "Itr 241 of 774, perplexity: 64.462 speed: 2024 wps\n",
      "Itr 318 of 774, perplexity: 64.781 speed: 2030 wps\n",
      "Itr 395 of 774, perplexity: 63.332 speed: 2031 wps\n",
      "Itr 472 of 774, perplexity: 62.674 speed: 2036 wps\n",
      "Itr 549 of 774, perplexity: 60.742 speed: 2036 wps\n",
      "Itr 626 of 774, perplexity: 59.384 speed: 2039 wps\n",
      "Itr 703 of 774, perplexity: 58.418 speed: 2039 wps\n",
      "Epoch 14 : Train Perplexity: 57.815\n",
      "Epoch 14 : Valid Perplexity: 121.367\n",
      "Epoch 15 : Learning rate: 0.001\n",
      "Itr 10 of 774, perplexity: 77.475 speed: 1960 wps\n",
      "Itr 87 of 774, perplexity: 67.463 speed: 2037 wps\n",
      "Itr 164 of 774, perplexity: 66.326 speed: 2027 wps\n"
     ]
    }
   ],
   "source": [
    "# Initializes the Execution Graph and the Session\n",
    "with tf.Graph().as_default(), tf.Session() as session:\n",
    "    initializer = tf.random_uniform_initializer(-init_scale, init_scale)\n",
    "    \n",
    "    # Instantiates the model for training\n",
    "    # tf.variable_scope add a prefix to the variables created with tf.get_variable\n",
    "    with tf.variable_scope(\"model\", reuse=None, initializer=initializer):\n",
    "        m = PTBModel(\"is_training\")\n",
    "        \n",
    "    # Reuses the trained parameters for the validation and testing models\n",
    "    # They are different instances but use the same variables for weights and biases, they just don't change when data is input\n",
    "    with tf.variable_scope(\"model\", reuse=True, initializer=initializer):\n",
    "        mvalid = PTBModel(\"is_validating\")\n",
    "        mtest = PTBModel(\"is_testing\")\n",
    "\n",
    "    #Initialize all variables\n",
    "    tf.global_variables_initializer().run()\n",
    "\n",
    "    for i in range(max_epoch):\n",
    "        # Define the decay for this epoch\n",
    "        lr_decay = decay ** max(i - max_epoch_decay_lr, 0.0)\n",
    "        \n",
    "        # Set the decayed learning rate as the learning rate for this epoch\n",
    "        m.assign_lr(session, learning_rate * lr_decay)\n",
    "\n",
    "        print(\"Epoch %d : Learning rate: %.3f\" % (i + 1, session.run(m.lr)))\n",
    "        \n",
    "        # Run the loop for this epoch in the training model\n",
    "        train_perplexity = run_one_epoch(session, m, train_data, m.train_op, verbose=True)\n",
    "        print(\"Epoch %d : Train Perplexity: %.3f\" % (i + 1, train_perplexity))\n",
    "        \n",
    "        # Run the loop for this epoch in the validation model\n",
    "        valid_perplexity = run_one_epoch(session, mvalid, valid_data, tf.no_op())\n",
    "        print(\"Epoch %d : Valid Perplexity: %.3f\" % (i + 1, valid_perplexity))\n",
    "    \n",
    "    # Run the loop in the testing model to see how effective was our training\n",
    "    test_perplexity = run_one_epoch(session, mtest, test_data, tf.no_op())\n",
    "    \n",
    "    print(\"Test Perplexity: %.3f\" % test_perplexity)"
   ]
  }
 ],
 "metadata": {
  "anaconda-cloud": {},
  "kernelspec": {
   "display_name": "Python 3",
   "language": "python",
   "name": "python3"
  },
  "language_info": {
   "codemirror_mode": {
    "name": "ipython",
    "version": 3
   },
   "file_extension": ".py",
   "mimetype": "text/x-python",
   "name": "python",
   "nbconvert_exporter": "python",
   "pygments_lexer": "ipython3",
   "version": "3.7.4"
  },
  "widgets": {
   "state": {},
   "version": "1.1.2"
  }
 },
 "nbformat": 4,
 "nbformat_minor": 4
}
