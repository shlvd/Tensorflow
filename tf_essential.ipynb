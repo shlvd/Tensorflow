{
  "nbformat": 4,
  "nbformat_minor": 0,
  "metadata": {
    "colab": {
      "name": "tf_essential.ipynb",
      "version": "0.3.2",
      "provenance": [],
      "collapsed_sections": []
    },
    "kernelspec": {
      "name": "python3",
      "display_name": "Python 3"
    }
  },
  "cells": [
    {
      "cell_type": "code",
      "metadata": {
        "id": "TkT1jOYD2U5h",
        "colab_type": "code",
        "colab": {}
      },
      "source": [
        "import matplotlib.pyplot as plt\n",
        "import tensorflow as tf\n",
        "import numpy as np\n",
        "%matplotlib inline"
      ],
      "execution_count": 0,
      "outputs": []
    },
    {
      "cell_type": "code",
      "metadata": {
        "id": "NjZqoR4a4CrS",
        "colab_type": "code",
        "outputId": "2a35d689-b048-4bad-8733-fec2eaed0541",
        "colab": {
          "base_uri": "https://localhost:8080/",
          "height": 51
        }
      },
      "source": [
        "g = tf.Graph()\n",
        "\n",
        "## define the computation graph\n",
        "with g.as_default():\n",
        "    ## define tensors t1, t2, t3:\n",
        "    t1 = tf.constant(np.pi)\n",
        "    t2 = tf.constant([1, 2, 3, 4])\n",
        "    t3 = tf.constant([[1, 2], [3, 4]])\n",
        "\n",
        "    ## get their ranks\n",
        "    r1 = tf.rank(t1)\n",
        "    r2 = tf.rank(t2)\n",
        "    r3 = tf.rank(t3)\n",
        "\n",
        "    ## get their shapes\n",
        "    s1 = t1.get_shape()\n",
        "    s2 = t2.get_shape()\n",
        "    s3 = t3.get_shape()\n",
        "    print('Shapes:', s1, s2, s3)\n",
        "\n",
        "with tf.Session(graph=g) as sess:\n",
        "    print('Ranks:', \n",
        "          r1.eval(), \n",
        "          r2.eval(), \n",
        "          r3.eval())\n"
      ],
      "execution_count": 2,
      "outputs": [
        {
          "output_type": "stream",
          "text": [
            "Shapes: () (4,) (2, 2)\n",
            "Ranks: 0 1 2\n"
          ],
          "name": "stdout"
        }
      ]
    },
    {
      "cell_type": "code",
      "metadata": {
        "id": "ARe3wg_I4OFz",
        "colab_type": "code",
        "outputId": "468e4605-d4f7-4e32-ad98-321c60b76725",
        "colab": {
          "base_uri": "https://localhost:8080/",
          "height": 51
        }
      },
      "source": [
        "t11 = tf.constant(np.pi)\n",
        "t21 = tf.constant([1, 2, 3, 4])\n",
        "t31 = tf.constant([[1, 2], [3, 4]])\n",
        "\n",
        "r11 = tf.rank(t11)\n",
        "r21 = tf.rank(t21)\n",
        "r31 = tf.rank(t31)\n",
        "\n",
        "    \n",
        "s11 = t11.get_shape()\n",
        "s21 = t21.get_shape()\n",
        "s31 = t31.get_shape()\n",
        "print('Shapes:', s11, s21, s31)\n",
        "\n",
        "with tf.Session() as sess:\n",
        "    print('Ranks:', \n",
        "          r11.eval(), \n",
        "          r21.eval(), \n",
        "          r31.eval())"
      ],
      "execution_count": 3,
      "outputs": [
        {
          "output_type": "stream",
          "text": [
            "Shapes: () (4,) (2, 2)\n",
            "Ranks: 0 1 2\n"
          ],
          "name": "stdout"
        }
      ]
    },
    {
      "cell_type": "code",
      "metadata": {
        "id": "HcMXS3Rx4nX-",
        "colab_type": "code",
        "outputId": "82441515-a618-46f5-c579-26a9dc321582",
        "colab": {
          "base_uri": "https://localhost:8080/",
          "height": 34
        }
      },
      "source": [
        "g = tf.Graph()\n",
        " \n",
        "## add nodes to the graph\n",
        "with g.as_default():\n",
        "    a = tf.constant(1, name='a')\n",
        "    b = tf.constant(2, name='b') \n",
        "    c = tf.constant(3, name='c') \n",
        "\n",
        "    z = 2*(a-b) + c\n",
        "    \n",
        "## launch the graph\n",
        "with tf.Session(graph=g) as sess:\n",
        "    print('2*(a-b)+c => ', sess.run(z))"
      ],
      "execution_count": 4,
      "outputs": [
        {
          "output_type": "stream",
          "text": [
            "2*(a-b)+c =>  1\n"
          ],
          "name": "stdout"
        }
      ]
    },
    {
      "cell_type": "code",
      "metadata": {
        "id": "nOwf3Ofi4sQm",
        "colab_type": "code",
        "colab": {}
      },
      "source": [
        "g = tf.Graph()\n",
        "with g.as_default():\n",
        "    tf_a = tf.placeholder(tf.int32, shape=[],\n",
        "                          name='tf_a')\n",
        "    tf_b = tf.placeholder(tf.int32, shape=[],\n",
        "                          name='tf_b') \n",
        "    tf_c = tf.placeholder(tf.int32, shape=[],\n",
        "                          name='tf_c') \n",
        "\n",
        "    r1 = tf_a-tf_b\n",
        "    r2 = 2*r1\n",
        "    z  = r2 + tf_c"
      ],
      "execution_count": 0,
      "outputs": []
    },
    {
      "cell_type": "code",
      "metadata": {
        "id": "Lkvt1MV94wJD",
        "colab_type": "code",
        "outputId": "07db0c10-9ff7-4012-a93b-01f940e7f3d0",
        "colab": {
          "base_uri": "https://localhost:8080/",
          "height": 34
        }
      },
      "source": [
        "## launch the previous graph\n",
        "with tf.Session(graph=g) as sess:\n",
        "    feed = {tf_a: 1,\n",
        "            tf_b: 2,\n",
        "            tf_c: 3}\n",
        "    print('z:', \n",
        "          sess.run(z, feed_dict=feed))"
      ],
      "execution_count": 6,
      "outputs": [
        {
          "output_type": "stream",
          "text": [
            "z: 1\n"
          ],
          "name": "stdout"
        }
      ]
    },
    {
      "cell_type": "code",
      "metadata": {
        "id": "V4tJCek0400V",
        "colab_type": "code",
        "outputId": "5f126b82-de17-4f85-8921-61835ad4575b",
        "colab": {
          "base_uri": "https://localhost:8080/",
          "height": 85
        }
      },
      "source": [
        "## launch the previous graph\n",
        "with tf.Session(graph=g) as sess:\n",
        "    ## execution without feeding tf_c\n",
        "    feed = {tf_a: 1,\n",
        "            tf_b: 2}\n",
        "    print('r1:', \n",
        "          sess.run(r1, feed_dict=feed))\n",
        "    print('r2:', \n",
        "          sess.run(r2, feed_dict=feed))\n",
        "    \n",
        "    ## execution with feeding tf_c\n",
        "    feed = {tf_a: 1,\n",
        "            tf_b: 2,\n",
        "            tf_c: 3}\n",
        "    print('r1:', \n",
        "          sess.run(r1, feed_dict=feed))\n",
        "    print('r2:', \n",
        "          sess.run(r2, feed_dict=feed))"
      ],
      "execution_count": 7,
      "outputs": [
        {
          "output_type": "stream",
          "text": [
            "r1: -1\n",
            "r2: -2\n",
            "r1: -1\n",
            "r2: -2\n"
          ],
          "name": "stdout"
        }
      ]
    },
    {
      "cell_type": "code",
      "metadata": {
        "id": "EQfvxtH95CvH",
        "colab_type": "code",
        "outputId": "169436dd-79d3-43e9-8c83-1e7eb705f9e0",
        "colab": {
          "base_uri": "https://localhost:8080/",
          "height": 85
        }
      },
      "source": [
        "g = tf.Graph()\n",
        "\n",
        "with g.as_default():\n",
        "    tf_x = tf.placeholder(tf.float32, \n",
        "                          shape=[None, 2],\n",
        "                          name='tf_x')\n",
        "    \n",
        "    x_mean = tf.reduce_mean(tf_x, \n",
        "                          axis=0, \n",
        "                          name='mean')\n",
        "\n",
        "\n",
        "np.random.seed(123)\n",
        "np.set_printoptions(precision=2)\n",
        "\n",
        "with tf.Session(graph=g) as sess:\n",
        "    x1 = np.random.uniform(low=0, high=1, \n",
        "                           size=(5,2))\n",
        "    print('Feeding data with shape', x1.shape)\n",
        "    print('Result:', sess.run(x_mean, \n",
        "                             feed_dict={tf_x:x1}))\n",
        "    x2 = np.random.uniform(low=0, high=1, \n",
        "                           size=(10,2))\n",
        "    print('Feeding data with shape', x2.shape)\n",
        "    print('Result:', sess.run(x_mean, \n",
        "                             feed_dict={tf_x:x2}))"
      ],
      "execution_count": 8,
      "outputs": [
        {
          "output_type": "stream",
          "text": [
            "Feeding data with shape (5, 2)\n",
            "Result: [0.62 0.47]\n",
            "Feeding data with shape (10, 2)\n",
            "Result: [0.46 0.49]\n"
          ],
          "name": "stdout"
        }
      ]
    },
    {
      "cell_type": "code",
      "metadata": {
        "id": "wuEiwNMi5ISa",
        "colab_type": "code",
        "outputId": "e2dee624-443f-46f4-9395-2811e04239b8",
        "colab": {
          "base_uri": "https://localhost:8080/",
          "height": 34
        }
      },
      "source": [
        "print(tf_x)"
      ],
      "execution_count": 9,
      "outputs": [
        {
          "output_type": "stream",
          "text": [
            "Tensor(\"tf_x:0\", shape=(?, 2), dtype=float32)\n"
          ],
          "name": "stdout"
        }
      ]
    },
    {
      "cell_type": "code",
      "metadata": {
        "id": "SM5a-gI-5LWo",
        "colab_type": "code",
        "outputId": "b12f8aad-6cbc-4075-8ecd-e9386366c7b7",
        "colab": {
          "base_uri": "https://localhost:8080/",
          "height": 34
        }
      },
      "source": [
        "g1 = tf.Graph()\n",
        "\n",
        "with g1.as_default():\n",
        "    w = tf.Variable(np.array([[1, 2, 3, 4],\n",
        "                              [5, 6, 7, 8]]), name='w')\n",
        "    print(w)"
      ],
      "execution_count": 10,
      "outputs": [
        {
          "output_type": "stream",
          "text": [
            "<tf.Variable 'w:0' shape=(2, 4) dtype=int64_ref>\n"
          ],
          "name": "stdout"
        }
      ]
    },
    {
      "cell_type": "code",
      "metadata": {
        "id": "JmrinRzC5Oo4",
        "colab_type": "code",
        "outputId": "7844cbbe-a9c4-4981-d320-16432a451d60",
        "colab": {
          "base_uri": "https://localhost:8080/",
          "height": 51
        }
      },
      "source": [
        "## initialize w and evaluate it\n",
        "with tf.Session(graph=g1) as sess:\n",
        "    sess.run(tf.global_variables_initializer())\n",
        "    print(sess.run(w))"
      ],
      "execution_count": 11,
      "outputs": [
        {
          "output_type": "stream",
          "text": [
            "[[1 2 3 4]\n",
            " [5 6 7 8]]\n"
          ],
          "name": "stdout"
        }
      ]
    },
    {
      "cell_type": "code",
      "metadata": {
        "id": "-CX5Biy_5SsR",
        "colab_type": "code",
        "outputId": "adb15806-9ea1-4454-d1e7-8873d17929e8",
        "colab": {
          "base_uri": "https://localhost:8080/",
          "height": 51
        }
      },
      "source": [
        "## add the init_op to the graph\n",
        "with g1.as_default():\n",
        "    init_op = tf.global_variables_initializer()\n",
        "    \n",
        "## initialize w with init_op and evaluate it\n",
        "with tf.Session(graph=g1) as sess:\n",
        "    sess.run(init_op)\n",
        "    print(sess.run(w))"
      ],
      "execution_count": 12,
      "outputs": [
        {
          "output_type": "stream",
          "text": [
            "[[1 2 3 4]\n",
            " [5 6 7 8]]\n"
          ],
          "name": "stdout"
        }
      ]
    },
    {
      "cell_type": "code",
      "metadata": {
        "id": "ckGi2K3I5WzS",
        "colab_type": "code",
        "colab": {}
      },
      "source": [
        "g2 = tf.Graph()\n",
        "\n",
        "with g2.as_default():\n",
        "    w1 = tf.Variable(1, name='w1')\n",
        "    init_op = tf.global_variables_initializer()\n",
        "    w2 = tf.Variable(2, name='w2')"
      ],
      "execution_count": 0,
      "outputs": []
    },
    {
      "cell_type": "code",
      "metadata": {
        "id": "8FU1DSkO5apz",
        "colab_type": "code",
        "outputId": "f5ad71f8-38f2-40a7-c135-b232e1aef40b",
        "colab": {
          "base_uri": "https://localhost:8080/",
          "height": 34
        }
      },
      "source": [
        "with tf.Session(graph=g2) as sess:\n",
        "    sess.run(init_op)\n",
        "    print('w1:', sess.run(w1))"
      ],
      "execution_count": 14,
      "outputs": [
        {
          "output_type": "stream",
          "text": [
            "w1: 1\n"
          ],
          "name": "stdout"
        }
      ]
    },
    {
      "cell_type": "code",
      "metadata": {
        "id": "AIdxpbUt5dGJ",
        "colab_type": "code",
        "outputId": "30b16dce-0f18-43de-cfde-e8fa62105022",
        "colab": {
          "base_uri": "https://localhost:8080/",
          "height": 51
        }
      },
      "source": [
        "with tf.Session(graph=g2) as sess:\n",
        "    \n",
        "    try:\n",
        "        sess.run(init_op)\n",
        "        print('w2:', sess.run(w2))\n",
        "    except tf.errors.FailedPreconditionError as e:\n",
        "        print(e)"
      ],
      "execution_count": 15,
      "outputs": [
        {
          "output_type": "stream",
          "text": [
            "Attempting to use uninitialized value w2\n",
            "\t [[{{node _retval_w2_0_0}}]]\n"
          ],
          "name": "stdout"
        }
      ]
    },
    {
      "cell_type": "code",
      "metadata": {
        "id": "Qc0Np03Z5i5h",
        "colab_type": "code",
        "outputId": "224e45d2-6823-484a-cf61-bc9f33fbde10",
        "colab": {
          "base_uri": "https://localhost:8080/",
          "height": 68
        }
      },
      "source": [
        "g = tf.Graph()\n",
        "\n",
        "with g.as_default():\n",
        "    with tf.variable_scope('net_A'):\n",
        "        with tf.variable_scope('layer-1'):\n",
        "            w1 = tf.Variable(tf.random_normal(\n",
        "                shape=(10,4)), name='weights')\n",
        "        with tf.variable_scope('layer-2'):\n",
        "            w2 = tf.Variable(tf.random_normal(\n",
        "                shape=(20,10)), name='weights')\n",
        "    with tf.variable_scope('net_B'):\n",
        "        with tf.variable_scope('layer-1'):\n",
        "            w3 = tf.Variable(tf.random_normal(\n",
        "                shape=(10,4)), name='weights')\n",
        "\n",
        "    print(w1)\n",
        "    print(w2)\n",
        "    print(w3)"
      ],
      "execution_count": 16,
      "outputs": [
        {
          "output_type": "stream",
          "text": [
            "<tf.Variable 'net_A/layer-1/weights:0' shape=(10, 4) dtype=float32_ref>\n",
            "<tf.Variable 'net_A/layer-2/weights:0' shape=(20, 10) dtype=float32_ref>\n",
            "<tf.Variable 'net_B/layer-1/weights:0' shape=(10, 4) dtype=float32_ref>\n"
          ],
          "name": "stdout"
        }
      ]
    },
    {
      "cell_type": "code",
      "metadata": {
        "id": "vz-G8XXv6LhP",
        "colab_type": "code",
        "colab": {
          "base_uri": "https://localhost:8080/",
          "height": 190
        },
        "outputId": "3b8d623b-31e5-4d42-e30c-735a32ce50ec"
      },
      "source": [
        "def build_classifier(data, labels, n_classes=2):\n",
        "    data_shape = data.get_shape().as_list()\n",
        "    weights = tf.get_variable(name='weights',\n",
        "                              shape=(data_shape[1], n_classes),\n",
        "                              dtype=tf.float32)\n",
        "    bias = tf.get_variable(name='bias', \n",
        "                           initializer=tf.zeros(shape=n_classes))\n",
        "    print(weights)\n",
        "    print(bias)\n",
        "    logits = tf.add(tf.matmul(data, weights), \n",
        "                    bias, \n",
        "                    name='logits')\n",
        "    print(logits)\n",
        "    return logits, tf.nn.softmax(logits)\n",
        "\n",
        "def build_generator(data, n_hidden):\n",
        "    data_shape = data.get_shape().as_list()\n",
        "    w1 = tf.Variable(\n",
        "        tf.random_normal(shape=(data_shape[1], \n",
        "                                n_hidden)),\n",
        "        name='w1')\n",
        "    b1 = tf.Variable(tf.zeros(shape=n_hidden),\n",
        "                     name='b1')\n",
        "    hidden = tf.add(tf.matmul(data, w1), b1, \n",
        "                    name='hidden_pre-activation')\n",
        "    hidden = tf.nn.relu(hidden, 'hidden_activation')\n",
        "        \n",
        "    w2 = tf.Variable(\n",
        "        tf.random_normal(shape=(n_hidden, \n",
        "                                data_shape[1])),\n",
        "        name='w2')\n",
        "    b2 = tf.Variable(tf.zeros(shape=data_shape[1]),\n",
        "                     name='b2')\n",
        "    output = tf.add(tf.matmul(hidden, w2), b2, \n",
        "                    name = 'output')\n",
        "    return output, tf.nn.sigmoid(output)\n",
        "    \n",
        "batch_size=64\n",
        "g = tf.Graph()\n",
        "\n",
        "with g.as_default():\n",
        "    tf_X = tf.placeholder(shape=(batch_size, 100), \n",
        "                          dtype=tf.float32,\n",
        "                          name='tf_X')\n",
        "    ## build the generator\n",
        "    with tf.variable_scope('generator'):\n",
        "        gen_out1 = build_generator(data=tf_X, \n",
        "                                   n_hidden=50)\n",
        "    \n",
        "    ## build the classifier\n",
        "    with tf.variable_scope('classifier') as scope:\n",
        "        ## classifier for the original data:\n",
        "        cls_out1 = build_classifier(data=tf_X, \n",
        "                                    labels=tf.ones(\n",
        "                                        shape=batch_size))\n",
        "        \n",
        "        ## reuse the classifier for generated data\n",
        "        scope.reuse_variables()\n",
        "        cls_out2 = build_classifier(data=gen_out1[1],\n",
        "                                    labels=tf.zeros(\n",
        "                                        shape=batch_size))\n",
        "        \n",
        "        init_op = tf.global_variables_initializer()\n"
      ],
      "execution_count": 17,
      "outputs": [
        {
          "output_type": "stream",
          "text": [
            "W0812 07:10:26.837241 139783671129984 deprecation.py:506] From /usr/local/lib/python3.6/dist-packages/tensorflow/python/ops/init_ops.py:1251: calling VarianceScaling.__init__ (from tensorflow.python.ops.init_ops) with dtype is deprecated and will be removed in a future version.\n",
            "Instructions for updating:\n",
            "Call initializer instance with the dtype argument instead of passing it to the constructor\n"
          ],
          "name": "stderr"
        },
        {
          "output_type": "stream",
          "text": [
            "<tf.Variable 'classifier/weights:0' shape=(100, 2) dtype=float32_ref>\n",
            "<tf.Variable 'classifier/bias:0' shape=(2,) dtype=float32_ref>\n",
            "Tensor(\"classifier/logits:0\", shape=(64, 2), dtype=float32)\n",
            "<tf.Variable 'classifier/weights:0' shape=(100, 2) dtype=float32_ref>\n",
            "<tf.Variable 'classifier/bias:0' shape=(2,) dtype=float32_ref>\n",
            "Tensor(\"classifier/logits_1:0\", shape=(64, 2), dtype=float32)\n"
          ],
          "name": "stdout"
        }
      ]
    },
    {
      "cell_type": "code",
      "metadata": {
        "id": "GPGxJsWyqvVR",
        "colab_type": "code",
        "colab": {
          "base_uri": "https://localhost:8080/",
          "height": 119
        },
        "outputId": "b2f830aa-0e00-4431-a73c-18f5afd296e2"
      },
      "source": [
        "g = tf.Graph()\n",
        "\n",
        "with g.as_default():\n",
        "    tf_X = tf.placeholder(shape=(batch_size, 100), \n",
        "                          dtype=tf.float32,\n",
        "                          name='tf_X')\n",
        "    ## build the generator\n",
        "    with tf.variable_scope('generator'):\n",
        "        gen_out1 = build_generator(data=tf_X, \n",
        "                                   n_hidden=50)\n",
        "    \n",
        "    ## build the classifier\n",
        "    with tf.variable_scope('classifier'):\n",
        "        ## classifier for the original data:\n",
        "        cls_out1 = build_classifier(data=tf_X, \n",
        "                                    labels=tf.ones(\n",
        "                                        shape=batch_size))\n",
        "        \n",
        "    with tf.variable_scope('classifier', reuse=True):\n",
        "        ## reuse the classifier for generated data\n",
        "        cls_out2 = build_classifier(data=gen_out1[1],\n",
        "                                    labels=tf.zeros(\n",
        "                                        shape=batch_size))\n",
        "        \n",
        "        init_op = tf.global_variables_initializer()"
      ],
      "execution_count": 18,
      "outputs": [
        {
          "output_type": "stream",
          "text": [
            "<tf.Variable 'classifier/weights:0' shape=(100, 2) dtype=float32_ref>\n",
            "<tf.Variable 'classifier/bias:0' shape=(2,) dtype=float32_ref>\n",
            "Tensor(\"classifier/logits:0\", shape=(64, 2), dtype=float32)\n",
            "<tf.Variable 'classifier/weights:0' shape=(100, 2) dtype=float32_ref>\n",
            "<tf.Variable 'classifier/bias:0' shape=(2,) dtype=float32_ref>\n",
            "Tensor(\"classifier_1/logits:0\", shape=(64, 2), dtype=float32)\n"
          ],
          "name": "stdout"
        }
      ]
    },
    {
      "cell_type": "code",
      "metadata": {
        "id": "b_JM2k3Wq6nX",
        "colab_type": "code",
        "colab": {
          "base_uri": "https://localhost:8080/",
          "height": 51
        },
        "outputId": "5dcddd5d-f918-44a6-a9fc-39790b6b21c9"
      },
      "source": [
        "## define a graph\n",
        "g = tf.Graph()\n",
        "\n",
        "## define the computation graph\n",
        "with g.as_default():\n",
        "    ## placeholders\n",
        "    tf.set_random_seed(123)\n",
        "    tf_x = tf.placeholder(shape=(None), \n",
        "                          dtype=tf.float32, \n",
        "                          name='tf_x')\n",
        "    tf_y = tf.placeholder(shape=(None), \n",
        "                          dtype=tf.float32,\n",
        "                          name='tf_y')\n",
        "    \n",
        "    ## define the variable (model parameters)\n",
        "    weight = tf.Variable(\n",
        "        tf.random_normal(\n",
        "            shape=(1, 1), \n",
        "            stddev=0.25),\n",
        "        name='weight')\n",
        "    bias = tf.Variable(0.0, name='bias')\n",
        "    \n",
        "    ## build the model\n",
        "    y_hat = tf.add(weight * tf_x, bias, \n",
        "                   name='y_hat')\n",
        "    print(y_hat)\n",
        "    \n",
        "    ## compute the cost\n",
        "    cost = tf.reduce_mean(tf.square(tf_y - y_hat), \n",
        "                          name='cost')\n",
        "    print(cost)\n",
        "    \n",
        "    ## train\n",
        "    optim = tf.train.GradientDescentOptimizer(\n",
        "        learning_rate=0.001)\n",
        "    train_op = optim.minimize(cost, name='train_op')"
      ],
      "execution_count": 19,
      "outputs": [
        {
          "output_type": "stream",
          "text": [
            "Tensor(\"y_hat:0\", dtype=float32)\n",
            "Tensor(\"cost:0\", shape=(), dtype=float32)\n"
          ],
          "name": "stdout"
        }
      ]
    },
    {
      "cell_type": "code",
      "metadata": {
        "id": "VhuuTrMKuvJF",
        "colab_type": "code",
        "colab": {
          "base_uri": "https://localhost:8080/",
          "height": 269
        },
        "outputId": "412a63fd-450a-4162-bca8-a8d9b51d7f1e"
      },
      "source": [
        "np.random.seed(0)\n",
        "def make_random_data():\n",
        "    x = np.random.uniform(low=-2, high=4, size=200)\n",
        "    y = []\n",
        "    for t in x:\n",
        "        r = np.random.normal(loc=0.0, \n",
        "                             scale=(0.5 + t*t/3), \n",
        "                             size=None)\n",
        "        y.append(r)\n",
        "    return  x, 1.726*x -0.84 + np.array(y)\n",
        "x, y = make_random_data() \n",
        "plt.plot(x, y, 'o')\n",
        "plt.show()"
      ],
      "execution_count": 20,
      "outputs": [
        {
          "output_type": "display_data",
          "data": {
            "image/png": "[encoded data removed]",
            "text/plain": [
              "<Figure size 432x288 with 1 Axes>"
            ]
          },
          "metadata": {
            "tags": []
          }
        }
      ]
    },
    {
      "cell_type": "code",
      "metadata": {
        "id": "lffSh2S5v8ow",
        "colab_type": "code",
        "colab": {
          "base_uri": "https://localhost:8080/",
          "height": 456
        },
        "outputId": "5301532a-6a22-492a-9155-63a5719cf076"
      },
      "source": [
        "## train/test splits:\n",
        "x_train, y_train = x[:100], y[:100]\n",
        "x_test, y_test = x[100:], y[100:]\n",
        "\n",
        "\n",
        "## training the model\n",
        "n_epochs = 500\n",
        "training_costs = []\n",
        "with tf.Session(graph=g) as sess:\n",
        "    ## first, run the variables initializer\n",
        "    sess.run(tf.global_variables_initializer())\n",
        "    \n",
        "    ## train the model for n_epochs\n",
        "    for e in range(n_epochs):\n",
        "        c, _ = sess.run([cost, train_op], \n",
        "                        feed_dict={tf_x: x_train,\n",
        "                                   tf_y: y_train})\n",
        "        training_costs.append(c)\n",
        "        if not e % 50:\n",
        "            print('Epoch %4d: %.4f' % (e, c))\n",
        "            \n",
        "\n",
        "plt.plot(training_costs)"
      ],
      "execution_count": 21,
      "outputs": [
        {
          "output_type": "stream",
          "text": [
            "Epoch    0: 12.2230\n",
            "Epoch   50: 8.3876\n",
            "Epoch  100: 6.5721\n",
            "Epoch  150: 5.6844\n",
            "Epoch  200: 5.2269\n",
            "Epoch  250: 4.9725\n",
            "Epoch  300: 4.8169\n",
            "Epoch  350: 4.7119\n",
            "Epoch  400: 4.6347\n",
            "Epoch  450: 4.5742\n"
          ],
          "name": "stdout"
        },
        {
          "output_type": "execute_result",
          "data": {
            "text/plain": [
              "[<matplotlib.lines.Line2D at 0x7f21ab641be0>]"
            ]
          },
          "metadata": {
            "tags": []
          },
          "execution_count": 21
        },
        {
          "output_type": "display_data",
          "data": {
            "image/png": "[encoded data removed]",
            "text/plain": [
              "<Figure size 432x288 with 1 Axes>"
            ]
          },
          "metadata": {
            "tags": []
          }
        }
      ]
    },
    {
      "cell_type": "code",
      "metadata": {
        "id": "7R3SCvo9wdGE",
        "colab_type": "code",
        "colab": {
          "base_uri": "https://localhost:8080/",
          "height": 439
        },
        "outputId": "519e06c8-f011-420c-833b-30c984f9223b"
      },
      "source": [
        "x_train, y_train = x[:100], y[:100]\n",
        "x_test, y_test = x[100:], y[100:]\n",
        "\n",
        "## plot trainng data\n",
        "plt.plot(x_train, y_train, 'o')\n",
        "plt.show()\n",
        "\n",
        "## training the model\n",
        "n_epochs = 500\n",
        "training_costs = []\n",
        "with tf.Session(graph=g) as sess:\n",
        "    ## first, run the variables initializer\n",
        "    sess.run(tf.global_variables_initializer())\n",
        "    \n",
        "    ## train the model for n_eopchs\n",
        "    for e in range(n_epochs):\n",
        "        c, _ = sess.run(['cost:0', 'train_op'], \n",
        "                        feed_dict={'tf_x:0': x_train,\n",
        "                                   'tf_y:0': y_train})\n",
        "        training_costs.append(c)\n",
        "        if not e % 50:\n",
        "            print('Epoch %4d: %.4f' % (e, c))"
      ],
      "execution_count": 23,
      "outputs": [
        {
          "output_type": "display_data",
          "data": {
            "image/png": "[encoded data removed]",
            "text/plain": [
              "<Figure size 432x288 with 1 Axes>"
            ]
          },
          "metadata": {
            "tags": []
          }
        },
        {
          "output_type": "stream",
          "text": [
            "Epoch    0: 12.2230\n",
            "Epoch   50: 8.3876\n",
            "Epoch  100: 6.5721\n",
            "Epoch  150: 5.6844\n",
            "Epoch  200: 5.2269\n",
            "Epoch  250: 4.9725\n",
            "Epoch  300: 4.8169\n",
            "Epoch  350: 4.7119\n",
            "Epoch  400: 4.6347\n",
            "Epoch  450: 4.5742\n"
          ],
          "name": "stdout"
        }
      ]
    },
    {
      "cell_type": "code",
      "metadata": {
        "id": "bmAHMQ-p0NYP",
        "colab_type": "code",
        "colab": {
          "base_uri": "https://localhost:8080/",
          "height": 187
        },
        "outputId": "87e96fbe-7970-48d1-eaa8-0be54c18fb51"
      },
      "source": [
        "## add saver to the graph\n",
        "with g.as_default():\n",
        "    saver = tf.train.Saver()\n",
        "    \n",
        "## training the model\n",
        "n_epochs = 500\n",
        "training_costs = []\n",
        "\n",
        "with tf.Session(graph=g) as sess:\n",
        "    ## first, run the variables initializer\n",
        "    sess.run(tf.global_variables_initializer())\n",
        "    \n",
        "    ## train the model for n_epochs\n",
        "    for e in range(n_epochs):\n",
        "        c, _ = sess.run(['cost:0', 'train_op'], \n",
        "                        feed_dict={'tf_x:0':x_train,\n",
        "                                   'tf_y:0':y_train})\n",
        "        training_costs.append(c)\n",
        "        if not e % 50:\n",
        "            print('Epoch %4d: %.4f' % (e, c))\n",
        "            \n",
        "    saver.save(sess, './trained-model')"
      ],
      "execution_count": 24,
      "outputs": [
        {
          "output_type": "stream",
          "text": [
            "Epoch    0: 12.2230\n",
            "Epoch   50: 8.3876\n",
            "Epoch  100: 6.5721\n",
            "Epoch  150: 5.6844\n",
            "Epoch  200: 5.2269\n",
            "Epoch  250: 4.9725\n",
            "Epoch  300: 4.8169\n",
            "Epoch  350: 4.7119\n",
            "Epoch  400: 4.6347\n",
            "Epoch  450: 4.5742\n"
          ],
          "name": "stdout"
        }
      ]
    },
    {
      "cell_type": "code",
      "metadata": {
        "id": "AW_8jXV13kus",
        "colab_type": "code",
        "colab": {
          "base_uri": "https://localhost:8080/",
          "height": 88
        },
        "outputId": "16446ae5-7cd2-4d89-e5cf-698ce62d4c9d"
      },
      "source": [
        "g2 = tf.Graph()\n",
        "with tf.Session(graph=g2) as sess:\n",
        "    new_saver = tf.train.import_meta_graph(\n",
        "        './trained-model.meta')\n",
        "    new_saver.restore(sess, './trained-model')\n",
        "    \n",
        "    y_pred = sess.run('y_hat:0', \n",
        "                      feed_dict={'tf_x:0' : x_test})"
      ],
      "execution_count": 25,
      "outputs": [
        {
          "output_type": "stream",
          "text": [
            "W0812 08:09:56.517549 139783671129984 deprecation.py:323] From /usr/local/lib/python3.6/dist-packages/tensorflow/python/training/saver.py:1276: checkpoint_exists (from tensorflow.python.training.checkpoint_management) is deprecated and will be removed in a future version.\n",
            "Instructions for updating:\n",
            "Use standard file APIs to check for files with this prefix.\n"
          ],
          "name": "stderr"
        }
      ]
    },
    {
      "cell_type": "code",
      "metadata": {
        "id": "sdIahE_M4JhQ",
        "colab_type": "code",
        "colab": {
          "base_uri": "https://localhost:8080/",
          "height": 34
        },
        "outputId": "3f8d4c85-fba2-4f2e-af54-465362709fc8"
      },
      "source": [
        "print('SSE: %.4f' % (np.sum(np.square(y_pred - y_test))))"
      ],
      "execution_count": 26,
      "outputs": [
        {
          "output_type": "stream",
          "text": [
            "SSE: 538.8118\n"
          ],
          "name": "stdout"
        }
      ]
    },
    {
      "cell_type": "code",
      "metadata": {
        "id": "g_DOdNX-4OAC",
        "colab_type": "code",
        "colab": {
          "base_uri": "https://localhost:8080/",
          "height": 269
        },
        "outputId": "daaba989-53f3-4afc-f62b-3ec9e84bdd8d"
      },
      "source": [
        "x_arr = np.arange(-2, 4, 0.1)\n",
        "\n",
        "g2 = tf.Graph()\n",
        "with tf.Session(graph=g2) as sess:\n",
        "    new_saver = tf.train.import_meta_graph(\n",
        "        './trained-model.meta')\n",
        "    new_saver.restore(sess, './trained-model')\n",
        "    \n",
        "    y_arr = sess.run('y_hat:0', \n",
        "                      feed_dict={'tf_x:0' : x_arr})\n",
        "\n",
        "plt.figure()\n",
        "plt.plot(x_train, y_train, 'bo')\n",
        "plt.plot(x_test, y_test, 'bo', alpha=0.3)\n",
        "plt.plot(x_arr, y_arr.T[:, 0], '-r', lw=3)\n",
        "plt.show()"
      ],
      "execution_count": 27,
      "outputs": [
        {
          "output_type": "display_data",
          "data": {
            "image/png": "[encoded data removed]",
            "text/plain": [
              "<Figure size 432x288 with 1 Axes>"
            ]
          },
          "metadata": {
            "tags": []
          }
        }
      ]
    },
    {
      "cell_type": "code",
      "metadata": {
        "id": "f9KjEqNU4N-O",
        "colab_type": "code",
        "colab": {
          "base_uri": "https://localhost:8080/",
          "height": 85
        },
        "outputId": "923ec0c6-29f5-4ad7-985e-aba94171eafe"
      },
      "source": [
        "g = tf.Graph()\n",
        "with g.as_default():\n",
        "    arr = np.array([[1., 2., 3., 3.5],\n",
        "                    [4., 5., 6., 6.5],\n",
        "                    [7., 8., 9., 9.5]])\n",
        "    T1 = tf.constant(arr, name='T1')\n",
        "    print(T1)\n",
        "    s = T1.get_shape()\n",
        "    print('Shape of T1 is', s)\n",
        "    T2 = tf.Variable(tf.random_normal(\n",
        "        shape=s))\n",
        "    print(T2)\n",
        "    T3 = tf.Variable(tf.random_normal(\n",
        "        shape=(s.as_list()[0],)))\n",
        "    print(T3)"
      ],
      "execution_count": 28,
      "outputs": [
        {
          "output_type": "stream",
          "text": [
            "Tensor(\"T1:0\", shape=(3, 4), dtype=float64)\n",
            "Shape of T1 is (3, 4)\n",
            "<tf.Variable 'Variable:0' shape=(3, 4) dtype=float32_ref>\n",
            "<tf.Variable 'Variable_1:0' shape=(3,) dtype=float32_ref>\n"
          ],
          "name": "stdout"
        }
      ]
    },
    {
      "cell_type": "code",
      "metadata": {
        "id": "Jp7ZEWPS7MpS",
        "colab_type": "code",
        "colab": {
          "base_uri": "https://localhost:8080/",
          "height": 51
        },
        "outputId": "591e8f01-91ee-476a-df4c-fdf7807a731b"
      },
      "source": [
        "with g.as_default():\n",
        "    T4 = tf.reshape(T1, shape=[1, 1, -1], \n",
        "                    name='T4')\n",
        "    print(T4)\n",
        "    T5 = tf.reshape(T1, shape=[1, 3, -1], \n",
        "                    name='T5')\n",
        "    print(T5)"
      ],
      "execution_count": 29,
      "outputs": [
        {
          "output_type": "stream",
          "text": [
            "Tensor(\"T4:0\", shape=(1, 1, 12), dtype=float64)\n",
            "Tensor(\"T5:0\", shape=(1, 3, 4), dtype=float64)\n"
          ],
          "name": "stdout"
        }
      ]
    },
    {
      "cell_type": "code",
      "metadata": {
        "id": "IXThPM9K7PnL",
        "colab_type": "code",
        "colab": {
          "base_uri": "https://localhost:8080/",
          "height": 102
        },
        "outputId": "db590b99-2d5c-4307-8653-06e934576f06"
      },
      "source": [
        "with tf.Session(graph = g) as sess:\n",
        "    print(sess.run(T4)) \n",
        "    print()   \n",
        "    print(sess.run(T5))"
      ],
      "execution_count": 30,
      "outputs": [
        {
          "output_type": "stream",
          "text": [
            "[[[1.  2.  3.  3.5 4.  5.  6.  6.5 7.  8.  9.  9.5]]]\n",
            "\n",
            "[[[1.  2.  3.  3.5]\n",
            "  [4.  5.  6.  6.5]\n",
            "  [7.  8.  9.  9.5]]]\n"
          ],
          "name": "stdout"
        }
      ]
    },
    {
      "cell_type": "code",
      "metadata": {
        "id": "bYxfH-O67TrC",
        "colab_type": "code",
        "colab": {
          "base_uri": "https://localhost:8080/",
          "height": 51
        },
        "outputId": "e8901c9b-95da-4dcd-a785-1cff6af0d520"
      },
      "source": [
        "with g.as_default():\n",
        "    T6 = tf.transpose(T5, perm=[2, 1, 0], \n",
        "                     name='T6')\n",
        "    print(T6)\n",
        "    T7 = tf.transpose(T5, perm=[0, 2, 1], \n",
        "                     name='T7')\n",
        "    print(T7)"
      ],
      "execution_count": 31,
      "outputs": [
        {
          "output_type": "stream",
          "text": [
            "Tensor(\"T6:0\", shape=(4, 3, 1), dtype=float64)\n",
            "Tensor(\"T7:0\", shape=(1, 4, 3), dtype=float64)\n"
          ],
          "name": "stdout"
        }
      ]
    },
    {
      "cell_type": "code",
      "metadata": {
        "id": "GbtihrIp7W7T",
        "colab_type": "code",
        "colab": {
          "base_uri": "https://localhost:8080/",
          "height": 34
        },
        "outputId": "8eeed36a-c844-44c1-b1c2-9503355a3c9c"
      },
      "source": [
        "with g.as_default():\n",
        "    t5_splt = tf.split(T5, \n",
        "                       num_or_size_splits=2, \n",
        "                       axis=2, name='T8')\n",
        "    print(t5_splt)"
      ],
      "execution_count": 32,
      "outputs": [
        {
          "output_type": "stream",
          "text": [
            "[<tf.Tensor 'T8:0' shape=(1, 3, 2) dtype=float64>, <tf.Tensor 'T8:1' shape=(1, 3, 2) dtype=float64>]\n"
          ],
          "name": "stdout"
        }
      ]
    },
    {
      "cell_type": "code",
      "metadata": {
        "id": "ejXiiRFx7aUz",
        "colab_type": "code",
        "colab": {
          "base_uri": "https://localhost:8080/",
          "height": 85
        },
        "outputId": "a98dc9ae-5654-4bbf-9c68-eaf571969315"
      },
      "source": [
        "g = tf.Graph()\n",
        "with g.as_default():\n",
        "    t1 = tf.ones(shape=(5, 1), \n",
        "                 dtype=tf.float32, name='t1')\n",
        "    t2 = tf.zeros(shape=(5, 1),\n",
        "                 dtype=tf.float32, name='t2')\n",
        "    print(t1)\n",
        "    print(t2)\n",
        "    \n",
        "with g.as_default():\n",
        "    t3 = tf.concat([t1, t2], axis=0, name='t3')\n",
        "    print(t3)\n",
        "    t4 = tf.concat([t1, t2], axis=1, name='t4')\n",
        "    print(t4)"
      ],
      "execution_count": 33,
      "outputs": [
        {
          "output_type": "stream",
          "text": [
            "Tensor(\"t1:0\", shape=(5, 1), dtype=float32)\n",
            "Tensor(\"t2:0\", shape=(5, 1), dtype=float32)\n",
            "Tensor(\"t3:0\", shape=(10, 1), dtype=float32)\n",
            "Tensor(\"t4:0\", shape=(5, 2), dtype=float32)\n"
          ],
          "name": "stdout"
        }
      ]
    },
    {
      "cell_type": "code",
      "metadata": {
        "id": "IBaPkBKq7dsk",
        "colab_type": "code",
        "colab": {
          "base_uri": "https://localhost:8080/",
          "height": 289
        },
        "outputId": "421012f9-4a2d-4369-85a0-11c52413c4e4"
      },
      "source": [
        "with tf.Session(graph = g) as sess:\n",
        "    print(t3.eval())\n",
        "    print()\n",
        "    print(t4.eval())"
      ],
      "execution_count": 34,
      "outputs": [
        {
          "output_type": "stream",
          "text": [
            "[[1.]\n",
            " [1.]\n",
            " [1.]\n",
            " [1.]\n",
            " [1.]\n",
            " [0.]\n",
            " [0.]\n",
            " [0.]\n",
            " [0.]\n",
            " [0.]]\n",
            "\n",
            "[[1. 0.]\n",
            " [1. 0.]\n",
            " [1. 0.]\n",
            " [1. 0.]\n",
            " [1. 0.]]\n"
          ],
          "name": "stdout"
        }
      ]
    },
    {
      "cell_type": "code",
      "metadata": {
        "id": "A-jAvFqu7hqQ",
        "colab_type": "code",
        "colab": {
          "base_uri": "https://localhost:8080/",
          "height": 68
        },
        "outputId": "8f092b83-0c74-4d34-a2b9-1e32037b0d6a"
      },
      "source": [
        "x, y = 1.0, 2.0\n",
        "\n",
        "g = tf.Graph()\n",
        "with g.as_default():\n",
        "    tf_x = tf.placeholder(dtype=tf.float32, \n",
        "                           shape=None, name='tf_x')\n",
        "    tf_y = tf.placeholder(dtype=tf.float32, \n",
        "                           shape=None, name='tf_y')\n",
        "    if x < y:\n",
        "        res = tf.add(tf_x, tf_y, name='result_add')\n",
        "    else:\n",
        "        res = tf.subtract(tf_x, tf_y, name='result_sub')\n",
        "        \n",
        "    print('Object: ', res)\n",
        "        \n",
        "with tf.Session(graph=g) as sess:\n",
        "    print('x < y: %s -> Result:' % (x < y), \n",
        "          res.eval(feed_dict={'tf_x:0': x, \n",
        "                              'tf_y:0': y}))\n",
        "    x, y = 2.0, 1.0\n",
        "    print('x < y: %s -> Result:' % (x < y), \n",
        "          res.eval(feed_dict={'tf_x:0': x,\n",
        "                              'tf_y:0': y}))  \n",
        "    \n",
        "    ## uncomment the next line if you want to visualize the graph in TensorBoard:\n",
        "    file_writer = tf.summary.FileWriter(logdir='./logs/py-cflow/', graph=g)"
      ],
      "execution_count": 35,
      "outputs": [
        {
          "output_type": "stream",
          "text": [
            "Object:  Tensor(\"result_add:0\", dtype=float32)\n",
            "x < y: True -> Result: 3.0\n",
            "x < y: False -> Result: 3.0\n"
          ],
          "name": "stdout"
        }
      ]
    },
    {
      "cell_type": "code",
      "metadata": {
        "id": "jSImJ-Wc8WqV",
        "colab_type": "code",
        "colab": {
          "base_uri": "https://localhost:8080/",
          "height": 68
        },
        "outputId": "13648da6-7b68-48aa-826c-bb95609298ac"
      },
      "source": [
        "x, y = 1.0, 2.0\n",
        "\n",
        "g = tf.Graph()\n",
        "with g.as_default():\n",
        "    tf_x = tf.placeholder(dtype=tf.float32, \n",
        "                           shape=None, name='tf_x')\n",
        "    tf_y = tf.placeholder(dtype=tf.float32, \n",
        "                           shape=None, name='tf_y')\n",
        "    res = tf.cond(tf_x < tf_y, \n",
        "                  lambda: tf.add(tf_x, tf_y, \n",
        "                                 name='result_add'),\n",
        "                  lambda: tf.subtract(tf_x, tf_y, \n",
        "                                 name='result_sub'))\n",
        "    print('Object:', res)\n",
        "        \n",
        "with tf.Session(graph=g) as sess:\n",
        "    print('x < y: %s -> Result:' % (x < y), \n",
        "          res.eval(feed_dict={'tf_x:0': x, \n",
        "                              'tf_y:0': y}))\n",
        "    x, y = 2.0, 1.0\n",
        "    print('x < y: %s -> Result:' % (x < y), \n",
        "          res.eval(feed_dict={'tf_x:0': x,\n",
        "                              'tf_y:0': y}))  "
      ],
      "execution_count": 36,
      "outputs": [
        {
          "output_type": "stream",
          "text": [
            "Object: Tensor(\"cond/Merge:0\", dtype=float32)\n",
            "x < y: True -> Result: 3.0\n",
            "x < y: False -> Result: 1.0\n"
          ],
          "name": "stdout"
        }
      ]
    },
    {
      "cell_type": "code",
      "metadata": {
        "id": "u_jBj9bv8rmG",
        "colab_type": "code",
        "colab": {
          "base_uri": "https://localhost:8080/",
          "height": 119
        },
        "outputId": "02597fad-8530-4c6a-cf03-7730015363aa"
      },
      "source": [
        "batch_size=64\n",
        "g = tf.Graph()\n",
        "\n",
        "with g.as_default():\n",
        "    tf_X = tf.placeholder(shape=(batch_size, 100), \n",
        "                          dtype=tf.float32,\n",
        "                          name='tf_X')\n",
        "    \n",
        "    ## build the generator\n",
        "    with tf.variable_scope('generator'):\n",
        "        gen_out1 = build_generator(data=tf_X, \n",
        "                                   n_hidden=50)\n",
        "    \n",
        "    ## build the classifier\n",
        "    with tf.variable_scope('classifier') as scope:\n",
        "        ## classifier for the original data:\n",
        "        cls_out1 = build_classifier(data=tf_X, \n",
        "                                    labels=tf.ones(\n",
        "                                        shape=batch_size))\n",
        "        \n",
        "        ## reuse the classifier for generated data\n",
        "        scope.reuse_variables()\n",
        "        cls_out2 = build_classifier(data=gen_out1[1],\n",
        "                                    labels=tf.zeros(\n",
        "                                        shape=batch_size))\n",
        "\n",
        "        \n",
        "with tf.Session(graph = g) as sess:\n",
        "    sess.run(tf.global_variables_initializer())\n",
        "    \n",
        "    file_writer = tf.summary.FileWriter(logdir='logs/', graph=g)"
      ],
      "execution_count": 37,
      "outputs": [
        {
          "output_type": "stream",
          "text": [
            "<tf.Variable 'classifier/weights:0' shape=(100, 2) dtype=float32_ref>\n",
            "<tf.Variable 'classifier/bias:0' shape=(2,) dtype=float32_ref>\n",
            "Tensor(\"classifier/logits:0\", shape=(64, 2), dtype=float32)\n",
            "<tf.Variable 'classifier/weights:0' shape=(100, 2) dtype=float32_ref>\n",
            "<tf.Variable 'classifier/bias:0' shape=(2,) dtype=float32_ref>\n",
            "Tensor(\"classifier/logits_1:0\", shape=(64, 2), dtype=float32)\n"
          ],
          "name": "stdout"
        }
      ]
    },
    {
      "cell_type": "code",
      "metadata": {
        "id": "v5SLyhXw-_Ar",
        "colab_type": "code",
        "colab": {}
      },
      "source": [
        ""
      ],
      "execution_count": 0,
      "outputs": []
    }
  ]
}