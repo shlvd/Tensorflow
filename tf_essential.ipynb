{
  "nbformat": 4,
  "nbformat_minor": 0,
  "metadata": {
    "colab": {
      "name": "tf_essential.ipynb",
      "version": "0.3.2",
      "provenance": [],
      "collapsed_sections": []
    },
    "kernelspec": {
      "name": "python3",
      "display_name": "Python 3"
    }
  },
  "cells": [
    {
      "cell_type": "code",
      "metadata": {
        "id": "TkT1jOYD2U5h",
        "colab_type": "code",
        "colab": {}
      },
      "source": [
        "import matplotlib.pyplot as plt\n",
        "import tensorflow as tf\n",
        "import numpy as np\n",
        "%matplotlib inline"
      ],
      "execution_count": 0,
      "outputs": []
    },
    {
      "cell_type": "code",
      "metadata": {
        "id": "NjZqoR4a4CrS",
        "colab_type": "code",
        "colab": {
          "base_uri": "https://localhost:8080/",
          "height": 51
        },
        "outputId": "8c46d80c-487a-4e6e-9f73-716633a3a655"
      },
      "source": [
        "g = tf.Graph()\n",
        "\n",
        "## define the computation graph\n",
        "with g.as_default():\n",
        "    ## define tensors t1, t2, t3:\n",
        "    t1 = tf.constant(np.pi)\n",
        "    t2 = tf.constant([1, 2, 3, 4])\n",
        "    t3 = tf.constant([[1, 2], [3, 4]])\n",
        "\n",
        "    ## get their ranks\n",
        "    r1 = tf.rank(t1)\n",
        "    r2 = tf.rank(t2)\n",
        "    r3 = tf.rank(t3)\n",
        "\n",
        "    ## get their shapes\n",
        "    s1 = t1.get_shape()\n",
        "    s2 = t2.get_shape()\n",
        "    s3 = t3.get_shape()\n",
        "    print('Shapes:', s1, s2, s3)\n",
        "\n",
        "with tf.Session(graph=g) as sess:\n",
        "    print('Ranks:', \n",
        "          r1.eval(), \n",
        "          r2.eval(), \n",
        "          r3.eval())\n"
      ],
      "execution_count": 2,
      "outputs": [
        {
          "output_type": "stream",
          "text": [
            "Shapes: () (4,) (2, 2)\n",
            "Ranks: 0 1 2\n"
          ],
          "name": "stdout"
        }
      ]
    },
    {
      "cell_type": "code",
      "metadata": {
        "id": "ARe3wg_I4OFz",
        "colab_type": "code",
        "colab": {
          "base_uri": "https://localhost:8080/",
          "height": 51
        },
        "outputId": "5c064228-0c1d-4e61-bd62-ab079bb38b0c"
      },
      "source": [
        "t11 = tf.constant(np.pi)\n",
        "t21 = tf.constant([1, 2, 3, 4])\n",
        "t31 = tf.constant([[1, 2], [3, 4]])\n",
        "\n",
        "r11 = tf.rank(t11)\n",
        "r21 = tf.rank(t21)\n",
        "r31 = tf.rank(t31)\n",
        "\n",
        "    \n",
        "s11 = t11.get_shape()\n",
        "s21 = t21.get_shape()\n",
        "s31 = t31.get_shape()\n",
        "print('Shapes:', s11, s21, s31)\n",
        "\n",
        "with tf.Session() as sess:\n",
        "    print('Ranks:', \n",
        "          r11.eval(), \n",
        "          r21.eval(), \n",
        "          r31.eval())"
      ],
      "execution_count": 3,
      "outputs": [
        {
          "output_type": "stream",
          "text": [
            "Shapes: () (4,) (2, 2)\n",
            "Ranks: 0 1 2\n"
          ],
          "name": "stdout"
        }
      ]
    },
    {
      "cell_type": "code",
      "metadata": {
        "id": "HcMXS3Rx4nX-",
        "colab_type": "code",
        "colab": {
          "base_uri": "https://localhost:8080/",
          "height": 34
        },
        "outputId": "640d3e01-edd9-48a8-85d8-54f95fcd4918"
      },
      "source": [
        "g = tf.Graph()\n",
        " \n",
        "## add nodes to the graph\n",
        "with g.as_default():\n",
        "    a = tf.constant(1, name='a')\n",
        "    b = tf.constant(2, name='b') \n",
        "    c = tf.constant(3, name='c') \n",
        "\n",
        "    z = 2*(a-b) + c\n",
        "    \n",
        "## launch the graph\n",
        "with tf.Session(graph=g) as sess:\n",
        "    print('2*(a-b)+c => ', sess.run(z))"
      ],
      "execution_count": 4,
      "outputs": [
        {
          "output_type": "stream",
          "text": [
            "2*(a-b)+c =>  1\n"
          ],
          "name": "stdout"
        }
      ]
    },
    {
      "cell_type": "code",
      "metadata": {
        "id": "nOwf3Ofi4sQm",
        "colab_type": "code",
        "colab": {}
      },
      "source": [
        "g = tf.Graph()\n",
        "with g.as_default():\n",
        "    tf_a = tf.placeholder(tf.int32, shape=[],\n",
        "                          name='tf_a')\n",
        "    tf_b = tf.placeholder(tf.int32, shape=[],\n",
        "                          name='tf_b') \n",
        "    tf_c = tf.placeholder(tf.int32, shape=[],\n",
        "                          name='tf_c') \n",
        "\n",
        "    r1 = tf_a-tf_b\n",
        "    r2 = 2*r1\n",
        "    z  = r2 + tf_c"
      ],
      "execution_count": 0,
      "outputs": []
    },
    {
      "cell_type": "code",
      "metadata": {
        "id": "Lkvt1MV94wJD",
        "colab_type": "code",
        "colab": {
          "base_uri": "https://localhost:8080/",
          "height": 34
        },
        "outputId": "4d1b7874-86c6-4a73-9129-fa28c605a212"
      },
      "source": [
        "## launch the previous graph\n",
        "with tf.Session(graph=g) as sess:\n",
        "    feed = {tf_a: 1,\n",
        "            tf_b: 2,\n",
        "            tf_c: 3}\n",
        "    print('z:', \n",
        "          sess.run(z, feed_dict=feed))"
      ],
      "execution_count": 6,
      "outputs": [
        {
          "output_type": "stream",
          "text": [
            "z: 1\n"
          ],
          "name": "stdout"
        }
      ]
    },
    {
      "cell_type": "code",
      "metadata": {
        "id": "V4tJCek0400V",
        "colab_type": "code",
        "colab": {
          "base_uri": "https://localhost:8080/",
          "height": 85
        },
        "outputId": "57cc1847-040a-4173-d3bb-8e4961d44baa"
      },
      "source": [
        "## launch the previous graph\n",
        "with tf.Session(graph=g) as sess:\n",
        "    ## execution without feeding tf_c\n",
        "    feed = {tf_a: 1,\n",
        "            tf_b: 2}\n",
        "    print('r1:', \n",
        "          sess.run(r1, feed_dict=feed))\n",
        "    print('r2:', \n",
        "          sess.run(r2, feed_dict=feed))\n",
        "    \n",
        "    ## execution with feeding tf_c\n",
        "    feed = {tf_a: 1,\n",
        "            tf_b: 2,\n",
        "            tf_c: 3}\n",
        "    print('r1:', \n",
        "          sess.run(r1, feed_dict=feed))\n",
        "    print('r2:', \n",
        "          sess.run(r2, feed_dict=feed))"
      ],
      "execution_count": 7,
      "outputs": [
        {
          "output_type": "stream",
          "text": [
            "r1: -1\n",
            "r2: -2\n",
            "r1: -1\n",
            "r2: -2\n"
          ],
          "name": "stdout"
        }
      ]
    },
    {
      "cell_type": "code",
      "metadata": {
        "id": "EQfvxtH95CvH",
        "colab_type": "code",
        "colab": {
          "base_uri": "https://localhost:8080/",
          "height": 85
        },
        "outputId": "257264dc-bf9a-4142-aa2d-52b5b09f540b"
      },
      "source": [
        "g = tf.Graph()\n",
        "\n",
        "with g.as_default():\n",
        "    tf_x = tf.placeholder(tf.float32, \n",
        "                          shape=[None, 2],\n",
        "                          name='tf_x')\n",
        "    \n",
        "    x_mean = tf.reduce_mean(tf_x, \n",
        "                          axis=0, \n",
        "                          name='mean')\n",
        "\n",
        "\n",
        "np.random.seed(123)\n",
        "np.set_printoptions(precision=2)\n",
        "\n",
        "with tf.Session(graph=g) as sess:\n",
        "    x1 = np.random.uniform(low=0, high=1, \n",
        "                           size=(5,2))\n",
        "    print('Feeding data with shape', x1.shape)\n",
        "    print('Result:', sess.run(x_mean, \n",
        "                             feed_dict={tf_x:x1}))\n",
        "    x2 = np.random.uniform(low=0, high=1, \n",
        "                           size=(10,2))\n",
        "    print('Feeding data with shape', x2.shape)\n",
        "    print('Result:', sess.run(x_mean, \n",
        "                             feed_dict={tf_x:x2}))"
      ],
      "execution_count": 8,
      "outputs": [
        {
          "output_type": "stream",
          "text": [
            "Feeding data with shape (5, 2)\n",
            "Result: [0.62 0.47]\n",
            "Feeding data with shape (10, 2)\n",
            "Result: [0.46 0.49]\n"
          ],
          "name": "stdout"
        }
      ]
    },
    {
      "cell_type": "code",
      "metadata": {
        "id": "wuEiwNMi5ISa",
        "colab_type": "code",
        "colab": {
          "base_uri": "https://localhost:8080/",
          "height": 34
        },
        "outputId": "fd90631e-154a-43c7-f0ef-5085af3c2965"
      },
      "source": [
        "print(tf_x)"
      ],
      "execution_count": 9,
      "outputs": [
        {
          "output_type": "stream",
          "text": [
            "Tensor(\"tf_x:0\", shape=(?, 2), dtype=float32)\n"
          ],
          "name": "stdout"
        }
      ]
    },
    {
      "cell_type": "code",
      "metadata": {
        "id": "SM5a-gI-5LWo",
        "colab_type": "code",
        "colab": {
          "base_uri": "https://localhost:8080/",
          "height": 34
        },
        "outputId": "e8f92492-db99-4f5d-c974-3f7a14c1e1fb"
      },
      "source": [
        "g1 = tf.Graph()\n",
        "\n",
        "with g1.as_default():\n",
        "    w = tf.Variable(np.array([[1, 2, 3, 4],\n",
        "                              [5, 6, 7, 8]]), name='w')\n",
        "    print(w)"
      ],
      "execution_count": 10,
      "outputs": [
        {
          "output_type": "stream",
          "text": [
            "<tf.Variable 'w:0' shape=(2, 4) dtype=int64_ref>\n"
          ],
          "name": "stdout"
        }
      ]
    },
    {
      "cell_type": "code",
      "metadata": {
        "id": "JmrinRzC5Oo4",
        "colab_type": "code",
        "colab": {
          "base_uri": "https://localhost:8080/",
          "height": 51
        },
        "outputId": "3055f498-6278-4bde-e8ac-759a812de289"
      },
      "source": [
        "## initialize w and evaluate it\n",
        "with tf.Session(graph=g1) as sess:\n",
        "    sess.run(tf.global_variables_initializer())\n",
        "    print(sess.run(w))"
      ],
      "execution_count": 11,
      "outputs": [
        {
          "output_type": "stream",
          "text": [
            "[[1 2 3 4]\n",
            " [5 6 7 8]]\n"
          ],
          "name": "stdout"
        }
      ]
    },
    {
      "cell_type": "code",
      "metadata": {
        "id": "-CX5Biy_5SsR",
        "colab_type": "code",
        "colab": {
          "base_uri": "https://localhost:8080/",
          "height": 51
        },
        "outputId": "bc73bbce-759b-4b84-d1e3-b402c71839d5"
      },
      "source": [
        "## add the init_op to the graph\n",
        "with g1.as_default():\n",
        "    init_op = tf.global_variables_initializer()\n",
        "    \n",
        "## initialize w with init_op and evaluate it\n",
        "with tf.Session(graph=g1) as sess:\n",
        "    sess.run(init_op)\n",
        "    print(sess.run(w))"
      ],
      "execution_count": 12,
      "outputs": [
        {
          "output_type": "stream",
          "text": [
            "[[1 2 3 4]\n",
            " [5 6 7 8]]\n"
          ],
          "name": "stdout"
        }
      ]
    },
    {
      "cell_type": "code",
      "metadata": {
        "id": "ckGi2K3I5WzS",
        "colab_type": "code",
        "colab": {}
      },
      "source": [
        "g2 = tf.Graph()\n",
        "\n",
        "with g2.as_default():\n",
        "    w1 = tf.Variable(1, name='w1')\n",
        "    init_op = tf.global_variables_initializer()\n",
        "    w2 = tf.Variable(2, name='w2')"
      ],
      "execution_count": 0,
      "outputs": []
    },
    {
      "cell_type": "code",
      "metadata": {
        "id": "8FU1DSkO5apz",
        "colab_type": "code",
        "colab": {
          "base_uri": "https://localhost:8080/",
          "height": 34
        },
        "outputId": "eec4b155-6dfc-4abd-f815-f3b1d9d46dc2"
      },
      "source": [
        "with tf.Session(graph=g2) as sess:\n",
        "    sess.run(init_op)\n",
        "    print('w1:', sess.run(w1))"
      ],
      "execution_count": 14,
      "outputs": [
        {
          "output_type": "stream",
          "text": [
            "w1: 1\n"
          ],
          "name": "stdout"
        }
      ]
    },
    {
      "cell_type": "code",
      "metadata": {
        "id": "AIdxpbUt5dGJ",
        "colab_type": "code",
        "colab": {
          "base_uri": "https://localhost:8080/",
          "height": 51
        },
        "outputId": "0c69cacc-8ee7-4ea2-8008-d15d275b7976"
      },
      "source": [
        "with tf.Session(graph=g2) as sess:\n",
        "    \n",
        "    try:\n",
        "        sess.run(init_op)\n",
        "        print('w2:', sess.run(w2))\n",
        "    except tf.errors.FailedPreconditionError as e:\n",
        "        print(e)"
      ],
      "execution_count": 15,
      "outputs": [
        {
          "output_type": "stream",
          "text": [
            "Attempting to use uninitialized value w2\n",
            "\t [[{{node _retval_w2_0_0}}]]\n"
          ],
          "name": "stdout"
        }
      ]
    },
    {
      "cell_type": "code",
      "metadata": {
        "id": "Qc0Np03Z5i5h",
        "colab_type": "code",
        "colab": {
          "base_uri": "https://localhost:8080/",
          "height": 68
        },
        "outputId": "920376b9-fc27-4afe-a511-d79b0dd84826"
      },
      "source": [
        "g = tf.Graph()\n",
        "\n",
        "with g.as_default():\n",
        "    with tf.variable_scope('net_A'):\n",
        "        with tf.variable_scope('layer-1'):\n",
        "            w1 = tf.Variable(tf.random_normal(\n",
        "                shape=(10,4)), name='weights')\n",
        "        with tf.variable_scope('layer-2'):\n",
        "            w2 = tf.Variable(tf.random_normal(\n",
        "                shape=(20,10)), name='weights')\n",
        "    with tf.variable_scope('net_B'):\n",
        "        with tf.variable_scope('layer-1'):\n",
        "            w3 = tf.Variable(tf.random_normal(\n",
        "                shape=(10,4)), name='weights')\n",
        "\n",
        "    print(w1)\n",
        "    print(w2)\n",
        "    print(w3)"
      ],
      "execution_count": 16,
      "outputs": [
        {
          "output_type": "stream",
          "text": [
            "<tf.Variable 'net_A/layer-1/weights:0' shape=(10, 4) dtype=float32_ref>\n",
            "<tf.Variable 'net_A/layer-2/weights:0' shape=(20, 10) dtype=float32_ref>\n",
            "<tf.Variable 'net_B/layer-1/weights:0' shape=(10, 4) dtype=float32_ref>\n"
          ],
          "name": "stdout"
        }
      ]
    },
    {
      "cell_type": "code",
      "metadata": {
        "id": "vz-G8XXv6LhP",
        "colab_type": "code",
        "colab": {}
      },
      "source": [
        ""
      ],
      "execution_count": 0,
      "outputs": []
    }
  ]
}